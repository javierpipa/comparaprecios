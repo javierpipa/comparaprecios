{
 "cells": [
  {
   "cell_type": "code",
   "execution_count": 1,
   "metadata": {},
   "outputs": [
    {
     "name": "stdout",
     "output_type": "stream",
     "text": [
      "/home/javier\n"
     ]
    },
    {
     "name": "stderr",
     "output_type": "stream",
     "text": [
      "[nltk_data] Downloading package stopwords to /home/javier/nltk_data...\n",
      "[nltk_data]   Package stopwords is already up-to-date!\n",
      "[nltk_data] Downloading package wordnet to /home/javier/nltk_data...\n",
      "[nltk_data]   Package wordnet is already up-to-date!\n"
     ]
    }
   ],
   "source": [
    "from django_for_jupyter import init_django\n",
    "init_django()"
   ]
  },
  {
   "cell_type": "code",
   "execution_count": 2,
   "metadata": {},
   "outputs": [],
   "source": [
    "from precios.pi_supermercado import product_details_fromsoup, find_product_details_in_ld_json_selenium\n",
    "from precios.views_supermercado import  ajax_url_ld_json\n",
    "from precios.models import (Marcas, Articulos, Vendedores, Unifica, Settings,SiteURLResults)\n",
    "from precios.pi_functions import set_headers\n",
    "import json \n",
    "import requests\n",
    "from bs4 import BeautifulSoup\n",
    "import pprint\n",
    "from precios.pi_get import product_details_fromsoup_breadcrumb,set_beautifulBrowser\n",
    "\n"
   ]
  },
  {
   "cell_type": "code",
   "execution_count": 4,
   "metadata": {},
   "outputs": [
    {
     "data": {
      "text/plain": [
       "[{'position': 1,\n",
       "  'name': 'Guallarauco',\n",
       "  'item': 'https://www.economix.cl/product/helado-frutilla-naranja-con-chocolate-56gr-envase/brand/guallarauco'},\n",
       " {'position': 2,\n",
       "  'name': 'Helado Frutilla Naranja Con Chocolate 56gr Envase ',\n",
       "  'item': ''}]"
      ]
     },
     "execution_count": 4,
     "metadata": {},
     "output_type": "execute_result"
    }
   ],
   "source": [
    "# laurl = SiteURLResults.objects.get(id=751071)\n",
    "# url = laurl.url\n",
    "url = \"https://www.economix.cl/product/helado-frutilla-naranja-con-chocolate-56gr-envase\"\n",
    "\n",
    "browser = set_beautifulBrowser(url, url)\n",
    "headers = set_headers()\n",
    "\n",
    "\n",
    "try:\n",
    "    page2 = requests.get(url, headers, timeout=4.50)\n",
    "except requests.HTTPError:\n",
    "    print('error 1')\n",
    "except:\n",
    "    print('error 2')\n",
    "\n",
    "soup2 = BeautifulSoup(page2.content, \"html.parser\")\n",
    "ld_json_tags = soup2.find_all('script', type='application/ld+json')\n",
    "ld_response = product_details_fromsoup(ld_json_tags, is_selenium=False)\n",
    "ld_response_bread = product_details_fromsoup_breadcrumb(ld_json_tags, is_selenium=False)\n",
    "ld_response_bread\n",
    "\n",
    "\n",
    "# is_ld_json, ld_json, crawler = ajax_url_ld_json([\"https://www.economix.cl/product/helado-frutilla-naranja-con-chocolate-56gr-envase\"])\n",
    "# # is_ld_json, ld_json, crawler = ajax_url_ld_json(['https://vettershop.cl/producto/crema-colun-light-6-unidades-x-200ml/'])\n",
    "# # is_ld_json, ld_json, crawler = ajax_url_ld_json([\"https://sotocopias.cl/yute-color-liso-50-grs-kinder-mix\"])\n",
    "\n",
    "# # print(f'chro={ld_json} is_ld_json={is_ld_json}, crawler={crawler}')\n",
    "\n",
    "# ld_json\n"
   ]
  }
 ],
 "metadata": {
  "kernelspec": {
   "display_name": "venv",
   "language": "python",
   "name": "python3"
  },
  "language_info": {
   "codemirror_mode": {
    "name": "ipython",
    "version": 3
   },
   "file_extension": ".py",
   "mimetype": "text/x-python",
   "name": "python",
   "nbconvert_exporter": "python",
   "pygments_lexer": "ipython3",
   "version": "3.10.12"
  },
  "orig_nbformat": 4
 },
 "nbformat": 4,
 "nbformat_minor": 2
}
