{
 "cells": [
  {
   "cell_type": "code",
   "execution_count": 1,
   "metadata": {},
   "outputs": [],
   "source": [
    "from django_for_jupyter import init_django\n",
    "\n",
    "init_django()"
   ]
  },
  {
   "cell_type": "code",
   "execution_count": 2,
   "metadata": {},
   "outputs": [],
   "source": [
    "from precios.models import (\n",
    "    Settings,\n",
    "    Site, \n",
    "    SiteURLResults\n",
    ")\n",
    "import csv\n",
    "import codecs\n",
    "\n",
    "from django.views import View\n",
    "from django.http import HttpResponse\n",
    "\n"
   ]
  },
  {
   "cell_type": "code",
   "execution_count": 3,
   "metadata": {},
   "outputs": [],
   "source": [
    "siteid = 4\n",
    "siteUrls = SiteURLResults.objects.filter(site__id=siteid)"
   ]
  },
  {
   "cell_type": "code",
   "execution_count": 4,
   "metadata": {},
   "outputs": [],
   "source": [
    "\n",
    "\n",
    "response = HttpResponse(content_type=\"text/csv\")\n",
    "response[\"Content-Disposition\"] = 'attachment; filename=\"~/URLResults.csv\"'\n",
    "\n",
    "# Force response to be UTF-8 - This is where the magic happens\n",
    "response.write(codecs.BOM_UTF8)\n",
    "\n",
    "\n",
    "header = [\n",
    "    \"site\",\n",
    "    \"url\",\n",
    "    \"error404\",\n",
    "    \"created\",\n",
    "]\n",
    "\n",
    "writer = csv.DictWriter(response, fieldnames=header)\n",
    "writer.writeheader()\n",
    "\n",
    "for url in siteUrls:\n",
    "    writer.writerow(\n",
    "        {\n",
    "            \"site\": url.site,\n",
    "            \"url\": url.url,\n",
    "            \"error404\": url.error404,\n",
    "            \"created\": url.created,\n",
    "        }\n",
    "    )\n",
    "    \n",
    "response.close()"
   ]
  }
 ],
 "metadata": {
  "kernelspec": {
   "display_name": "venv",
   "language": "python",
   "name": "python3"
  },
  "language_info": {
   "codemirror_mode": {
    "name": "ipython",
    "version": 3
   },
   "file_extension": ".py",
   "mimetype": "text/x-python",
   "name": "python",
   "nbconvert_exporter": "python",
   "pygments_lexer": "ipython3",
   "version": "3.10.6"
  },
  "orig_nbformat": 4
 },
 "nbformat": 4,
 "nbformat_minor": 2
}
