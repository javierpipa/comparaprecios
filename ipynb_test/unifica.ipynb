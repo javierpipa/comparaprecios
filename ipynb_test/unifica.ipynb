{
 "cells": [
  {
   "cell_type": "code",
   "execution_count": 1,
   "metadata": {},
   "outputs": [
    {
     "name": "stdout",
     "output_type": "stream",
     "text": [
      "/home/javier/hd1/Codigo/JAVIER/test1/comparaprecios-1\n"
     ]
    }
   ],
   "source": [
    "%reset -f\n",
    "from django_for_jupyter import init_django\n",
    "init_django()"
   ]
  },
  {
   "cell_type": "code",
   "execution_count": 2,
   "metadata": {},
   "outputs": [],
   "source": [
    "from precios.models import (Marcas, Articulos, Vendedores, Unifica, Settings)\n",
    "\n",
    "from precios.pi_get import (\n",
    "    reemplaza_palabras\n",
    ")\n",
    "from precios.pi_rules import (\n",
    "    intenta_marca,\n",
    ")   \n",
    "# from precios.pi_get import obtener_grados"
   ]
  },
  {
   "cell_type": "code",
   "execution_count": 3,
   "metadata": {},
   "outputs": [],
   "source": [
    "\n",
    "# marca = Marcas.objects.filter(nombre=\"pampers\").get()\n",
    "# marca = Marcas.objects.filter(nombre=\"alto del carmen\").get()\n",
    "marca = Marcas.objects.filter(nombre=\"brujas de salamanca\").get()\n",
    "# marca = Marcas.objects.filter(nombre=\"huggies\").get()\n",
    "nombre=None\n",
    "# nombre = 'pañales confort sec'\n",
    "# nombre = 'pañales desechables premium care'\n",
    "# intenta_marca(marca, True,nombre)"
   ]
  },
  {
   "cell_type": "code",
   "execution_count": 4,
   "metadata": {},
   "outputs": [
    {
     "name": "stdout",
     "output_type": "stream",
     "text": [
      "arroz grado 1 integral fibra plus\n"
     ]
    }
   ],
   "source": [
    "texto = 'arroz g 1 integral fibra plus'\n",
    "nombre = reemplaza_palabras(texto)\n",
    "print(nombre)\n",
    "\n"
   ]
  },
  {
   "cell_type": "code",
   "execution_count": 6,
   "metadata": {},
   "outputs": [
    {
     "name": "stdout",
     "output_type": "stream",
     "text": [
      "['wild turkey american honey 35.5° 750ml', 'whisky johnnie walker gold reserve 750 ml 40°', 'vodka skyy honey apple 37.5° - 750 ml', 'vodka original 37.5° 700 cc']\n"
     ]
    }
   ],
   "source": [
    "import re\n",
    "\n",
    "def replace_comma_in_degrees(text):\n",
    "    # return re.sub(r'(\\d+),(\\d+)°', r'\\1.\\2°', text)\n",
    "    text = re.sub(r'(\\d+),(\\d+)°', r'\\1.\\2°', text)\n",
    "    # Eliminar 'gl' si está presente al lado derecho de '°'\n",
    "    text = re.sub(r'°\\s*gl', '°', text)\n",
    "    return text\n",
    "\n",
    "# Ejemplo de uso\n",
    "texts = [\n",
    "    \"wild turkey american honey 35,5° 750ml\",\n",
    "    \"whisky johnnie walker gold reserve 750 ml 40°\",\n",
    "    \"vodka skyy honey apple 37,5° gl - 750 ml\",\n",
    "    \"vodka original 37.5° 700 cc\"\n",
    "]\n",
    "\n",
    "results = [replace_comma_in_degrees(text) for text in texts]\n",
    "print(results)"
   ]
  }
 ],
 "metadata": {
  "kernelspec": {
   "display_name": "Python 3",
   "language": "python",
   "name": "python3"
  },
  "language_info": {
   "codemirror_mode": {
    "name": "ipython",
    "version": 3
   },
   "file_extension": ".py",
   "mimetype": "text/x-python",
   "name": "python",
   "nbconvert_exporter": "python",
   "pygments_lexer": "ipython3",
   "version": "3.10.12"
  },
  "orig_nbformat": 4
 },
 "nbformat": 4,
 "nbformat_minor": 2
}
