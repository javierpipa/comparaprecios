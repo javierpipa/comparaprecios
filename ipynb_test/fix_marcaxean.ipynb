{
 "cells": [
  {
   "cell_type": "code",
   "execution_count": 1,
   "metadata": {},
   "outputs": [
    {
     "name": "stdout",
     "output_type": "stream",
     "text": [
      "/home/javier/hd1/Codigo/JAVIER/test1/comparaprecios-1\n"
     ]
    },
    {
     "name": "stderr",
     "output_type": "stream",
     "text": [
      "[nltk_data] Downloading package stopwords to /home/javier/nltk_data...\n",
      "[nltk_data]   Package stopwords is already up-to-date!\n",
      "[nltk_data] Downloading package wordnet to /home/javier/nltk_data...\n",
      "[nltk_data]   Package wordnet is already up-to-date!\n"
     ]
    }
   ],
   "source": [
    "%reset -f\n",
    "from django_for_jupyter import init_django\n",
    "init_django()"
   ]
  },
  {
   "cell_type": "code",
   "execution_count": 14,
   "metadata": {},
   "outputs": [],
   "source": [
    "from precios.models import (Site, \n",
    "                            Marcas, \n",
    "                            Articulos, \n",
    "                            Vendedores, \n",
    "                            Unifica, \n",
    "                            Settings, \n",
    "                            SiteURLResults,\n",
    "                            TaggedArticles,\n",
    "                            )\n",
    "\n",
    "from taggit.models import  Tag\n",
    "from precios.pi_get import (\n",
    "    reemplaza_palabras,\n",
    "    get_marcas_que_me_apuntan\n",
    ")\n",
    "from precios.pi_rules import (\n",
    "    intenta_marca,\n",
    ")   \n",
    "from django.db.models import Count"
   ]
  },
  {
   "cell_type": "code",
   "execution_count": null,
   "metadata": {},
   "outputs": [],
   "source": [
    "sites_ean = Site.objects.filter(es_ean13=True).values_list('id', flat=True)\n",
    "ids_ean = SiteURLResults.objects.filter(site__id__in=sites_ean).values('idproducto').annotate(num_marcas=Count('marca', distinct=True)).order_by('num_marcas').filter(num_marcas__gt=1)\n",
    "# ids_ean = ids_ean.filter(idproducto='9002490100070')\n",
    "print(len(ids_ean))"
   ]
  },
  {
   "cell_type": "code",
   "execution_count": null,
   "metadata": {},
   "outputs": [],
   "source": [
    "def is_marca(marca_str):\n",
    "    if Marcas.objects.filter(nombre=marca_str, es_marca=True).exists():\n",
    "        la_marca = Marcas.objects.filter(nombre=marca_str, es_marca=True).get()\n",
    "        \n",
    "        return 'habilitada', la_marca.resultsCount\n",
    "    if Marcas.objects.filter(nombre=marca_str, es_marca=False).exists():\n",
    "        la_marca = Marcas.objects.filter(nombre=marca_str, es_marca=False).get()\n",
    "        # get_marcas_que_me_apuntan(la_marca)\n",
    "        return 'des-habilitada', la_marca.resultsCount\n",
    "    \n",
    "    return 'no existe', 0"
   ]
  },
  {
   "cell_type": "code",
   "execution_count": null,
   "metadata": {},
   "outputs": [],
   "source": [
    "# ============================\n",
    "# siteurlresults\n",
    "for id_ean in ids_ean[1320:]:\n",
    "\n",
    "    marcas = SiteURLResults.objects.filter(idproducto=id_ean['idproducto']).values('marca').annotate(num_marcas2=Count('marca')).order_by('marca')\n",
    "    # .filter(num_marcas__gt=1)\n",
    "    print('=====================================')\n",
    "    \n",
    "    print(id_ean['idproducto'], 'numero de marcas=',id_ean['num_marcas'])\n",
    "\n",
    "    todas_habilitadas       = True\n",
    "    todas_deshabilitadas    = True\n",
    "    diferentes              = False\n",
    "    maximo_marca            = 0\n",
    "    que_marca               = ''\n",
    "    for marca in marcas:\n",
    "        es_marca, cuantos = is_marca(marca['marca'])\n",
    "        if es_marca == 'habilitada' :\n",
    "            todas_deshabilitadas = False\n",
    "        if es_marca == 'des-habilitada' :\n",
    "            todas_habilitadas = False\n",
    "        if es_marca == 'no existe':\n",
    "            todas_habilitadas = False\n",
    "\n",
    "        if cuantos > maximo_marca:\n",
    "            maximo_marca = cuantos\n",
    "            que_marca    = marca['marca']\n",
    "\n",
    "        cuales = SiteURLResults.objects.filter(idproducto=id_ean['idproducto'], marca=marca['marca'])\n",
    "        if es_marca == 'habilitada' :\n",
    "            print(marca, es_marca, cuantos)\n",
    "        # for cual in cuales:\n",
    "        #     print(cual.nombre)\n",
    "\n",
    "        # print('---------------------------------')\n",
    "\n",
    "    if todas_habilitadas:\n",
    "        print(f'Todas habilitadas, necesita regla por marca hacia: |{que_marca}|')\n",
    "    if todas_deshabilitadas:\n",
    "        print('Todas Deshabilitadas, nada que hacer')\n"
   ]
  }
 ],
 "metadata": {
  "kernelspec": {
   "display_name": "Python 3",
   "language": "python",
   "name": "python3"
  },
  "language_info": {
   "codemirror_mode": {
    "name": "ipython",
    "version": 3
   },
   "file_extension": ".py",
   "mimetype": "text/x-python",
   "name": "python",
   "nbconvert_exporter": "python",
   "pygments_lexer": "ipython3",
   "version": "3.10.12"
  }
 },
 "nbformat": 4,
 "nbformat_minor": 2
}
