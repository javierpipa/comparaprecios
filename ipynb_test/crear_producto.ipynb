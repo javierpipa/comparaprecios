{
 "cells": [
  {
   "cell_type": "code",
   "execution_count": 1,
   "metadata": {},
   "outputs": [
    {
     "name": "stdout",
     "output_type": "stream",
     "text": [
      "/home/javier\n"
     ]
    },
    {
     "name": "stderr",
     "output_type": "stream",
     "text": [
      "[nltk_data] Downloading package stopwords to /home/javier/nltk_data...\n",
      "[nltk_data]   Package stopwords is already up-to-date!\n",
      "[nltk_data] Downloading package wordnet to /home/javier/nltk_data...\n",
      "[nltk_data]   Package wordnet is already up-to-date!\n"
     ]
    }
   ],
   "source": [
    "from django_for_jupyter import init_django\n",
    "\n",
    "init_django()"
   ]
  },
  {
   "cell_type": "code",
   "execution_count": 2,
   "metadata": {},
   "outputs": [],
   "source": [
    "from precios.pi_get import (\n",
    "    obtener_marca,\n",
    "    reemplaza_palabras,\n",
    "    remove_duplicates\n",
    ")\n",
    "from precios.models import (\n",
    "    Site, SiteURLResults, Marcas, Articulos, Vendedores, Unifica\n",
    ")"
   ]
  },
  {
   "cell_type": "code",
   "execution_count": 3,
   "metadata": {},
   "outputs": [
    {
     "name": "stdout",
     "output_type": "stream",
     "text": [
      "nombre=|naturezza crema choclo 79gr sobre    79gr sobre|, marca =|sopa|\n",
      "nombre=|naturezza crema choclo 79gr sobre    79gr sobre|, marca =|sopa|\n",
      "nombre=|crema choclo 79gr sobre    79gr sobre|, marca =|naturezza|\n",
      "nombre=|crema choclo 79gr sobre|, marca =|naturezza|\n"
     ]
    }
   ],
   "source": [
    "# url = SiteURLResults.objects.get(pk=126650)\n",
    "url = SiteURLResults.objects.get(pk=764379)\n",
    "\n",
    "nombre = url.nombre\n",
    "newmarca_str = url.marca\n",
    "\n",
    "print(f'nombre=|{nombre}|, marca =|{newmarca_str}|')\n",
    "nombre = reemplaza_palabras(nombre)\n",
    "print(f'nombre=|{nombre}|, marca =|{newmarca_str}|')\n",
    "\n",
    "nombre, newmarca_str    = obtener_marca(nombre, newmarca_str)\n",
    "print(f'nombre=|{nombre}|, marca =|{newmarca_str}|')\n",
    "\n",
    "nombre = remove_duplicates(nombre)\n",
    "print(f'nombre=|{nombre}|, marca =|{newmarca_str}|')"
   ]
  },
  {
   "cell_type": "code",
   "execution_count": null,
   "metadata": {},
   "outputs": [],
   "source": []
  }
 ],
 "metadata": {
  "kernelspec": {
   "display_name": "venv",
   "language": "python",
   "name": "python3"
  },
  "language_info": {
   "codemirror_mode": {
    "name": "ipython",
    "version": 3
   },
   "file_extension": ".py",
   "mimetype": "text/x-python",
   "name": "python",
   "nbconvert_exporter": "python",
   "pygments_lexer": "ipython3",
   "version": "3.10.12"
  }
 },
 "nbformat": 4,
 "nbformat_minor": 2
}
