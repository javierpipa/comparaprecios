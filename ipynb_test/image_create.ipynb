{
 "cells": [
  {
   "cell_type": "code",
   "execution_count": 5,
   "metadata": {},
   "outputs": [],
   "source": [
    "from PIL import Image\n",
    "\n",
    "def message_to_bin(message):\n",
    "    binary_message = ''.join(format(ord(i), '08b') for i in message)\n",
    "    return binary_message\n",
    "\n",
    "def hide_message(image_path, message, output_path):\n",
    "    image = Image.open(image_path)\n",
    "    binary_message = message_to_bin(message)\n",
    "    binary_message += '1111111111111110'  # Añade un delimitador al final del mensaje\n",
    "    data = list(image.getdata())\n",
    "    new_data = []\n",
    "    message_index = 0\n",
    "\n",
    "    for pixel in data:\n",
    "        new_pixel = []\n",
    "        for color in pixel[:3]:  # Ignoramos el canal alfa si existe\n",
    "            if message_index < len(binary_message):\n",
    "                new_color = color & 0b11111110  # Limpia el bit menos significativo\n",
    "                new_color |= int(binary_message[message_index])  # Añade el bit del mensaje\n",
    "                new_pixel.append(new_color)\n",
    "                message_index += 1\n",
    "            else:\n",
    "                new_pixel.append(color)\n",
    "        if len(pixel) == 4:  # Si hay un canal alfa, añádelo sin cambios\n",
    "            new_pixel.append(pixel[3])\n",
    "        new_data.append(tuple(new_pixel))\n",
    "\n",
    "    new_image = Image.new(image.mode, image.size)\n",
    "    new_image.putdata(new_data)\n",
    "    new_image.save(output_path)\n",
    "\n",
    "# Uso del programa\n",
    "hide_message(\"../aa.png\", \"Hola Javier Pi\", \"../aa_con_mensaje.png\")"
   ]
  },
  {
   "cell_type": "code",
   "execution_count": 6,
   "metadata": {},
   "outputs": [
    {
     "name": "stdout",
     "output_type": "stream",
     "text": [
      "Hola Javier Pi\n"
     ]
    }
   ],
   "source": [
    "def bin_to_message(binary_message):\n",
    "    chars = [chr(int(binary_message[i:i+8], 2)) for i in range(0, len(binary_message), 8)]\n",
    "    return ''.join(chars)\n",
    "\n",
    "def extract_message(image_path):\n",
    "    image = Image.open(image_path)\n",
    "    data = list(image.getdata())\n",
    "    binary_message = \"\"\n",
    "\n",
    "    for pixel in data:\n",
    "        for color in pixel[:3]:\n",
    "            binary_message += str(color & 1)  # Toma el bit menos significativo\n",
    "\n",
    "    # Busca el delimitador al final del mensaje\n",
    "    delimiter = '1111111111111110'\n",
    "    message_end = binary_message.find(delimiter)\n",
    "    if message_end != -1:\n",
    "        binary_message = binary_message[:message_end]\n",
    "    \n",
    "    return bin_to_message(binary_message)\n",
    "\n",
    "# Uso del programa\n",
    "print(extract_message(\"../aa_con_mensaje.png\"))\n"
   ]
  }
 ],
 "metadata": {
  "kernelspec": {
   "display_name": "venv",
   "language": "python",
   "name": "python3"
  },
  "language_info": {
   "codemirror_mode": {
    "name": "ipython",
    "version": 3
   },
   "file_extension": ".py",
   "mimetype": "text/x-python",
   "name": "python",
   "nbconvert_exporter": "python",
   "pygments_lexer": "ipython3",
   "version": "3.10.12"
  },
  "orig_nbformat": 4
 },
 "nbformat": 4,
 "nbformat_minor": 2
}
