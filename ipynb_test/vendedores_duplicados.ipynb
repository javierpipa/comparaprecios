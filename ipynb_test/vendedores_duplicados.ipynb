{
 "cells": [
  {
   "cell_type": "code",
   "execution_count": null,
   "metadata": {},
   "outputs": [],
   "source": [
    "%reset -f\n",
    "from django_for_jupyter import init_django\n",
    "init_django()"
   ]
  },
  {
   "cell_type": "code",
   "execution_count": null,
   "metadata": {},
   "outputs": [],
   "source": [
    "from precios.models import (Marcas, Articulos, Vendedores, Unifica, Settings)\n",
    "\n",
    "\n",
    "from precios.pi_functions import (\n",
    "    intenta_marca,\n",
    "    create_PD_From\n",
    ")   "
   ]
  },
  {
   "cell_type": "code",
   "execution_count": null,
   "metadata": {},
   "outputs": [],
   "source": [
    "marca = Marcas.objects.filter(nombre=\"loncoleche\").get()\n",
    "# intenta_marca(marca, True)\n",
    "\n",
    "articles_from_all = Vendedores.objects.select_related('articulo','vendidoen')\n",
    "articles_from_all = articles_from_all.filter(articulo__marca=marca)\n",
    "articles_from_all = articles_from_all.exclude(vendidoen__precio=0)\n",
    "articles_from_all = articles_from_all.exclude(vendidoen__error404=True)\n",
    "articles_from_all = articles_from_all.distinct()\n",
    "c = create_PD_From(articles_from_all)"
   ]
  }
 ],
 "metadata": {
  "language_info": {
   "name": "python"
  },
  "orig_nbformat": 4
 },
 "nbformat": 4,
 "nbformat_minor": 2
}
