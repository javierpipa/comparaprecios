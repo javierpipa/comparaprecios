{
 "cells": [
  {
   "cell_type": "code",
   "execution_count": 1,
   "metadata": {},
   "outputs": [
    {
     "name": "stdout",
     "output_type": "stream",
     "text": [
      "/home/javier/hd1/Codigo/JAVIER/test1/comparaprecios-1\n"
     ]
    }
   ],
   "source": [
    "%reset -f\n",
    "from django_for_jupyter import init_django\n",
    "init_django()"
   ]
  },
  {
   "cell_type": "code",
   "execution_count": 2,
   "metadata": {},
   "outputs": [],
   "source": [
    "from precios.models import (Marcas, Articulos, Vendedores, Unifica, Settings)\n",
    "from tabulate import tabulate\n",
    "import pandas as pd\n",
    "from precios.pi_functions import (\n",
    "    intenta_marca,\n",
    "    create_PD_From\n",
    ")   "
   ]
  },
  {
   "cell_type": "code",
   "execution_count": 50,
   "metadata": {},
   "outputs": [
    {
     "data": {
      "text/plain": [
       "(24504, {'precios.Articulos': 24504})"
      ]
     },
     "execution_count": 50,
     "metadata": {},
     "output_type": "execute_result"
    }
   ],
   "source": [
    "# Unifica.objects.filter(automatico=True).delete() \n",
    "\n",
    "# Vendedores.objects.all().delete()\n",
    "# Articulos.objects.all().delete()"
   ]
  },
  {
   "cell_type": "code",
   "execution_count": 47,
   "metadata": {},
   "outputs": [],
   "source": [
    "# marca = Marcas.objects.filter(nombre=\"loncoleche\").get()\n",
    "# intenta_marca(marca, True)\n",
    "\n",
    "articles_from_all = Vendedores.objects.select_related('articulo','vendidoen')\n",
    "# articles_from_all = articles_from_all.filter(articulo__marca=marca)\n",
    "articles_from_all = articles_from_all.exclude(vendidoen__precio=0)\n",
    "articles_from_all = articles_from_all.exclude(vendidoen__error404=True)\n",
    "articles_from_all = articles_from_all.distinct()\n"
   ]
  },
  {
   "cell_type": "code",
   "execution_count": 48,
   "metadata": {},
   "outputs": [],
   "source": [
    "df_articulos = pd.DataFrame(list(articles_from_all.values('articulo__pk','articulo__marca','articulo__nombre','articulo__talla',)))\n",
    "df_articulos['quienesvenden']   = {}\n",
    "\n",
    "for cuenta, row in df_articulos.iterrows():\n",
    "    art = Articulos.objects.get(pk=row['articulo__pk'])\n",
    "    df_articulos.at[cuenta,'quienesvenden']         = art.quienesvenden()"
   ]
  },
  {
   "cell_type": "code",
   "execution_count": 49,
   "metadata": {},
   "outputs": [
    {
     "name": "stdout",
     "output_type": "stream",
     "text": [
      "+------+----------------+-------------------+-----------------------------------------+-------------------+-----------------+------------------+\n",
      "|      |   articulo__pk |   articulo__marca | articulo__nombre                        | articulo__talla   | quienesvenden   | has_duplicates   |\n",
      "|------+----------------+-------------------+-----------------------------------------+-------------------+-----------------+------------------|\n",
      "|  317 |       36511631 |           1116718 | lima para uñas                          |                   | [3, 3, 3]       | True             |\n",
      "|  670 |       36511984 |           1117595 | cepillo dientes ecológico suave bambú   |                   | [3, 3]          | True             |\n",
      "|  698 |       36512012 |           1115105 | enjuague bucal plax minions             |                   | [3, 3]          | True             |\n",
      "|  712 |       36512026 |           1115111 | protectores diarios tela suave          |                   | [3, 3]          | True             |\n",
      "|  748 |       36512062 |           1115114 | desodorante en barra floral             |                   | [3, 3]          | True             |\n",
      "|  801 |       36512115 |           1116658 | cepillo dientes + mini pasta dental     |                   | [3, 3, 3]       | True             |\n",
      "|  936 |       36512250 |           1115970 | desodorante aerosol bí-o protection 5   |                   | [3, 3]          | True             |\n",
      "| 1056 |       36512370 |           1117699 | multivitamínico                         |                   | [3, 3]          | True             |\n",
      "| 1119 |       36512433 |           1115970 | desodorante aerosol bí-o olor block     |                   | [3, 3]          | True             |\n",
      "| 1128 |       36512442 |           1115112 | desodorante aerosol aclarado natural    |                   | [3, 3]          | True             |\n",
      "| 1210 |       36512524 |           1115231 | desodorante barra xtra cool             |                   | [3, 3]          | True             |\n",
      "| 1697 |       36513011 |           1116272 | manteca cacao                           |                   | [3, 3]          | True             |\n",
      "| 1706 |       36513020 |           1115112 | crema facial antiarrugas q 10 día       |                   | [3, 3]          | True             |\n",
      "| 1716 |       36513030 |           1115055 | crema corporal dermocream diabetic skin |                   | [3, 3]          | True             |\n",
      "| 1774 |       36513088 |           1115055 | crema dermocream urea 10%               |                   | [3, 3]          | True             |\n",
      "| 1958 |       36513272 |           1115076 | probiótico uno frutilla                 |                   | [3, 3]          | True             |\n",
      "| 2186 |       36513500 |           1115107 | desodorante en spray xtreme             |                   | [3, 3]          | True             |\n",
      "| 2329 |       36513643 |           1116572 | aceite oliva extra virgen               |                   | [3, 3]          | True             |\n",
      "| 2630 |       36513944 |           1115239 | ropa interior pants discret             |                   | [3, 3]          | True             |\n",
      "| 2870 |       36514184 |           1115616 | sal fina                                |                   | [3, 3]          | True             |\n",
      "| 3069 |       36514383 |           1115140 | alimento húmedo perro pollo             |                   | [3, 3]          | True             |\n",
      "| 3612 |       36514926 |           1115075 | leche chocolate semidescremada          |                   | [3, 3]          | True             |\n",
      "| 4301 |       36515615 |           1116243 | crema corporal humectante               |                   | [3, 3]          | True             |\n",
      "| 4410 |       36515724 |           1115358 | endulzante stevia                       |                   | [3, 3]          | True             |\n",
      "| 4418 |       36515732 |           1115691 | endulzante líquido stevia               |                   | [3, 3]          | True             |\n",
      "| 4468 |       36515782 |           1116134 | ajo                                     |                   | [3, 3]          | True             |\n",
      "| 5544 |       36516858 |           1116107 | ketchup                                 |                   | [3, 3]          | True             |\n",
      "| 6153 |       36517467 |           1116641 | mamadera boca ancha                     |                   | [3, 3]          | True             |\n",
      "+------+----------------+-------------------+-----------------------------------------+-------------------+-----------------+------------------+\n"
     ]
    }
   ],
   "source": [
    "def has_duplicates(lst):\n",
    "    return len(lst) != len(set(lst))\n",
    "\n",
    "\n",
    "# Aplicar la función para encontrar listas con elementos duplicados\n",
    "df_articulos['has_duplicates'] = df_articulos['quienesvenden'].apply(has_duplicates)\n",
    "\n",
    "# Filtrar las filas que tienen listas con elementos duplicados\n",
    "df_filtered = df_articulos[df_articulos['has_duplicates']]\n",
    "\n",
    "# Mostrar las filas filtradas\n",
    "print(tabulate(df_filtered, headers = 'keys', tablefmt = 'psql'))\n"
   ]
  }
 ],
 "metadata": {
  "kernelspec": {
   "display_name": "venv",
   "language": "python",
   "name": "python3"
  },
  "language_info": {
   "codemirror_mode": {
    "name": "ipython",
    "version": 3
   },
   "file_extension": ".py",
   "mimetype": "text/x-python",
   "name": "python",
   "nbconvert_exporter": "python",
   "pygments_lexer": "ipython3",
   "version": "3.10.12"
  },
  "orig_nbformat": 4
 },
 "nbformat": 4,
 "nbformat_minor": 2
}
