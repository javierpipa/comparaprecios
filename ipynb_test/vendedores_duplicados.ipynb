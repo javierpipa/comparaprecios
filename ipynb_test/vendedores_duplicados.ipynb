{
 "cells": [
  {
   "cell_type": "code",
   "execution_count": 1,
   "metadata": {},
   "outputs": [
    {
     "name": "stdout",
     "output_type": "stream",
     "text": [
      "/home/javier/hd1/Codigo/JAVIER/test1/comparaprecios-1\n"
     ]
    },
    {
     "ename": "ValueError",
     "evalue": "Unable to configure handler 'default'",
     "output_type": "error",
     "traceback": [
      "\u001b[0;31m---------------------------------------------------------------------------\u001b[0m",
      "\u001b[0;31mFileNotFoundError\u001b[0m                         Traceback (most recent call last)",
      "File \u001b[0;32m/usr/lib/python3.10/logging/config.py:565\u001b[0m, in \u001b[0;36mDictConfigurator.configure\u001b[0;34m(self)\u001b[0m\n\u001b[1;32m    564\u001b[0m \u001b[39mtry\u001b[39;00m:\n\u001b[0;32m--> 565\u001b[0m     handler \u001b[39m=\u001b[39m \u001b[39mself\u001b[39;49m\u001b[39m.\u001b[39;49mconfigure_handler(handlers[name])\n\u001b[1;32m    566\u001b[0m     handler\u001b[39m.\u001b[39mname \u001b[39m=\u001b[39m name\n",
      "File \u001b[0;32m/usr/lib/python3.10/logging/config.py:746\u001b[0m, in \u001b[0;36mDictConfigurator.configure_handler\u001b[0;34m(self, config)\u001b[0m\n\u001b[1;32m    745\u001b[0m \u001b[39mtry\u001b[39;00m:\n\u001b[0;32m--> 746\u001b[0m     result \u001b[39m=\u001b[39m factory(\u001b[39m*\u001b[39;49m\u001b[39m*\u001b[39;49mkwargs)\n\u001b[1;32m    747\u001b[0m \u001b[39mexcept\u001b[39;00m \u001b[39mTypeError\u001b[39;00m \u001b[39mas\u001b[39;00m te:\n",
      "File \u001b[0;32m/usr/lib/python3.10/logging/handlers.py:155\u001b[0m, in \u001b[0;36mRotatingFileHandler.__init__\u001b[0;34m(self, filename, mode, maxBytes, backupCount, encoding, delay, errors)\u001b[0m\n\u001b[1;32m    154\u001b[0m     encoding \u001b[39m=\u001b[39m io\u001b[39m.\u001b[39mtext_encoding(encoding)\n\u001b[0;32m--> 155\u001b[0m BaseRotatingHandler\u001b[39m.\u001b[39;49m\u001b[39m__init__\u001b[39;49m(\u001b[39mself\u001b[39;49m, filename, mode, encoding\u001b[39m=\u001b[39;49mencoding,\n\u001b[1;32m    156\u001b[0m                              delay\u001b[39m=\u001b[39;49mdelay, errors\u001b[39m=\u001b[39;49merrors)\n\u001b[1;32m    157\u001b[0m \u001b[39mself\u001b[39m\u001b[39m.\u001b[39mmaxBytes \u001b[39m=\u001b[39m maxBytes\n",
      "File \u001b[0;32m/usr/lib/python3.10/logging/handlers.py:58\u001b[0m, in \u001b[0;36mBaseRotatingHandler.__init__\u001b[0;34m(self, filename, mode, encoding, delay, errors)\u001b[0m\n\u001b[1;32m     55\u001b[0m \u001b[39m\u001b[39m\u001b[39m\"\"\"\u001b[39;00m\n\u001b[1;32m     56\u001b[0m \u001b[39mUse the specified filename for streamed logging\u001b[39;00m\n\u001b[1;32m     57\u001b[0m \u001b[39m\"\"\"\u001b[39;00m\n\u001b[0;32m---> 58\u001b[0m logging\u001b[39m.\u001b[39;49mFileHandler\u001b[39m.\u001b[39;49m\u001b[39m__init__\u001b[39;49m(\u001b[39mself\u001b[39;49m, filename, mode\u001b[39m=\u001b[39;49mmode,\n\u001b[1;32m     59\u001b[0m                              encoding\u001b[39m=\u001b[39;49mencoding, delay\u001b[39m=\u001b[39;49mdelay,\n\u001b[1;32m     60\u001b[0m                              errors\u001b[39m=\u001b[39;49merrors)\n\u001b[1;32m     61\u001b[0m \u001b[39mself\u001b[39m\u001b[39m.\u001b[39mmode \u001b[39m=\u001b[39m mode\n",
      "File \u001b[0;32m/usr/lib/python3.10/logging/__init__.py:1169\u001b[0m, in \u001b[0;36mFileHandler.__init__\u001b[0;34m(self, filename, mode, encoding, delay, errors)\u001b[0m\n\u001b[1;32m   1168\u001b[0m \u001b[39melse\u001b[39;00m:\n\u001b[0;32m-> 1169\u001b[0m     StreamHandler\u001b[39m.\u001b[39m\u001b[39m__init__\u001b[39m(\u001b[39mself\u001b[39m, \u001b[39mself\u001b[39;49m\u001b[39m.\u001b[39;49m_open())\n",
      "File \u001b[0;32m/usr/lib/python3.10/logging/__init__.py:1201\u001b[0m, in \u001b[0;36mFileHandler._open\u001b[0;34m(self)\u001b[0m\n\u001b[1;32m   1200\u001b[0m open_func \u001b[39m=\u001b[39m \u001b[39mself\u001b[39m\u001b[39m.\u001b[39m_builtin_open\n\u001b[0;32m-> 1201\u001b[0m \u001b[39mreturn\u001b[39;00m open_func(\u001b[39mself\u001b[39;49m\u001b[39m.\u001b[39;49mbaseFilename, \u001b[39mself\u001b[39;49m\u001b[39m.\u001b[39;49mmode,\n\u001b[1;32m   1202\u001b[0m                  encoding\u001b[39m=\u001b[39;49m\u001b[39mself\u001b[39;49m\u001b[39m.\u001b[39;49mencoding, errors\u001b[39m=\u001b[39;49m\u001b[39mself\u001b[39;49m\u001b[39m.\u001b[39;49merrors)\n",
      "\u001b[0;31mFileNotFoundError\u001b[0m: [Errno 2] No such file or directory: '/home/javier/hd1/Codigo/JAVIER/cms-1/myproject/logs/default_log.log'",
      "\nThe above exception was the direct cause of the following exception:\n",
      "\u001b[0;31mValueError\u001b[0m                                Traceback (most recent call last)",
      "\u001b[1;32m/home/javier/hd1/Codigo/JAVIER/test1/comparaprecios-1/ipynb_test/vendedores_duplicados.ipynb Cell 1\u001b[0m line \u001b[0;36m3\n\u001b[1;32m      <a href='vscode-notebook-cell:/home/javier/hd1/Codigo/JAVIER/test1/comparaprecios-1/ipynb_test/vendedores_duplicados.ipynb#W0sZmlsZQ%3D%3D?line=0'>1</a>\u001b[0m get_ipython()\u001b[39m.\u001b[39mrun_line_magic(\u001b[39m'\u001b[39m\u001b[39mreset\u001b[39m\u001b[39m'\u001b[39m, \u001b[39m'\u001b[39m\u001b[39m-f\u001b[39m\u001b[39m'\u001b[39m)\n\u001b[1;32m      <a href='vscode-notebook-cell:/home/javier/hd1/Codigo/JAVIER/test1/comparaprecios-1/ipynb_test/vendedores_duplicados.ipynb#W0sZmlsZQ%3D%3D?line=1'>2</a>\u001b[0m \u001b[39mfrom\u001b[39;00m \u001b[39mdjango_for_jupyter\u001b[39;00m \u001b[39mimport\u001b[39;00m init_django\n\u001b[0;32m----> <a href='vscode-notebook-cell:/home/javier/hd1/Codigo/JAVIER/test1/comparaprecios-1/ipynb_test/vendedores_duplicados.ipynb#W0sZmlsZQ%3D%3D?line=2'>3</a>\u001b[0m init_django()\n",
      "File \u001b[0;32m~/hd1/Codigo/JAVIER/test1/comparaprecios-1/ipynb_test/django_for_jupyter.py:21\u001b[0m, in \u001b[0;36minit_django\u001b[0;34m(project_name)\u001b[0m\n\u001b[1;32m     19\u001b[0m os\u001b[39m.\u001b[39menviron\u001b[39m.\u001b[39msetdefault(\u001b[39m\"\u001b[39m\u001b[39mDJANGO_SETTINGS_MODULE\u001b[39m\u001b[39m\"\u001b[39m, \u001b[39mf\u001b[39m\u001b[39m'\u001b[39m\u001b[39m{\u001b[39;00mproject_name\u001b[39m}\u001b[39;00m\u001b[39m.settings\u001b[39m\u001b[39m'\u001b[39m)\n\u001b[1;32m     20\u001b[0m \u001b[39mimport\u001b[39;00m \u001b[39mdjango\u001b[39;00m\n\u001b[0;32m---> 21\u001b[0m django\u001b[39m.\u001b[39;49msetup()\n",
      "File \u001b[0;32m~/hd1/Codigo/JAVIER/test1/venv/lib/python3.10/site-packages/django/__init__.py:19\u001b[0m, in \u001b[0;36msetup\u001b[0;34m(set_prefix)\u001b[0m\n\u001b[1;32m     16\u001b[0m \u001b[39mfrom\u001b[39;00m \u001b[39mdjango\u001b[39;00m\u001b[39m.\u001b[39;00m\u001b[39murls\u001b[39;00m \u001b[39mimport\u001b[39;00m set_script_prefix\n\u001b[1;32m     17\u001b[0m \u001b[39mfrom\u001b[39;00m \u001b[39mdjango\u001b[39;00m\u001b[39m.\u001b[39;00m\u001b[39mutils\u001b[39;00m\u001b[39m.\u001b[39;00m\u001b[39mlog\u001b[39;00m \u001b[39mimport\u001b[39;00m configure_logging\n\u001b[0;32m---> 19\u001b[0m configure_logging(settings\u001b[39m.\u001b[39;49mLOGGING_CONFIG, settings\u001b[39m.\u001b[39;49mLOGGING)\n\u001b[1;32m     20\u001b[0m \u001b[39mif\u001b[39;00m set_prefix:\n\u001b[1;32m     21\u001b[0m     set_script_prefix(\n\u001b[1;32m     22\u001b[0m         \u001b[39m'\u001b[39m\u001b[39m/\u001b[39m\u001b[39m'\u001b[39m \u001b[39mif\u001b[39;00m settings\u001b[39m.\u001b[39mFORCE_SCRIPT_NAME \u001b[39mis\u001b[39;00m \u001b[39mNone\u001b[39;00m \u001b[39melse\u001b[39;00m settings\u001b[39m.\u001b[39mFORCE_SCRIPT_NAME\n\u001b[1;32m     23\u001b[0m     )\n",
      "File \u001b[0;32m~/hd1/Codigo/JAVIER/test1/venv/lib/python3.10/site-packages/django/utils/log.py:75\u001b[0m, in \u001b[0;36mconfigure_logging\u001b[0;34m(logging_config, logging_settings)\u001b[0m\n\u001b[1;32m     73\u001b[0m \u001b[39m# ... then invoke it with the logging settings\u001b[39;00m\n\u001b[1;32m     74\u001b[0m \u001b[39mif\u001b[39;00m logging_settings:\n\u001b[0;32m---> 75\u001b[0m     logging_config_func(logging_settings)\n",
      "File \u001b[0;32m/usr/lib/python3.10/logging/config.py:811\u001b[0m, in \u001b[0;36mdictConfig\u001b[0;34m(config)\u001b[0m\n\u001b[1;32m    809\u001b[0m \u001b[39mdef\u001b[39;00m \u001b[39mdictConfig\u001b[39m(config):\n\u001b[1;32m    810\u001b[0m \u001b[39m    \u001b[39m\u001b[39m\"\"\"Configure logging using a dictionary.\"\"\"\u001b[39;00m\n\u001b[0;32m--> 811\u001b[0m     dictConfigClass(config)\u001b[39m.\u001b[39;49mconfigure()\n",
      "File \u001b[0;32m/usr/lib/python3.10/logging/config.py:572\u001b[0m, in \u001b[0;36mDictConfigurator.configure\u001b[0;34m(self)\u001b[0m\n\u001b[1;32m    570\u001b[0m             deferred\u001b[39m.\u001b[39mappend(name)\n\u001b[1;32m    571\u001b[0m         \u001b[39melse\u001b[39;00m:\n\u001b[0;32m--> 572\u001b[0m             \u001b[39mraise\u001b[39;00m \u001b[39mValueError\u001b[39;00m(\u001b[39m'\u001b[39m\u001b[39mUnable to configure handler \u001b[39m\u001b[39m'\u001b[39m\n\u001b[1;32m    573\u001b[0m                              \u001b[39m'\u001b[39m\u001b[39m%r\u001b[39;00m\u001b[39m'\u001b[39m \u001b[39m%\u001b[39m name) \u001b[39mfrom\u001b[39;00m \u001b[39me\u001b[39;00m\n\u001b[1;32m    575\u001b[0m \u001b[39m# Now do any that were deferred\u001b[39;00m\n\u001b[1;32m    576\u001b[0m \u001b[39mfor\u001b[39;00m name \u001b[39min\u001b[39;00m deferred:\n",
      "\u001b[0;31mValueError\u001b[0m: Unable to configure handler 'default'"
     ]
    }
   ],
   "source": [
    "%reset -f\n",
    "from django_for_jupyter import init_django\n",
    "init_django()"
   ]
  },
  {
   "cell_type": "code",
   "execution_count": null,
   "metadata": {},
   "outputs": [],
   "source": [
    "from precios.models import (Marcas, Articulos, Vendedores, Unifica, Settings)\n",
    "from tabulate import tabulate\n",
    "\n",
    "from precios.pi_functions import (\n",
    "    intenta_marca,\n",
    "    create_PD_From\n",
    ")   "
   ]
  },
  {
   "cell_type": "code",
   "execution_count": null,
   "metadata": {},
   "outputs": [],
   "source": [
    "marca = Marcas.objects.filter(nombre=\"loncoleche\").get()\n",
    "# intenta_marca(marca, True)\n",
    "\n",
    "articles_from_all = Vendedores.objects.select_related('articulo','vendidoen')\n",
    "articles_from_all = articles_from_all.filter(articulo__marca=marca)\n",
    "articles_from_all = articles_from_all.exclude(vendidoen__precio=0)\n",
    "articles_from_all = articles_from_all.exclude(vendidoen__error404=True)\n",
    "articles_from_all = articles_from_all.distinct()\n",
    "c = create_PD_From(articles_from_all)"
   ]
  },
  {
   "cell_type": "code",
   "execution_count": null,
   "metadata": {},
   "outputs": [],
   "source": [
    "print(tabulate(c, headers = 'keys', tablefmt = 'psql'))\n"
   ]
  }
 ],
 "metadata": {
  "kernelspec": {
   "display_name": "venv",
   "language": "python",
   "name": "python3"
  },
  "language_info": {
   "codemirror_mode": {
    "name": "ipython",
    "version": 3
   },
   "file_extension": ".py",
   "mimetype": "text/x-python",
   "name": "python",
   "nbconvert_exporter": "python",
   "pygments_lexer": "ipython3",
   "version": "3.10.12"
  },
  "orig_nbformat": 4
 },
 "nbformat": 4,
 "nbformat_minor": 2
}
