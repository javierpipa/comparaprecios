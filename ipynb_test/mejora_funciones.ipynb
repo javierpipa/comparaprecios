{
 "cells": [
  {
   "cell_type": "code",
   "execution_count": null,
   "metadata": {},
   "outputs": [],
   "source": [
    "from django_for_jupyter import init_django\n",
    "\n",
    "init_django()"
   ]
  },
  {
   "cell_type": "code",
   "execution_count": null,
   "metadata": {},
   "outputs": [],
   "source": [
    "from precios.models import (Site, SiteURLResults, Marcas, Articulos, Vendedores, Unifica)\n",
    "import re"
   ]
  },
  {
   "cell_type": "code",
   "execution_count": null,
   "metadata": {},
   "outputs": [],
   "source": [
    "# Vendedores.objects.all().delete()\n",
    "# Articulos.objects.all().delete()\n",
    "# Unifica.objects.filter(automatico=True).delete() "
   ]
  },
  {
   "cell_type": "code",
   "execution_count": null,
   "metadata": {},
   "outputs": [],
   "source": [
    "def obtener_primer_grado(frase):\n",
    "    match = re.search(r'(\\d+(?:,\\d+)?)\\s*°', frase, re.IGNORECASE)\n",
    "    if match:\n",
    "        grados = float(match.group(1).replace(',', '.'))\n",
    "        nombre = frase.replace(match.group(0), '').strip()\n",
    "    else:\n",
    "        grados = None\n",
    "        nombre = frase.strip()\n",
    "    return nombre, grados\n",
    "\n",
    "# Ejemplo de uso\n",
    "frase = \"cerveza artesanal +56 growler ámbar 4.5° barril 1 l \"\n",
    "nombre, grados = obtener_primer_grado(frase)\n",
    "print(f\"Nombre: {nombre}\")\n",
    "print(f\"Primer Grado: {grados}\")"
   ]
  },
  {
   "cell_type": "code",
   "execution_count": null,
   "metadata": {},
   "outputs": [],
   "source": [
    "def obtener_primer_grado(frase):\n",
    "    match = re.search(r'(\\d+(?:,\\d+)?)\\s*°', frase, re.IGNORECASE)\n",
    "    if match:\n",
    "        grados_str = match.group(1).replace(',', '.')\n",
    "        grados = float(grados_str)\n",
    "        nombre = frase.replace(match.group(0), '').strip()\n",
    "    else:\n",
    "        grados = None\n",
    "        nombre = frase.strip()\n",
    "    return nombre, grados\n",
    "\n",
    "# Ejemplo de uso\n",
    "frase = \"cerveza artesanal +56 growler ámbar 4.5° barril 1 l \"\n",
    "nombre, grados = obtener_primer_grado(frase)\n",
    "print(f\"Nombre: {nombre}\")\n",
    "print(f\"Primer Grado: {grados}\")"
   ]
  },
  {
   "cell_type": "code",
   "execution_count": null,
   "metadata": {},
   "outputs": [],
   "source": [
    "def obtener_primer_grado(frase):\n",
    "    match = re.search(r'(\\d+(?:,\\d+)?)\\s*°', frase, re.IGNORECASE)\n",
    "    if match:\n",
    "        grados = float(match.group(1).replace(',', '.'))\n",
    "        nombre = frase.replace(match.group(), '').strip()\n",
    "    else:\n",
    "        grados = None\n",
    "        nombre = frase.strip()\n",
    "    return nombre, grados\n",
    "\n",
    "# Ejemplo de uso\n",
    "frase = \"pack whisky bar n°3: templeton rye whiskey 6 años 47,5° 750ml + chivas regal 12 años 40° 750ml\"\n",
    "frase = 'Whisky Chivas Reagal 40 Grados 18 Años 750 Ml'\n",
    "# frase = \"cerveza artesanal +56 growler ámbar 4.5° barril 1 l \"\n",
    "nombre, grados = obtener_primer_grado(frase)\n",
    "print(f\"Nombre: {nombre}\")\n",
    "print(f\"Primer Grado: {grados}\")"
   ]
  },
  {
   "cell_type": "code",
   "execution_count": null,
   "metadata": {},
   "outputs": [],
   "source": [
    "import re\n",
    "\n",
    "def get_unidadMedida(en_que_texto, UMEDIDAS):\n",
    "    en_que_texto = ' ' + en_que_texto + ' '\n",
    "    \n",
    "    for um in UMEDIDAS:\n",
    "        pattern = re.compile(rf'(\\d+\\s*{um})', re.IGNORECASE)\n",
    "        match = re.search(pattern, en_que_texto)\n",
    "        if match:\n",
    "            um_text = match.group(1)\n",
    "            um_cant = re.search(r'(\\d+)', um_text).group(1)\n",
    "            en_que_texto = en_que_texto.replace(um_text, '')\n",
    "            en_que_texto = en_que_texto.lstrip()\n",
    "            return en_que_texto, f\"{um_cant} {um}\"\n",
    "    return en_que_texto, None\n",
    "\n",
    "# Ejemplo de uso\n",
    "UMEDIDAS = (\n",
    "    '\"' ,'pulgadas','pulgada','mm', 'cc', 'g', 'gr'\n",
    "    # ... (resto de las unidades de medida)\n",
    ")\n",
    "\n",
    "texto = \"pasta fettuccine n°12-divella 500gr\"\n",
    "texto, unidad_medida = get_unidadMedida(texto, UMEDIDAS)\n",
    "\n",
    "if unidad_medida is not None:\n",
    "    print(f\"Unidad de medida encontrada: {unidad_medida}\")\n",
    "else:\n",
    "    print(\"No se encontró ninguna unidad de medida\")\n",
    "\n",
    "print(f\"Texto restante: {texto.strip()}\")\n",
    "\n"
   ]
  }
 ],
 "metadata": {
  "language_info": {
   "name": "python"
  },
  "orig_nbformat": 4
 },
 "nbformat": 4,
 "nbformat_minor": 2
}
