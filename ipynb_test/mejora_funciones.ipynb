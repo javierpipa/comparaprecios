{
 "cells": [
  {
   "cell_type": "code",
   "execution_count": 1,
   "metadata": {},
   "outputs": [
    {
     "name": "stdout",
     "output_type": "stream",
     "text": [
      "/home/javier/hd1/Codigo/JAVIER/test1/comparaprecios-1\n"
     ]
    },
    {
     "name": "stderr",
     "output_type": "stream",
     "text": [
      "[nltk_data] Downloading package stopwords to /home/javier/nltk_data...\n",
      "[nltk_data]   Package stopwords is already up-to-date!\n",
      "[nltk_data] Downloading package wordnet to /home/javier/nltk_data...\n",
      "[nltk_data]   Package wordnet is already up-to-date!\n"
     ]
    }
   ],
   "source": [
    "from django_for_jupyter import init_django\n",
    "\n",
    "init_django()"
   ]
  },
  {
   "cell_type": "code",
   "execution_count": 2,
   "metadata": {},
   "outputs": [],
   "source": [
    "from precios.models import (Site, SiteURLResults, Marcas, Articulos, Vendedores, Unifica)\n",
    "import re"
   ]
  },
  {
   "cell_type": "code",
   "execution_count": null,
   "metadata": {},
   "outputs": [],
   "source": [
    "# Vendedores.objects.all().delete()\n",
    "# Articulos.objects.all().delete()\n",
    "# Unifica.objects.filter(automatico=True).delete() "
   ]
  },
  {
   "cell_type": "code",
   "execution_count": null,
   "metadata": {},
   "outputs": [],
   "source": [
    "def obtener_primer_grado(frase):\n",
    "    match = re.search(r'(\\d+(?:,\\d+)?)\\s*°', frase, re.IGNORECASE)\n",
    "    if match:\n",
    "        grados = float(match.group(1).replace(',', '.'))\n",
    "        nombre = frase.replace(match.group(0), '').strip()\n",
    "    else:\n",
    "        grados = None\n",
    "        nombre = frase.strip()\n",
    "    return nombre, grados\n",
    "\n",
    "# Ejemplo de uso\n",
    "frase = \"cerveza artesanal +56 growler ámbar 4.5° barril 1 l \"\n",
    "nombre, grados = obtener_primer_grado(frase)\n",
    "print(f\"Nombre: {nombre}\")\n",
    "print(f\"Primer Grado: {grados}\")"
   ]
  },
  {
   "cell_type": "code",
   "execution_count": null,
   "metadata": {},
   "outputs": [],
   "source": [
    "def obtener_primer_grado(frase):\n",
    "    match = re.search(r'(\\d+(?:,\\d+)?)\\s*°', frase, re.IGNORECASE)\n",
    "    if match:\n",
    "        grados_str = match.group(1).replace(',', '.')\n",
    "        grados = float(grados_str)\n",
    "        nombre = frase.replace(match.group(0), '').strip()\n",
    "    else:\n",
    "        grados = None\n",
    "        nombre = frase.strip()\n",
    "    return nombre, grados\n",
    "\n",
    "# Ejemplo de uso\n",
    "frase = \"cerveza artesanal +56 growler ámbar 4.5° barril 1 l \"\n",
    "nombre, grados = obtener_primer_grado(frase)\n",
    "print(f\"Nombre: {nombre}\")\n",
    "print(f\"Primer Grado: {grados}\")"
   ]
  },
  {
   "cell_type": "code",
   "execution_count": null,
   "metadata": {},
   "outputs": [],
   "source": [
    "def obtener_primer_grado(frase):\n",
    "    match = re.search(r'(\\d+(?:,\\d+)?)\\s*°', frase, re.IGNORECASE)\n",
    "    if match:\n",
    "        grados = float(match.group(1).replace(',', '.'))\n",
    "        nombre = frase.replace(match.group(), '').strip()\n",
    "    else:\n",
    "        grados = None\n",
    "        nombre = frase.strip()\n",
    "    return nombre, grados\n",
    "\n",
    "# Ejemplo de uso\n",
    "frase = \"pack whisky bar n°3: templeton rye whiskey 6 años 47,5° 750ml + chivas regal 12 años 40° 750ml\"\n",
    "frase = 'Whisky Chivas Reagal 40 Grados 18 Años 750 Ml'\n",
    "# frase = \"cerveza artesanal +56 growler ámbar 4.5° barril 1 l \"\n",
    "nombre, grados = obtener_primer_grado(frase)\n",
    "print(f\"Nombre: {nombre}\")\n",
    "print(f\"Primer Grado: {grados}\")"
   ]
  },
  {
   "cell_type": "code",
   "execution_count": null,
   "metadata": {},
   "outputs": [],
   "source": [
    "import re\n",
    "\n",
    "def get_unidadMedida(en_que_texto, UMEDIDAS):\n",
    "    en_que_texto = ' ' + en_que_texto + ' '\n",
    "    \n",
    "    for um in UMEDIDAS:\n",
    "        pattern = re.compile(rf'(\\d+\\s*{um})', re.IGNORECASE)\n",
    "        match = re.search(pattern, en_que_texto)\n",
    "        if match:\n",
    "            um_text = match.group(1)\n",
    "            um_cant = re.search(r'(\\d+)', um_text).group(1)\n",
    "            en_que_texto = en_que_texto.replace(um_text, '')\n",
    "            en_que_texto = en_que_texto.lstrip()\n",
    "            return en_que_texto, f\"{um_cant} {um}\"\n",
    "    return en_que_texto, None\n",
    "\n",
    "# Ejemplo de uso\n",
    "UMEDIDAS = (\n",
    "    '\"' ,'pulgadas','pulgada','mm', 'cc', 'g', 'gr'\n",
    "    # ... (resto de las unidades de medida)\n",
    ")\n",
    "\n",
    "texto = \"pasta fettuccine n°12-divella 500gr\"\n",
    "texto, unidad_medida = get_unidadMedida(texto, UMEDIDAS)\n",
    "\n",
    "if unidad_medida is not None:\n",
    "    print(f\"Unidad de medida encontrada: {unidad_medida}\")\n",
    "else:\n",
    "    print(\"No se encontró ninguna unidad de medida\")\n",
    "\n",
    "print(f\"Texto restante: {texto.strip()}\")\n",
    "\n"
   ]
  },
  {
   "cell_type": "code",
   "execution_count": null,
   "metadata": {},
   "outputs": [],
   "source": [
    "from precios.pi_get import (\n",
    "    get_unidades2,pack_search\n",
    ")\n",
    "PACKS = (\n",
    "    'pack','set'\n",
    "    \n",
    ")\n",
    "nombre = 'Pack 6 Un. Vino Blanco Espumante Piña 350 Cc '\n",
    "# nombre = '6 Un. Vino Blanco Espumante Piña 350 Cc '\n",
    "nombre = nombre.lower()\n",
    "unidades = 1\n",
    "print(f'Inicio unidades={unidades}  nombre={nombre}')\n",
    "\n",
    "# def pack_search(en_que_texto, que_busco):\n",
    "#     x = re.findall(que_busco, en_que_texto, re.IGNORECASE)\n",
    "#     if x:\n",
    "#         en_que_texto = re.sub(que_busco, '', en_que_texto, flags=re.IGNORECASE)\n",
    "#         en_que_texto = en_que_texto.strip()\n",
    "#         unidades     = int(x[0])\n",
    "#         return unidades, en_que_texto\n",
    "#     else:\n",
    "#         return None, en_que_texto\n",
    "\n",
    "\n",
    "arr_nombre = nombre.split(\" \")\n",
    "for palabra in arr_nombre:\n",
    "    if palabra in PACKS :\n",
    "        busca = ''+palabra + '.([0-9]+)'\n",
    "        retorna, nombre = pack_search(nombre,busca)\n",
    "        if retorna:\n",
    "            nombre = nombre.replace('un. ','')\n",
    "            nombre = nombre.replace('unidades ','')\n",
    "            if unidades == 1 :\n",
    "                unidades = retorna\n",
    "\n",
    "            break\n",
    "\n",
    "print(f'unidades={unidades}  nombre={nombre}')\n",
    "if unidades == 1:\n",
    "    nombre, unidades = get_unidades2(nombre, unidades)\n",
    "    print(f'unidades={unidades}  nombre={nombre}')\n"
   ]
  },
  {
   "cell_type": "code",
   "execution_count": null,
   "metadata": {},
   "outputs": [],
   "source": [
    "Unifica.objects.filter(automatico=True, contador=0).delete()  ### Borra reglas sin uso\n",
    "arts = Articulos.objects.all()\n",
    "cuenta = 0\n",
    "nocuenta = 0\n",
    "for art in arts:\n",
    "    if art.cuanntosvenden() == 0:\n",
    "        try:\n",
    "            art.delete()\n",
    "            cuenta = cuenta + 1\n",
    "        except Exception as e:\n",
    "            print(e)\n",
    "    else:\n",
    "        nocuenta = nocuenta + 1"
   ]
  },
  {
   "cell_type": "code",
   "execution_count": 4,
   "metadata": {},
   "outputs": [
    {
     "name": "stdout",
     "output_type": "stream",
     "text": [
      "Se eliminan 5297 no se eliminan=48374\n"
     ]
    }
   ],
   "source": [
    "\n",
    "arts = Articulos.objects.all()\n",
    "cuenta = 0\n",
    "nocuenta = 0\n",
    "for art in arts:\n",
    "    if art.cuanntosvenden() == 0:\n",
    "        try:\n",
    "            art.delete()\n",
    "            cuenta = cuenta + 1\n",
    "        except Exception as e:\n",
    "            print(e)\n",
    "    else:\n",
    "        nocuenta = nocuenta + 1\n",
    "\n",
    "print(f'Se eliminan {cuenta} no se eliminan={nocuenta}')\n",
    "\n",
    "\n"
   ]
  }
 ],
 "metadata": {
  "kernelspec": {
   "display_name": "venv",
   "language": "python",
   "name": "python3"
  },
  "language_info": {
   "codemirror_mode": {
    "name": "ipython",
    "version": 3
   },
   "file_extension": ".py",
   "mimetype": "text/x-python",
   "name": "python",
   "nbconvert_exporter": "python",
   "pygments_lexer": "ipython3",
   "version": "3.10.12"
  },
  "orig_nbformat": 4
 },
 "nbformat": 4,
 "nbformat_minor": 2
}
