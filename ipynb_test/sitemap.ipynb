{
 "cells": [
  {
   "cell_type": "code",
   "execution_count": 1,
   "metadata": {},
   "outputs": [
    {
     "name": "stdout",
     "output_type": "stream",
     "text": [
      "/home/javier\n"
     ]
    },
    {
     "name": "stderr",
     "output_type": "stream",
     "text": [
      "[nltk_data] Downloading package stopwords to /home/javier/nltk_data...\n",
      "[nltk_data]   Package stopwords is already up-to-date!\n",
      "[nltk_data] Downloading package wordnet to /home/javier/nltk_data...\n",
      "[nltk_data]   Package wordnet is already up-to-date!\n"
     ]
    }
   ],
   "source": [
    "from django_for_jupyter import init_django\n",
    "\n",
    "init_django()"
   ]
  },
  {
   "cell_type": "code",
   "execution_count": 88,
   "metadata": {},
   "outputs": [],
   "source": [
    "from precios.models import (\n",
    "    Site, SiteURLResults, Marcas, Articulos, Vendedores, Unifica, Settings\n",
    ")\n",
    "from datetime import datetime\n",
    "from django.db.models import  Count"
   ]
  },
  {
   "cell_type": "code",
   "execution_count": 89,
   "metadata": {},
   "outputs": [],
   "source": [
    "def get_sitemap(pagina):\n",
    "    suffix = 'lalala://'\n",
    "    priority = '0.5'\n",
    "    changefreq = \"weekly\"\n",
    "\n",
    "    desde   = (( pagina - 1 ) * 100 ) + 0\n",
    "    hasta   = (( pagina     ) * 100 ) - 1\n",
    "\n",
    "\n",
    "    num_articles = Articulos.objects.all().count()\n",
    "    num_paginas = int(num_articles / 10000) + 1\n",
    "    print(f'num_articles={num_articles}  num_paginas={num_paginas}  ')\n",
    "\n",
    "    \n",
    "    articles_from_all = Vendedores.objects.select_related('articulo')\n",
    "    articles_from_all = articles_from_all.exclude(vendidoen__precio=0)\n",
    "    articles_from_all = articles_from_all.exclude(vendidoen__error404=True)\n",
    "    articles_from_all = articles_from_all.values('articulo__pk').all()\n",
    "    \n",
    "\n",
    "    articles_count = articles_from_all.distinct().count()\n",
    "    num_paginas = int(articles_count / 10000) + 1\n",
    "    print(f'articles_from_all={articles_count} num_paginas={num_paginas}')\n",
    "    \n",
    "    articles_from_all2 = articles_from_all\n",
    "    records = Articulos.objects.filter(id__in=articles_from_all2)[desde:hasta]\n",
    "    urlset = []\n",
    "    for rec in records:\n",
    "        row = {'location': suffix + rec.get_absolute_url(), 'lastmod': rec.created.strftime('%Y-%m-%d'), 'priority': priority, 'changefreq': changefreq}\n",
    "        urlset.append(row)\n",
    "    \n",
    "    # print(art.get_absolute_url())\n",
    "\n",
    "    print(urlset[1])\n"
   ]
  },
  {
   "cell_type": "code",
   "execution_count": 104,
   "metadata": {},
   "outputs": [],
   "source": [
    "def sitemaps_marcas( pagina):\n",
    "    pagina              = int(pagina)\n",
    "    num_records         = 10000\n",
    "    suffix              = 'lalala://'\n",
    "    desde               = (( pagina - 1 ) * num_records ) + 0\n",
    "    hasta               = (( pagina     ) * num_records ) - 1\n",
    "    priority            = '0.5'\n",
    "    changefreq          = \"weekly\"\n",
    "    MinSuperCompara     = int(Settings.objects.get(key='MinSuperCompara').value)\n",
    "    lastmod             = datetime.today().strftime('%Y-%m-%d')\n",
    "\n",
    "    articles_from_all = Vendedores.objects.select_related('articulo')\n",
    "    articles_from_all = articles_from_all.exclude(vendidoen__precio=0)\n",
    "    articles_from_all = articles_from_all.exclude(vendidoen__error404=True)\n",
    "    articles_from_all = articles_from_all.exclude(articulo__marca__es_marca=False)\n",
    "    articles_from_all = articles_from_all.values('articulo__marca__pk').distinct().all()\n",
    "    print(f'posibles_marcas={articles_from_all.count()}')\n",
    "\n",
    "    \n",
    "    records     = Marcas.objects.filter(id__in=articles_from_all).filter(es_marca=True)\n",
    "    num_paginas = int(Marcas.objects.filter(id__in=articles_from_all).count() / num_records) + 1\n",
    "\n",
    "    # print(f'actuales_marcas={Marcas.objects.filter(id__in=subquery).count()}')\n",
    "        \n",
    "    records =  records[desde:hasta]\n",
    "\n",
    "    urlset = []\n",
    "    for rec in records:\n",
    "        urlset.append({'location': suffix + rec.get_absolute_url(), 'lastmod': lastmod, 'priority': priority, 'changefreq': changefreq})\n",
    "\n",
    "    print(urlset[1])"
   ]
  },
  {
   "cell_type": "code",
   "execution_count": 105,
   "metadata": {},
   "outputs": [
    {
     "name": "stdout",
     "output_type": "stream",
     "text": [
      "num_articles=59088  num_paginas=6  \n",
      "articles_from_all=57910 num_paginas=6\n",
      "{'location': 'lalala:///precios/article/4m-malla-geotextil-t-x-mt-lineal-100-mtlxrollo-1/', 'lastmod': '2023-10-29', 'priority': '0.5', 'changefreq': 'weekly'}\n",
      "posibles_marcas=3045\n",
      "{'location': 'lalala:///precios/precios/?marca=1115541', 'lastmod': '2023-10-30', 'priority': '0.5', 'changefreq': 'weekly'}\n"
     ]
    }
   ],
   "source": [
    "get_sitemap(3)\n",
    "sitemaps_marcas(1)"
   ]
  }
 ],
 "metadata": {
  "kernelspec": {
   "display_name": "venv",
   "language": "python",
   "name": "python3"
  },
  "language_info": {
   "codemirror_mode": {
    "name": "ipython",
    "version": 3
   },
   "file_extension": ".py",
   "mimetype": "text/x-python",
   "name": "python",
   "nbconvert_exporter": "python",
   "pygments_lexer": "ipython3",
   "version": "3.10.12"
  }
 },
 "nbformat": 4,
 "nbformat_minor": 2
}
