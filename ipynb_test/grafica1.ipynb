{
 "cells": [
  {
   "cell_type": "code",
   "execution_count": 1,
   "metadata": {},
   "outputs": [
    {
     "name": "stdout",
     "output_type": "stream",
     "text": [
      "/home/javier/hd1/Codigo/JAVIER/cms-1/myproject\n"
     ]
    }
   ],
   "source": [
    "from django_for_jupyter import init_django\n",
    "init_django()"
   ]
  },
  {
   "cell_type": "code",
   "execution_count": 2,
   "metadata": {},
   "outputs": [],
   "source": [
    "from precios.models import (AreasDespacho, Cities, Regions, Countries, Settings)\n",
    "from geopy.geocoders import Nominatim\n",
    "geolocator = Nominatim(user_agent=\"devop-pi\")\n",
    "import time"
   ]
  },
  {
   "cell_type": "code",
   "execution_count": 10,
   "metadata": {},
   "outputs": [
    {
     "name": "stdout",
     "output_type": "stream",
     "text": [
      "Las Talcas, Región de Coquimbo, Chile\n",
      "No se pudo obtener la información geográfica\n",
      "La Hauyca, Región de Tarapacá, Chile\n",
      "No se pudo obtener la información geográfica\n",
      "Putre, Región de Tarapacá, Chile\n",
      "No se pudo obtener la información geográfica\n",
      "Camarones, Región de Tarapacá, Chile\n",
      "No se pudo obtener la información geográfica\n"
     ]
    }
   ],
   "source": [
    "from precios.models import (AreasDespacho, Cities, Regions, Countries, Settings)\n",
    "from geopy.geocoders import Nominatim\n",
    "geolocator = Nominatim(user_agent=\"devop-pi\")\n",
    "import time\n",
    "\n",
    "cities = Cities.objects.filter(latitude=0).order_by('-region__id')\n",
    "\n",
    "for city in cities:\n",
    "    \n",
    "    nombre = city.name + ', '+  str(city.region.name) + ', ' + str(city.country.name)\n",
    "    print(nombre)\n",
    "    location = geolocator.geocode(nombre, timeout=5)\n",
    "    if location is not None:\n",
    "        # print(location.address)\n",
    "        print((location.latitude, location.longitude))\n",
    "        city.latitude = location.latitude\n",
    "        city.longitude = location.longitude\n",
    "        city.save()\n",
    "    else:\n",
    "        print(\"No se pudo obtener la información geográfica\")\n",
    "    \n",
    "    time.sleep(5)\n",
    "    \n",
    "    "
   ]
  }
 ],
 "metadata": {
  "kernelspec": {
   "display_name": "Django Shell-Plus",
   "language": "python",
   "name": "django_extensions"
  },
  "language_info": {
   "codemirror_mode": {
    "name": "ipython",
    "version": 3
   },
   "file_extension": ".py",
   "mimetype": "text/x-python",
   "name": "python",
   "nbconvert_exporter": "python",
   "pygments_lexer": "ipython3",
   "version": "3.10.12"
  },
  "orig_nbformat": 4
 },
 "nbformat": 4,
 "nbformat_minor": 2
}
