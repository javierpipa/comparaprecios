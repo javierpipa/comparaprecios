{
 "cells": [
  {
   "cell_type": "code",
   "execution_count": 82,
   "id": "493e9ea8",
   "metadata": {},
   "outputs": [],
   "source": [
    "from django_for_jupyter import init_django\n",
    "init_django()"
   ]
  },
  {
   "cell_type": "code",
   "execution_count": 2,
   "id": "6599120e",
   "metadata": {},
   "outputs": [],
   "source": [
    "import pandas as pd\n",
    "import numpy as np\n",
    "from django.db.models import F, Sum, Count\n",
    "from precios.models import SiteURLResults, Articulos, Unifica, Marcas, Vendedores, MarcasSistema, ReemplazaPalabras\n",
    "from members.models import DetalleLista\n",
    "from precios.pi_get import fixMarca, obtener_grados, get_palabras_con_numychar\n",
    "from precios.pi_functions import createRule, buscar_articulos_con_y_sin_grados\n",
    "from fuzzywuzzy import fuzz\n",
    "from fuzzywuzzy import process\n",
    "\n",
    "from functools import partial"
   ]
  },
  {
   "cell_type": "code",
   "execution_count": 83,
   "id": "ef1e0c7b",
   "metadata": {},
   "outputs": [],
   "source": [
    "# def find_duplicates(row):\n",
    "#     articulo = row['nombre']\n",
    "#     medida_cant = row['medida_cant']\n",
    "#     unidades = row['unidades']\n",
    "#     marca = row['marca']\n",
    "#     grados = row['grados']\n",
    "    \n",
    "#     df_matches = df_articulos.loc[\n",
    "#         (df_articulos['marca'] == marca) & \n",
    "#         (df_articulos['medida_cant'] == medida_cant) & \n",
    "#         (df_articulos['unidades'] == unidades) & \n",
    "# #         (~df_articulos['ean_13'].isnull()) & \n",
    "#         (df_articulos['nombre'] != articulo)\n",
    "#     ]\n",
    "    \n",
    "#     max_ratio = 0\n",
    "#     max_match = None\n",
    "    \n",
    "#     for _, match in df_matches.iterrows():\n",
    "#         ratio = fuzz.token_set_ratio(articulo.lower(), match['nombre'].lower())\n",
    "#         if ratio > max_ratio:\n",
    "#             max_ratio = ratio\n",
    "#             max_match = match\n",
    "    \n",
    "#     if max_ratio >= 90:\n",
    "#         return {\n",
    "#             'marca': marca,\n",
    "#             'medida_cant': medida_cant,\n",
    "#             'unidades': unidades,\n",
    "#             'articulo_con_grados': articulo,\n",
    "#             'ean_13_con_grados': row['ean_13'],\n",
    "#             'articulo_sin_grados': max_match['nombre'],\n",
    "#             'ean_13_sin_grados': max_match['ean_13'],\n",
    "#         }\n",
    "    \n",
    "#     return None"
   ]
  },
  {
   "cell_type": "code",
   "execution_count": 5,
   "id": "5419aeb4",
   "metadata": {},
   "outputs": [],
   "source": [
    "# Crear una función para comparar las medidas y unidades de dos artículos\n",
    "def compare_measure(medida_cant1, medida_cant2, unidades1, unidades2):\n",
    "    return fuzz.ratio(medida_cant1 + unidades1, medida_cant2 + unidades2)"
   ]
  },
  {
   "cell_type": "code",
   "execution_count": 7,
   "id": "d13ce709",
   "metadata": {},
   "outputs": [],
   "source": []
  },
  {
   "cell_type": "code",
   "execution_count": 8,
   "id": "2e15d753",
   "metadata": {},
   "outputs": [],
   "source": [
    "# querySiteArticulos = Articulos.objects.all()\n",
    "querySiteArticulos = Articulos.objects.annotate(dcount=Count('vendedores__vendidoen')).all()\n",
    "\n",
    "#df_articulos = pd.DataFrame(list(querySiteArticulos.values('nombre','marca','medida_cant', 'unidades', 'grados', 'ean_13')))\n",
    "df_articulos = pd.DataFrame(list(querySiteArticulos.values('pk','nombre','marca','medida_cant', 'unidades', 'grados', 'ean_13', 'dcount')))\n",
    "\n"
   ]
  },
  {
   "cell_type": "code",
   "execution_count": 9,
   "id": "b7d146f9",
   "metadata": {},
   "outputs": [],
   "source": [
    "# reemplazamos los valores vacíos en el DataFrame con None\n",
    "df_articulos = df_articulos.replace(r'^\\s*$', value=None, regex=True)"
   ]
  },
  {
   "cell_type": "code",
   "execution_count": 10,
   "id": "665a4626",
   "metadata": {},
   "outputs": [],
   "source": [
    "# filtramos los artículos que tienen valores no nulos en la columna \"grados\"\n",
    "df_filtrado = df_articulos[df_articulos['grados'].notnull()]\n",
    "\n",
    "# obtenemos las marcas únicas en el DataFrame filtrado\n",
    "marcas_con_grados = df_filtrado['marca'].drop_duplicates().tolist()\n",
    "\n"
   ]
  },
  {
   "cell_type": "code",
   "execution_count": 11,
   "id": "4291720a",
   "metadata": {},
   "outputs": [],
   "source": [
    "\n",
    "\n",
    "def buscar_articulos_2(df):\n",
    "    # Ordenar el dataframe por dcount en orden descendente\n",
    "    df = df.sort_values(by=['dcount'], ascending=False)\n",
    "\n",
    "    # Crear una lista de nombres de artículo únicos\n",
    "    nombres_articulos_unicos = df['nombre'].unique()\n",
    "\n",
    "    # Crear una lista de posibles nombres de artículo que suenan igual\n",
    "    posibles_nombres = []\n",
    "\n",
    "    # Buscar nombres de artículo que suenan igual\n",
    "    nombres_comparados = [] # lista para almacenar los nombres ya comparados\n",
    "    for i, nombre in enumerate(nombres_articulos_unicos):\n",
    "        if nombre not in nombres_comparados: # verificar si el nombre ya ha sido comparado\n",
    "            # buscar los nombres de artículo que tienen una puntuación de coincidencia de al menos el 90% y una diferencia de dcount menor o igual a 10\n",
    "            nombres_coincidentes = []\n",
    "            for j in range(i+1, len(nombres_articulos_unicos)):\n",
    "                if nombres_articulos_unicos[j] not in nombres_comparados:\n",
    "                    if fuzz.token_sort_ratio(nombre, nombres_articulos_unicos[j]) >= 90 and abs(df[df['nombre']==nombre]['dcount'].iloc[0] - df[df['nombre']==nombres_articulos_unicos[j]]['dcount'].iloc[0]) <= 10:\n",
    "                        nombres_coincidentes.append(nombres_articulos_unicos[j])\n",
    "            if nombres_coincidentes:\n",
    "                # agregar el nombre de artículo y su lista de nombres de artículo coincidentes a la lista de posibles nombres\n",
    "                posibles_nombres.append((nombre, nombres_coincidentes)) \n",
    "                # agregar el nombre actual a la lista de nombres comparados\n",
    "                nombres_comparados.append(nombre)\n",
    "                # agregar los nombres coincidentes a la lista de nombres comparados\n",
    "                nombres_comparados += nombres_coincidentes\n",
    "\n",
    "    # mostrar la lista de posibles nombres\n",
    "    return posibles_nombres"
   ]
  },
  {
   "cell_type": "code",
   "execution_count": 17,
   "id": "52b4e59c",
   "metadata": {},
   "outputs": [
    {
     "name": "stdout",
     "output_type": "stream",
     "text": [
      "en if\n",
      "en if\n",
      "en if\n",
      "3\n"
     ]
    }
   ],
   "source": [
    "cuenta = 0\n",
    "for marca in marcas_con_grados:\n",
    "    cuenta = cuenta + 1\n",
    "    mmmarca = Marcas.objects.filter(id=marca).get()\n",
    "#     lista_vendedores = mmmarca.vendedoresList\n",
    "#     if len(lista_vendedores) > 1:\n",
    "        \n",
    "        \n",
    "    df_nueva_marca = df_articulos[(df_articulos['marca'] == marca) ]\n",
    "        \n",
    "\n",
    "    lista = buscar_articulos_2(df_nueva_marca)\n",
    "    print(\"en if\")\n",
    "#         print(lista)\n",
    "#         for item in lista:\n",
    "#             for si_nompaso in item[1]:\n",
    "#                 si_marca, entonces_marca = marca, marca\n",
    "#                 si_nombre = si_nompaso\n",
    "#                 entonces_nombre = item[0]\n",
    "\n",
    "#                 print(f'Marca={mmmarca} si_nombre={si_nombre} entonces_nombre={entonces_nombre}')\n",
    "                \n",
    "#                 respuesta = input(\"Crea Regla ? (s/N)...\")\n",
    "#                 print(respuesta)\n",
    "\n",
    "    if cuenta > 2:\n",
    "        break\n",
    "# #     df_duplicates = pd.DataFrame([r for r in results if r is not None])\n",
    "# #     df_duplicates\n",
    "#          )\n",
    "print(cuenta)"
   ]
  },
  {
   "cell_type": "code",
   "execution_count": 14,
   "id": "805867a1",
   "metadata": {},
   "outputs": [
    {
     "name": "stdout",
     "output_type": "stream",
     "text": [
      "pasta fettuccine 12 ° None\n"
     ]
    }
   ],
   "source": [
    "\n",
    "####     df_nueva_marca_sin_grados = buscar_articulos_sin_grados(df_nueva_marca)\n",
    "#     df_combinado = buscar_articulos_con_y_sin_grados(df_nueva_marca)\n",
    "#     for articulo in df_combinado:\n",
    "#         si_marca       = Marcas.objects.filter(id=articulo['si_marca']).get()\n",
    "#         entonces_marca = Marcas.objects.filter(id=articulo['entonces_marca']).get()\n",
    "#         createRule(\n",
    "#             si_marca, \n",
    "#             articulo['si_nombre'], \n",
    "#             articulo['si_grados'], \n",
    "#             articulo['si_medida_cant'], \n",
    "#             articulo['si_unidades'], \n",
    "#             entonces_marca, \n",
    "#             articulo['entonces_nombre'], \n",
    "#             articulo['entonces_grados'], \n",
    "#             articulo['entonces_medida_cant'], \n",
    "#             articulo['entonces_unidades'] \n",
    "\n",
    "\n",
    "\n",
    "\n",
    "nombre,  grados = obtener_grados(nombre)\n",
    "\n",
    "print(nombre, grados)"
   ]
  },
  {
   "cell_type": "code",
   "execution_count": 81,
   "id": "bb596a38",
   "metadata": {},
   "outputs": [
    {
     "name": "stdout",
     "output_type": "stream",
     "text": [
      "Pepsi 3lt Desechable\n",
      "['3lt']\n",
      "['3lt']\n",
      "digito=3\n",
      "digito=lt\n",
      "palabra=3lt reemplaza_con=3 lt \n",
      "Pepsi 3 lt  Desechable\n"
     ]
    }
   ],
   "source": [
    "import re\n",
    "# import operator as op\n",
    "# # define all digits\n",
    "# all_digits = ['0', '1', '2', '3', '4', '5', '6', '7', '8', '9']\n",
    "# # define all letters\n",
    "# all_letters = ['a', 'b', 'c', 'd', 'e', 'f', 'g', 'h', 'i', 'j', 'k', 'l', 'm', 'n', 'o', 'p', 'q', 'r', 's', 't', 'u', 'v', 'w', 'x', 'y', 'z']\n",
    "\n",
    "# def separate_number_chars(s):\n",
    "#     res = re.split('([-+]?\\d+\\.\\d+)|([-+]?\\d+)', s.strip())\n",
    "#     res_f = [r.strip() for r in res if r is not None and r.strip() != '']\n",
    "#     return res_f\n",
    "\n",
    "\n",
    "\n",
    "nombre = 'Gelatina En Polvo Arándano Mora Daily, 22.5g 22,5g 15,0° '\n",
    "nombre = 'Coctel Secreto Peruan Zero Lim 700cc 15g '\n",
    "nombre = 'Pepsi 3lt Desechable'\n",
    "print(nombre)\n",
    "res = get_palabras_con_numychar(nombre)\n",
    "\n",
    "\n",
    "for palabra in res:\n",
    "    palas = re.split('([A-Za-z]+[\\d@]+[\\w@]*|[\\d@]+[A-Za-z]+[\\w@]*)', palabra.strip())\n",
    "    \n",
    "    # print('palas=',palas)\n",
    "    # palas\n",
    "    reemplaza_con = ''\n",
    "    for pa in palas:\n",
    "        if pa != '':\n",
    "            if len(get_palabras_con_numychar(pa)) > 0 :\n",
    "                digitos = re.split('(\\d+)', pa.strip())\n",
    "                for digito in digitos:\n",
    "                    if digito != '':\n",
    "                        reemplaza_con = reemplaza_con + digito + ' '\n",
    "                        print(f'digito={digito}')\n",
    "            else:\n",
    "                print(f'pa={pa}')\n",
    "                reemplaza_con = reemplaza_con + pa \n",
    "\n",
    "    print(f'palabra={palabra} reemplaza_con={reemplaza_con}' )\n",
    "    nombre = nombre.replace(palabra, reemplaza_con) \n",
    "        \n",
    "\n",
    "print(nombre)"
   ]
  }
 ],
 "metadata": {
  "kernelspec": {
   "display_name": "venv",
   "language": "python",
   "name": "python3"
  },
  "language_info": {
   "codemirror_mode": {
    "name": "ipython",
    "version": 3
   },
   "file_extension": ".py",
   "mimetype": "text/x-python",
   "name": "python",
   "nbconvert_exporter": "python",
   "pygments_lexer": "ipython3",
   "version": "3.10.6"
  }
 },
 "nbformat": 4,
 "nbformat_minor": 5
}
