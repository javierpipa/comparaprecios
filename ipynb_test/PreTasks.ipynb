{
 "cells": [
  {
   "cell_type": "code",
   "execution_count": 2,
   "id": "f1df2460",
   "metadata": {},
   "outputs": [],
   "source": [
    "from django_for_jupyter import init_django\n",
    "init_django()"
   ]
  },
  {
   "cell_type": "code",
   "execution_count": 3,
   "id": "bd02b7d9",
   "metadata": {},
   "outputs": [],
   "source": [
    "import pandas as pd\n",
    "import numpy as np\n",
    "import unidecode\n",
    "from django.db.models import F, Sum\n",
    "from precios.models import SiteURLResults, Articulos, Unifica, Marcas, Vendedores, MarcasSistema\n",
    "from members.models import DetalleLista\n",
    "from precios.pi_get import fixMarca"
   ]
  },
  {
   "cell_type": "code",
   "execution_count": 3,
   "id": "82b3452c",
   "metadata": {},
   "outputs": [],
   "source": [
    "### Settings\n",
    "set_lower_to_nombres = True"
   ]
  },
  {
   "cell_type": "code",
   "execution_count": 4,
   "id": "a30e684b",
   "metadata": {},
   "outputs": [
    {
     "data": {
      "text/plain": [
       "1294"
      ]
     },
     "execution_count": 4,
     "metadata": {},
     "output_type": "execute_result"
    }
   ],
   "source": [
    "## elimino todas registros anteriores\n",
    "DetalleLista.objects.all().delete()\n",
    "Vendedores.objects.all().delete()\n",
    "Articulos.objects.all().delete()\n",
    "Unifica.objects.all().update(contador=0)\n",
    "# Unifica.objects.filter(automatico=True).delete()"
   ]
  },
  {
   "cell_type": "code",
   "execution_count": 7,
   "id": "070802cd",
   "metadata": {},
   "outputs": [
    {
     "name": "stdout",
     "output_type": "stream",
     "text": [
      "No se borran 499 marcas\n"
     ]
    }
   ],
   "source": [
    "## Elimino todas las marcas que puedo\n",
    "lista_marcas = Marcas.objects.filter(es_marca=True).all()\n",
    "a = 0\n",
    "for marca in lista_marcas:\n",
    "    try:\n",
    "        marca.delete()\n",
    "    except Exception as e:\n",
    "        a = a + 1\n",
    "\n",
    "print(f'No se borran {a} marcas')"
   ]
  },
  {
   "cell_type": "code",
   "execution_count": 8,
   "id": "8ef826c3",
   "metadata": {},
   "outputs": [
    {
     "name": "stdout",
     "output_type": "stream",
     "text": [
      "Se Agregan 453 marcas\n"
     ]
    }
   ],
   "source": [
    "## Se agregan mas MarcasSistema\n",
    "lista_marcas = MarcasSistema.objects.all()\n",
    "a = 0\n",
    "for marca in lista_marcas:\n",
    "    marca_limpia = unidecode.unidecode(marca.nombre)\n",
    "    if not Marcas.objects.filter(nombre=marca.nombre).exists():\n",
    "        Marcas.objects.update_or_create(\n",
    "            nombre=marca.nombre,\n",
    "            slug=marca_limpia,\n",
    "            es_marca=True\n",
    "        )\n",
    "        a = a + 1\n",
    "print(f'Se Agregan {a} marcas')"
   ]
  },
  {
   "cell_type": "code",
   "execution_count": 9,
   "id": "f3ed8d43",
   "metadata": {},
   "outputs": [
    {
     "name": "stdout",
     "output_type": "stream",
     "text": [
      "2849\n"
     ]
    }
   ],
   "source": [
    "# Obtener todos los registros de SiteURLResults\n",
    "querySiteURL = SiteURLResults.objects.exclude(precio=0, nombre='', marca=None, site__enable=True).all()\n",
    "\n",
    "## genero marcas\n",
    "df_marcas = pd.DataFrame(list(querySiteURL.values('marca')))\n",
    "df_marcas['marca'] = df_marcas['marca'].str.lower()\n",
    "df_marcas = df_marcas.sort_values(by='marca')\n",
    "df_marcas = df_marcas.drop_duplicates(keep='first')\n",
    "\n",
    "a = 0\n",
    "### Se crean todas las marcas necesarias\n",
    "for marca in df_marcas['marca']:\n",
    "    if marca:\n",
    "        fixed_marca = fixMarca(marca)\n",
    "        marca_limpia = unidecode.unidecode(fixed_marca)\n",
    "\n",
    "        if not Marcas.objects.filter(nombre__iexact=fixed_marca).exists():\n",
    "            marca_limpia, created = Marcas.objects.update_or_create(nombre = fixed_marca, \n",
    "                                                                    slug = marca_limpia, \n",
    "                                                                    es_marca=True)\n",
    "            a = a + 1\n",
    "\n",
    "print(a)"
   ]
  },
  {
   "cell_type": "code",
   "execution_count": 10,
   "id": "6e0e49e2",
   "metadata": {},
   "outputs": [],
   "source": [
    "# Obtener todos los registros de Marcas\n",
    "querymarcas = Marcas.objects.all()\n",
    "df_marcas = pd.DataFrame(list(querymarcas.values('nombre')))\n",
    "\n"
   ]
  },
  {
   "cell_type": "code",
   "execution_count": 11,
   "id": "7317bcbc",
   "metadata": {},
   "outputs": [],
   "source": [
    "# # Obtener todos los registros de Unificas\n",
    "# queryunificas = Unifica.objects.all()\n",
    "# df_unificas = pd.DataFrame(list(queryunificas.values('si_marca__nombre',\n",
    "#                                                      'si_nombre',\n",
    "#                                                      'si_grados',\n",
    "#                                                      'si_medida_cant',\n",
    "#                                                      'si_unidades',\n",
    "#                                                      'entonces_marca__nombre',\n",
    "#                                                      'entonces_nombre',\n",
    "#                                                      'entonces_grados',\n",
    "#                                                      'entonces_medida_cant',\n",
    "#                                                      'entonces_unidades',\n",
    "#                                                      'automatico'\n",
    "#                                                     )))\n",
    "\n",
    "# Convertir a un DataFrame de Pandas\n",
    "df_urls = pd.DataFrame(list(querySiteURL.values('site', 'nombre','marca','medida_cant', 'unidades', 'idproducto', 'precio')))"
   ]
  },
  {
   "cell_type": "code",
   "execution_count": 12,
   "id": "697246d5",
   "metadata": {},
   "outputs": [],
   "source": [
    "df_urls['nombre'] = df_urls['nombre'].str.strip()\n",
    "df_urls['marca'] = df_urls['marca'].str.strip()\n",
    "df_urls['unidades'] = df_urls['unidades'].str.strip()\n",
    "df_urls['idproducto'] = df_urls['idproducto'].str.strip()"
   ]
  },
  {
   "cell_type": "code",
   "execution_count": 13,
   "id": "6595ebca",
   "metadata": {},
   "outputs": [],
   "source": [
    "df_marcas['nombre'] = df_marcas['nombre'].str.strip()\n",
    "df_urls['marca'] = df_urls['marca'].str.strip()\n",
    "df_urls['marca'] = df_urls['marca'].str.lower()"
   ]
  },
  {
   "cell_type": "code",
   "execution_count": 14,
   "id": "6e17e7a9",
   "metadata": {},
   "outputs": [],
   "source": [
    "df_urls.dropna(inplace=True)\n",
    "        "
   ]
  },
  {
   "attachments": {},
   "cell_type": "markdown",
   "id": "001f1907",
   "metadata": {},
   "source": [
    "### generar lista aquellos sin marca\n"
   ]
  },
  {
   "cell_type": "code",
   "execution_count": 15,
   "id": "c70096be",
   "metadata": {},
   "outputs": [],
   "source": [
    "df_sin_marca = df_urls[df_urls['marca'] == '']\n",
    "df_con_marca = df_urls[df_urls['marca'] != '']\n"
   ]
  },
  {
   "attachments": {},
   "cell_type": "markdown",
   "id": "f74ca554",
   "metadata": {},
   "source": [
    "## Lista de marcas no existentes"
   ]
  },
  {
   "cell_type": "code",
   "execution_count": 16,
   "id": "05d2f815",
   "metadata": {},
   "outputs": [],
   "source": [
    "lista_marcas_no_existen = df_con_marca[~df_con_marca['marca'].isin(df_marcas['nombre'])]\n",
    "lista_marcas_no_existen = lista_marcas_no_existen.drop(columns=['site', 'nombre', 'medida_cant', 'unidades', 'precio', 'idproducto'])\n",
    "lista_marcas_no_existen = lista_marcas_no_existen.sort_values(by='marca')\n",
    "lista_marcas_no_existen = lista_marcas_no_existen.drop_duplicates(keep='first')"
   ]
  },
  {
   "cell_type": "code",
   "execution_count": 17,
   "id": "56a108df",
   "metadata": {},
   "outputs": [],
   "source": [
    "existen, no_existen = 0,0\n",
    "### Se crean todas las marcas necesarias\n",
    "for marcas_no_existe in lista_marcas_no_existen['marca']:\n",
    "    \n",
    "    marca_limpia = unidecode.unidecode(marcas_no_existe)\n",
    "    \n",
    "    fixed_marca = fixMarca(marca_limpia)\n",
    "    \n",
    "    if not Marcas.objects.filter(nombre__iexact=fixed_marca).exists():\n",
    "        marca_limpia, created = Marcas.objects.update_or_create(nombre = fixed_marca)\n",
    "        \n",
    "        \n",
    "#     if not Marcas.objects.filter(nombre__iexact=marca_limpia).exists():\n",
    "#         marca_limpia, created = Marcas.objects.update_or_create(nombre = marca_limpia)\n",
    "        \n",
    "    if not Marcas.objects.filter(nombre__iexact=marcas_no_existe).exists():\n",
    "        marcas_no_existe, created = Marcas.objects.update_or_create(nombre = marcas_no_existe)\n",
    "\n",
    "    \n",
    "for marcas_no_existe in lista_marcas_no_existen['marca']:    \n",
    "    ## Objetos\n",
    "    marca_limpia = unidecode.unidecode(marcas_no_existe)\n",
    "    \n",
    "    fixed_marca = fixMarca(marca_limpia)\n",
    "\n",
    "    nueva_marca_obj = Marcas.objects.filter(nombre__iexact = marcas_no_existe).get()\n",
    "    fixed_marca_obj = Marcas.objects.filter(nombre__iexact = fixed_marca).get()\n",
    "    if nueva_marca_obj != fixed_marca_obj:\n",
    "        Unifica.objects.update_or_create(\n",
    "                si_marca=nueva_marca_obj,\n",
    "                entonces_marca=fixed_marca_obj,\n",
    "                contador=0,\n",
    "                automatico=True\n",
    "           )\n",
    "    \n",
    "\n"
   ]
  },
  {
   "attachments": {},
   "cell_type": "markdown",
   "id": "5ea5ebfb",
   "metadata": {},
   "source": [
    "## Campo marca vacio, la marca en el nombre\n"
   ]
  },
  {
   "cell_type": "code",
   "execution_count": 18,
   "id": "7c552d69",
   "metadata": {},
   "outputs": [
    {
     "name": "stdout",
     "output_type": "stream",
     "text": [
      "registros= 35286 marcas_doble=735  una_marca=34551\n"
     ]
    }
   ],
   "source": [
    "listamarcas = list(Marcas.objects.filter(es_marca=True).all())\n",
    "urlsinMarca = SiteURLResults.objects.filter(marca='').all()\n",
    "registro = 0\n",
    "marcas_doble = 0\n",
    "una_marca  = 0\n",
    "for url in urlsinMarca:\n",
    "    registro = registro  + 1\n",
    "    nombre = url.nombre.lower()\n",
    "    num_marcas = 0\n",
    "    arr_marcas = []\n",
    "    for posible_marrca in listamarcas:\n",
    "        busca_marca = posible_marrca.nombre.lower()\n",
    "        \n",
    "        if ( ' ' + busca_marca +' ' in nombre ) or \\\n",
    "            ( '.' + busca_marca +' ' in nombre ):\n",
    "            num_marcas = num_marcas + 1\n",
    "            arr_marcas.append(busca_marca)\n",
    "            ultima_marca = busca_marca\n",
    "            \n",
    "    if num_marcas == 1:\n",
    "        print(f'busca_marca= {ultima_marca}  en {url.nombre} ')\n",
    "        # url.marca = ultima_marca\n",
    "        # url.nombre = nombre.replace(ultima_marca, '')\n",
    "        # url.save()\n",
    "        una_marca = una_marca + 1\n",
    "        \n",
    "    else:\n",
    "        marcas_doble = marcas_doble + 1\n",
    "\n",
    "print(f'registros= {registro} marcas_doble={marcas_doble}  una_marca={una_marca}')"
   ]
  },
  {
   "cell_type": "code",
   "execution_count": 19,
   "id": "521ffdd8",
   "metadata": {},
   "outputs": [
    {
     "data": {
      "text/html": [
       "<div>\n",
       "<style scoped>\n",
       "    .dataframe tbody tr th:only-of-type {\n",
       "        vertical-align: middle;\n",
       "    }\n",
       "\n",
       "    .dataframe tbody tr th {\n",
       "        vertical-align: top;\n",
       "    }\n",
       "\n",
       "    .dataframe thead th {\n",
       "        text-align: right;\n",
       "    }\n",
       "</style>\n",
       "<table border=\"1\" class=\"dataframe\">\n",
       "  <thead>\n",
       "    <tr style=\"text-align: right;\">\n",
       "      <th></th>\n",
       "      <th>pk</th>\n",
       "      <th>site</th>\n",
       "      <th>nombre</th>\n",
       "      <th>marca</th>\n",
       "      <th>medida_cant</th>\n",
       "      <th>unidades</th>\n",
       "      <th>idproducto</th>\n",
       "      <th>precio</th>\n",
       "    </tr>\n",
       "  </thead>\n",
       "  <tbody>\n",
       "    <tr>\n",
       "      <th>0</th>\n",
       "      <td>593250</td>\n",
       "      <td>4</td>\n",
       "      <td>None</td>\n",
       "      <td>zuko</td>\n",
       "      <td>0.0</td>\n",
       "      <td>None</td>\n",
       "      <td>None</td>\n",
       "      <td>2530</td>\n",
       "    </tr>\n",
       "    <tr>\n",
       "      <th>1</th>\n",
       "      <td>587011</td>\n",
       "      <td>4</td>\n",
       "      <td>None</td>\n",
       "      <td>zuko</td>\n",
       "      <td>0.0</td>\n",
       "      <td>None</td>\n",
       "      <td>None</td>\n",
       "      <td>1690</td>\n",
       "    </tr>\n",
       "    <tr>\n",
       "      <th>2</th>\n",
       "      <td>675848</td>\n",
       "      <td>4</td>\n",
       "      <td>None</td>\n",
       "      <td>zuko</td>\n",
       "      <td>0.0</td>\n",
       "      <td>None</td>\n",
       "      <td>None</td>\n",
       "      <td>7990</td>\n",
       "    </tr>\n",
       "    <tr>\n",
       "      <th>3</th>\n",
       "      <td>589301</td>\n",
       "      <td>4</td>\n",
       "      <td>None</td>\n",
       "      <td>zuko</td>\n",
       "      <td>0.0</td>\n",
       "      <td>None</td>\n",
       "      <td>None</td>\n",
       "      <td>7290</td>\n",
       "    </tr>\n",
       "    <tr>\n",
       "      <th>4</th>\n",
       "      <td>588521</td>\n",
       "      <td>4</td>\n",
       "      <td>None</td>\n",
       "      <td>zuko</td>\n",
       "      <td>0.0</td>\n",
       "      <td>None</td>\n",
       "      <td>None</td>\n",
       "      <td>3750</td>\n",
       "    </tr>\n",
       "    <tr>\n",
       "      <th>...</th>\n",
       "      <td>...</td>\n",
       "      <td>...</td>\n",
       "      <td>...</td>\n",
       "      <td>...</td>\n",
       "      <td>...</td>\n",
       "      <td>...</td>\n",
       "      <td>...</td>\n",
       "      <td>...</td>\n",
       "    </tr>\n",
       "    <tr>\n",
       "      <th>92217</th>\n",
       "      <td>583544</td>\n",
       "      <td>4</td>\n",
       "      <td>None</td>\n",
       "      <td>Oral B</td>\n",
       "      <td>0.0</td>\n",
       "      <td>None</td>\n",
       "      <td>766331</td>\n",
       "      <td>3530</td>\n",
       "    </tr>\n",
       "    <tr>\n",
       "      <th>92218</th>\n",
       "      <td>590294</td>\n",
       "      <td>4</td>\n",
       "      <td>None</td>\n",
       "      <td>Quillayes</td>\n",
       "      <td>0.0</td>\n",
       "      <td>None</td>\n",
       "      <td>276563</td>\n",
       "      <td>850</td>\n",
       "    </tr>\n",
       "    <tr>\n",
       "      <th>92219</th>\n",
       "      <td>588523</td>\n",
       "      <td>4</td>\n",
       "      <td>None</td>\n",
       "      <td>Casillero del Diablo</td>\n",
       "      <td>0.0</td>\n",
       "      <td>None</td>\n",
       "      <td>709647</td>\n",
       "      <td>7750</td>\n",
       "    </tr>\n",
       "    <tr>\n",
       "      <th>92220</th>\n",
       "      <td>582975</td>\n",
       "      <td>4</td>\n",
       "      <td>None</td>\n",
       "      <td>Loreal</td>\n",
       "      <td>0.0</td>\n",
       "      <td>None</td>\n",
       "      <td>621339</td>\n",
       "      <td>3190</td>\n",
       "    </tr>\n",
       "    <tr>\n",
       "      <th>92221</th>\n",
       "      <td>592406</td>\n",
       "      <td>4</td>\n",
       "      <td>None</td>\n",
       "      <td>Chocapic</td>\n",
       "      <td>2.0</td>\n",
       "      <td>None</td>\n",
       "      <td>813457</td>\n",
       "      <td>2830</td>\n",
       "    </tr>\n",
       "  </tbody>\n",
       "</table>\n",
       "<p>92222 rows × 8 columns</p>\n",
       "</div>"
      ],
      "text/plain": [
       "           pk  site nombre                 marca  medida_cant unidades   \n",
       "0      593250     4   None                  zuko          0.0     None  \\\n",
       "1      587011     4   None                  zuko          0.0     None   \n",
       "2      675848     4   None                  zuko          0.0     None   \n",
       "3      589301     4   None                  zuko          0.0     None   \n",
       "4      588521     4   None                  zuko          0.0     None   \n",
       "...       ...   ...    ...                   ...          ...      ...   \n",
       "92217  583544     4   None                Oral B          0.0     None   \n",
       "92218  590294     4   None             Quillayes          0.0     None   \n",
       "92219  588523     4   None  Casillero del Diablo          0.0     None   \n",
       "92220  582975     4   None                Loreal          0.0     None   \n",
       "92221  592406     4   None              Chocapic          2.0     None   \n",
       "\n",
       "      idproducto  precio  \n",
       "0           None    2530  \n",
       "1           None    1690  \n",
       "2           None    7990  \n",
       "3           None    7290  \n",
       "4           None    3750  \n",
       "...          ...     ...  \n",
       "92217     766331    3530  \n",
       "92218     276563     850  \n",
       "92219     709647    7750  \n",
       "92220     621339    3190  \n",
       "92221     813457    2830  \n",
       "\n",
       "[92222 rows x 8 columns]"
      ]
     },
     "execution_count": 19,
     "metadata": {},
     "output_type": "execute_result"
    }
   ],
   "source": [
    "# Obtener todos los registros de SiteURLResults\n",
    "querySiteURL = SiteURLResults.objects.exclude(precio=0, nombre='', marca='').all()\n",
    "\n",
    "# Convertir a un DataFrame de Pandas\n",
    "df_urls = pd.DataFrame(list(querySiteURL.values('pk', 'site', 'nombre','marca','medida_cant', 'unidades', 'idproducto', 'precio')))\n",
    "df_urls = df_urls.replace(r'^\\s*$', value=None, regex=True)\n",
    "\n",
    "# reemplazar el carácter acentuado por el carácter sin acento en la columna de nombre\n",
    "df_urls['nombre'] = df_urls['nombre'].str.replace(\"´\", \"'\")\n",
    "\n",
    "df_urls"
   ]
  },
  {
   "cell_type": "code",
   "execution_count": null,
   "id": "a65971b4",
   "metadata": {},
   "outputs": [],
   "source": [
    "cuenta = 0\n",
    "# for i, row in df_urls.iterrows():\n",
    "#     cuenta = cuenta + 1\n",
    "\n",
    "#     url = SiteURLResults.objects.get(pk=row['pk'])\n",
    "#     url.nombre      = row['nombre']\n",
    "#     url.marca       = row['marca']\n",
    "#     url.medida_cant = row['medida_cant']\n",
    "#     url.unidades    = row['unidades']\n",
    "#     url.idproducto  = row['idproducto']\n",
    "#     url.save()\n",
    "    \n",
    "updated_urls = []\n",
    "for i, row in df_urls.iterrows():\n",
    "    cuenta = cuenta + 1\n",
    "    url = SiteURLResults(\n",
    "        pk=row['pk'],\n",
    "        nombre=row['nombre'],\n",
    "        marca=row['marca'],\n",
    "        medida_cant=row['medida_cant'],\n",
    "        unidades=row['unidades'],\n",
    "        idproducto=row['idproducto']\n",
    "    )\n",
    "    updated_urls.append(url)\n",
    "\n",
    "SiteURLResults.objects.bulk_update(\n",
    "    updated_urls,\n",
    "    ['nombre', 'marca',  'medida_cant', 'unidades', 'idproducto']\n",
    ")"
   ]
  },
  {
   "cell_type": "code",
   "execution_count": null,
   "id": "c3aa5907",
   "metadata": {},
   "outputs": [],
   "source": [
    "print(cuenta)"
   ]
  },
  {
   "cell_type": "code",
   "execution_count": null,
   "id": "3f5aaea5",
   "metadata": {},
   "outputs": [],
   "source": [
    "UPDATE precios_articulos\n",
    "SET ean_13 = REPLACE(ean_13, 'sku:', '')\n",
    "WHERE ean_13 LIKE '%sku:%';\n",
    "\n",
    "UPDATE precios_articulos\n",
    "SET ean_13 = REPLACE(ean_13, '\\t\\t\\t\\t\\n\\n', '')\n",
    "WHERE ean_13 LIKE '%\\t\\t\\t\\t\\n\\n%';\n",
    "UPDATE precios_articulos\n",
    "SET ean_13 = REPLACE(ean_13, '\\t', '')\n",
    "WHERE ean_13 LIKE '%\\t%';\n",
    "UPDATE precios_articulos\n",
    "SET ean_13 = REPLACE(ean_13, '\\n', '')\n",
    "WHERE ean_13 LIKE '%\\n%';\n",
    "\n",
    "UPDATE precios_articulos SET ean_13 = REPLACE(ean_13, ' ', '');\n",
    "\n",
    "\n",
    "\n",
    "UPDATE precios_siteurlresults\n",
    "SET idproducto = REPLACE(idproducto, 'sku:', '')\n",
    "WHERE idproducto LIKE '%sku:%';\n",
    "\n",
    "UPDATE precios_siteurlresults\n",
    "SET idproducto = REPLACE(idproducto, '\\t\\t\\t\\t\\n\\n', '')\n",
    "WHERE idproducto LIKE '%\\t\\t\\t\\t\\n\\n%';\n",
    "\n",
    "UPDATE precios_siteurlresults\n",
    "SET idproducto = REPLACE(idproducto, '\\t', '')\n",
    "WHERE idproducto LIKE '%\\t%';\n",
    "\n",
    "UPDATE precios_siteurlresults\n",
    "SET idproducto = REPLACE(idproducto, '\\n', '')\n",
    "WHERE idproducto LIKE '%\\n%';\n",
    "\n",
    "UPDATE precios_siteurlresults SET idproducto = REPLACE(idproducto, ' ', '');"
   ]
  }
 ],
 "metadata": {
  "kernelspec": {
   "display_name": "Django Shell-Plus",
   "language": "python",
   "name": "django_extensions"
  },
  "language_info": {
   "codemirror_mode": {
    "name": "ipython",
    "version": 3
   },
   "file_extension": ".py",
   "mimetype": "text/x-python",
   "name": "python",
   "nbconvert_exporter": "python",
   "pygments_lexer": "ipython3",
   "version": "3.10.6"
  }
 },
 "nbformat": 4,
 "nbformat_minor": 5
}
