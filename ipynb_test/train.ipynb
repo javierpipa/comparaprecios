{
 "cells": [
  {
   "cell_type": "code",
   "execution_count": 28,
   "metadata": {},
   "outputs": [],
   "source": [
    "from django_for_jupyter import init_django\n",
    "\n",
    "init_django()"
   ]
  },
  {
   "cell_type": "code",
   "execution_count": 31,
   "metadata": {},
   "outputs": [],
   "source": [
    "from precios.models import (\n",
    "    Articulos,\n",
    "    SiteURLResults,\n",
    "    AllPalabras,\n",
    "    Marcas\n",
    "        # Cambia 'mi_app' y 'MiModelo' a tus nombres reales\n",
    ")\n",
    "# Entrenar un modelo usando scikit-learn como ejemplo\n",
    "from sklearn.model_selection import train_test_split\n",
    "from sklearn.ensemble import RandomForestClassifier\n",
    "from sklearn.preprocessing import OneHotEncoder\n",
    "from django_pandas.io import read_frame\n",
    "\n",
    "unidades_de_medida  = AllPalabras.objects.filter(tipo='Unidades de medida').values_list('palabra', flat=True)\n",
    "tallas              = AllPalabras.objects.filter(tipo='Tallas').values_list('palabra', flat=True)\n",
    "envases             = AllPalabras.objects.filter(tipo='Tallas').values_list('palabra', flat=True)\n",
    "unidades            = AllPalabras.objects.filter(tipo='Unidades').values_list('palabra', flat=True)"
   ]
  },
  {
   "cell_type": "code",
   "execution_count": 51,
   "metadata": {},
   "outputs": [
    {
     "ename": "AttributeError",
     "evalue": "'list' object has no attribute '_iterable_class'",
     "output_type": "error",
     "traceback": [
      "\u001b[0;31m---------------------------------------------------------------------------\u001b[0m",
      "\u001b[0;31mAttributeError\u001b[0m                            Traceback (most recent call last)",
      "\u001b[1;32m/home/javier/hd1/Codigo/JAVIER/test1/comparaprecios-1/ipynb_test/train.ipynb Cell 3\u001b[0m line \u001b[0;36m7\n\u001b[1;32m      <a href='vscode-notebook-cell:/home/javier/hd1/Codigo/JAVIER/test1/comparaprecios-1/ipynb_test/train.ipynb#W4sZmlsZQ%3D%3D?line=4'>5</a>\u001b[0m marcas              \u001b[39m=\u001b[39m Marcas\u001b[39m.\u001b[39mobjects\u001b[39m.\u001b[39mfilter(es_marca\u001b[39m=\u001b[39m\u001b[39mTrue\u001b[39;00m)\u001b[39m.\u001b[39mvalues_list(\u001b[39m'\u001b[39m\u001b[39mid\u001b[39m\u001b[39m'\u001b[39m, flat\u001b[39m=\u001b[39m\u001b[39mTrue\u001b[39;00m)\u001b[39m.\u001b[39mall()\n\u001b[1;32m      <a href='vscode-notebook-cell:/home/javier/hd1/Codigo/JAVIER/test1/comparaprecios-1/ipynb_test/train.ipynb#W4sZmlsZQ%3D%3D?line=5'>6</a>\u001b[0m marcas              \u001b[39m=\u001b[39m \u001b[39msorted\u001b[39m(marcas)\n\u001b[0;32m----> <a href='vscode-notebook-cell:/home/javier/hd1/Codigo/JAVIER/test1/comparaprecios-1/ipynb_test/train.ipynb#W4sZmlsZQ%3D%3D?line=6'>7</a>\u001b[0m df_marcas           \u001b[39m=\u001b[39m read_frame(marcas)\n\u001b[1;32m      <a href='vscode-notebook-cell:/home/javier/hd1/Codigo/JAVIER/test1/comparaprecios-1/ipynb_test/train.ipynb#W4sZmlsZQ%3D%3D?line=8'>9</a>\u001b[0m qs \u001b[39m=\u001b[39m Articulos\u001b[39m.\u001b[39mobjects\u001b[39m.\u001b[39mvalues(\u001b[39m'\u001b[39m\u001b[39mmarca__id\u001b[39m\u001b[39m'\u001b[39m)\u001b[39m.\u001b[39mall()\n\u001b[1;32m     <a href='vscode-notebook-cell:/home/javier/hd1/Codigo/JAVIER/test1/comparaprecios-1/ipynb_test/train.ipynb#W4sZmlsZQ%3D%3D?line=9'>10</a>\u001b[0m df \u001b[39m=\u001b[39m read_frame(qs)\n",
      "File \u001b[0;32m~/hd1/Codigo/JAVIER/test1/venv/lib/python3.10/site-packages/django_pandas/io.py:91\u001b[0m, in \u001b[0;36mread_frame\u001b[0;34m(qs, fieldnames, index_col, coerce_float, verbose, datetime_index, column_names)\u001b[0m\n\u001b[1;32m     89\u001b[0m             column_names \u001b[39m=\u001b[39m \u001b[39mtuple\u001b[39m(column_names) \u001b[39m+\u001b[39m (index_col,)\n\u001b[1;32m     90\u001b[0m     fields \u001b[39m=\u001b[39m to_fields(qs, fieldnames)\n\u001b[0;32m---> 91\u001b[0m \u001b[39melif\u001b[39;00m is_values_queryset(qs):\n\u001b[1;32m     92\u001b[0m     \u001b[39mif\u001b[39;00m django\u001b[39m.\u001b[39mVERSION \u001b[39m<\u001b[39m (\u001b[39m1\u001b[39m, \u001b[39m9\u001b[39m):  \u001b[39m# pragma: no cover\u001b[39;00m\n\u001b[1;32m     93\u001b[0m         annotation_field_names \u001b[39m=\u001b[39m \u001b[39mlist\u001b[39m(qs\u001b[39m.\u001b[39mquery\u001b[39m.\u001b[39mannotation_select)\n",
      "File \u001b[0;32m~/hd1/Codigo/JAVIER/test1/venv/lib/python3.10/site-packages/django_pandas/io.py:39\u001b[0m, in \u001b[0;36mis_values_queryset\u001b[0;34m(qs)\u001b[0m\n\u001b[1;32m     37\u001b[0m     \u001b[39mreturn\u001b[39;00m \u001b[39misinstance\u001b[39m(qs, django\u001b[39m.\u001b[39mdb\u001b[39m.\u001b[39mmodels\u001b[39m.\u001b[39mquery\u001b[39m.\u001b[39mValuesQuerySet)\n\u001b[1;32m     38\u001b[0m \u001b[39melse\u001b[39;00m:\n\u001b[0;32m---> 39\u001b[0m     \u001b[39mreturn\u001b[39;00m qs\u001b[39m.\u001b[39;49m_iterable_class \u001b[39m==\u001b[39m django\u001b[39m.\u001b[39mdb\u001b[39m.\u001b[39mmodels\u001b[39m.\u001b[39mquery\u001b[39m.\u001b[39mValuesIterable\n",
      "\u001b[0;31mAttributeError\u001b[0m: 'list' object has no attribute '_iterable_class'"
     ]
    }
   ],
   "source": [
    "from precios.models import (\n",
    "    Articulos,\n",
    "    SiteURLResults,\n",
    ")\n",
    "marcas              = Marcas.objects.filter(es_marca=True).values_list('id', flat=True).order_by('id').all()\n",
    "# marcas              = sorted(marcas)\n",
    "df_marcas           = read_frame(marcas)\n",
    "\n",
    "qs = Articulos.objects.values('marca__id').all()\n",
    "df = read_frame(qs)\n",
    "df = df[df['marca__id'].isin(marcas)]\n",
    "\n",
    "enc = OneHotEncoder(categories=[marcas], handle_unknown='ignore', sparse=False)\n",
    "enc\n",
    "\n",
    "# onehot_data = enc.fit_transform(df[['marca__id']])\n",
    "# onehot_data"
   ]
  },
  {
   "cell_type": "code",
   "execution_count": 50,
   "metadata": {},
   "outputs": [
    {
     "name": "stderr",
     "output_type": "stream",
     "text": [
      "/home/javier/hd1/Codigo/JAVIER/test1/venv/lib/python3.10/site-packages/sklearn/preprocessing/_encoders.py:975: FutureWarning: `sparse` was renamed to `sparse_output` in version 1.2 and will be removed in 1.4. `sparse_output` is ignored unless you leave `sparse` to its default value.\n",
      "  warnings.warn(\n"
     ]
    },
    {
     "ename": "ValueError",
     "evalue": "Unsorted categories are not supported for numerical categories",
     "output_type": "error",
     "traceback": [
      "\u001b[0;31m---------------------------------------------------------------------------\u001b[0m",
      "\u001b[0;31mValueError\u001b[0m                                Traceback (most recent call last)",
      "\u001b[1;32m/home/javier/hd1/Codigo/JAVIER/test1/comparaprecios-1/ipynb_test/train.ipynb Cell 4\u001b[0m line \u001b[0;36m1\n\u001b[0;32m----> <a href='vscode-notebook-cell:/home/javier/hd1/Codigo/JAVIER/test1/comparaprecios-1/ipynb_test/train.ipynb#W5sZmlsZQ%3D%3D?line=0'>1</a>\u001b[0m onehot_data \u001b[39m=\u001b[39m enc\u001b[39m.\u001b[39;49mfit_transform(df[[\u001b[39m'\u001b[39;49m\u001b[39mmarca__id\u001b[39;49m\u001b[39m'\u001b[39;49m]])\n",
      "File \u001b[0;32m~/hd1/Codigo/JAVIER/test1/venv/lib/python3.10/site-packages/sklearn/utils/_set_output.py:157\u001b[0m, in \u001b[0;36m_wrap_method_output.<locals>.wrapped\u001b[0;34m(self, X, *args, **kwargs)\u001b[0m\n\u001b[1;32m    155\u001b[0m \u001b[39m@wraps\u001b[39m(f)\n\u001b[1;32m    156\u001b[0m \u001b[39mdef\u001b[39;00m \u001b[39mwrapped\u001b[39m(\u001b[39mself\u001b[39m, X, \u001b[39m*\u001b[39margs, \u001b[39m*\u001b[39m\u001b[39m*\u001b[39mkwargs):\n\u001b[0;32m--> 157\u001b[0m     data_to_wrap \u001b[39m=\u001b[39m f(\u001b[39mself\u001b[39;49m, X, \u001b[39m*\u001b[39;49margs, \u001b[39m*\u001b[39;49m\u001b[39m*\u001b[39;49mkwargs)\n\u001b[1;32m    158\u001b[0m     \u001b[39mif\u001b[39;00m \u001b[39misinstance\u001b[39m(data_to_wrap, \u001b[39mtuple\u001b[39m):\n\u001b[1;32m    159\u001b[0m         \u001b[39m# only wrap the first output for cross decomposition\u001b[39;00m\n\u001b[1;32m    160\u001b[0m         return_tuple \u001b[39m=\u001b[39m (\n\u001b[1;32m    161\u001b[0m             _wrap_data_with_container(method, data_to_wrap[\u001b[39m0\u001b[39m], X, \u001b[39mself\u001b[39m),\n\u001b[1;32m    162\u001b[0m             \u001b[39m*\u001b[39mdata_to_wrap[\u001b[39m1\u001b[39m:],\n\u001b[1;32m    163\u001b[0m         )\n",
      "File \u001b[0;32m~/hd1/Codigo/JAVIER/test1/venv/lib/python3.10/site-packages/sklearn/base.py:916\u001b[0m, in \u001b[0;36mTransformerMixin.fit_transform\u001b[0;34m(self, X, y, **fit_params)\u001b[0m\n\u001b[1;32m    912\u001b[0m \u001b[39m# non-optimized default implementation; override when a better\u001b[39;00m\n\u001b[1;32m    913\u001b[0m \u001b[39m# method is possible for a given clustering algorithm\u001b[39;00m\n\u001b[1;32m    914\u001b[0m \u001b[39mif\u001b[39;00m y \u001b[39mis\u001b[39;00m \u001b[39mNone\u001b[39;00m:\n\u001b[1;32m    915\u001b[0m     \u001b[39m# fit method of arity 1 (unsupervised transformation)\u001b[39;00m\n\u001b[0;32m--> 916\u001b[0m     \u001b[39mreturn\u001b[39;00m \u001b[39mself\u001b[39;49m\u001b[39m.\u001b[39;49mfit(X, \u001b[39m*\u001b[39;49m\u001b[39m*\u001b[39;49mfit_params)\u001b[39m.\u001b[39mtransform(X)\n\u001b[1;32m    917\u001b[0m \u001b[39melse\u001b[39;00m:\n\u001b[1;32m    918\u001b[0m     \u001b[39m# fit method of arity 2 (supervised transformation)\u001b[39;00m\n\u001b[1;32m    919\u001b[0m     \u001b[39mreturn\u001b[39;00m \u001b[39mself\u001b[39m\u001b[39m.\u001b[39mfit(X, y, \u001b[39m*\u001b[39m\u001b[39m*\u001b[39mfit_params)\u001b[39m.\u001b[39mtransform(X)\n",
      "File \u001b[0;32m~/hd1/Codigo/JAVIER/test1/venv/lib/python3.10/site-packages/sklearn/base.py:1152\u001b[0m, in \u001b[0;36m_fit_context.<locals>.decorator.<locals>.wrapper\u001b[0;34m(estimator, *args, **kwargs)\u001b[0m\n\u001b[1;32m   1145\u001b[0m     estimator\u001b[39m.\u001b[39m_validate_params()\n\u001b[1;32m   1147\u001b[0m \u001b[39mwith\u001b[39;00m config_context(\n\u001b[1;32m   1148\u001b[0m     skip_parameter_validation\u001b[39m=\u001b[39m(\n\u001b[1;32m   1149\u001b[0m         prefer_skip_nested_validation \u001b[39mor\u001b[39;00m global_skip_validation\n\u001b[1;32m   1150\u001b[0m     )\n\u001b[1;32m   1151\u001b[0m ):\n\u001b[0;32m-> 1152\u001b[0m     \u001b[39mreturn\u001b[39;00m fit_method(estimator, \u001b[39m*\u001b[39;49margs, \u001b[39m*\u001b[39;49m\u001b[39m*\u001b[39;49mkwargs)\n",
      "File \u001b[0;32m~/hd1/Codigo/JAVIER/test1/venv/lib/python3.10/site-packages/sklearn/preprocessing/_encoders.py:985\u001b[0m, in \u001b[0;36mOneHotEncoder.fit\u001b[0;34m(self, X, y)\u001b[0m\n\u001b[1;32m    975\u001b[0m     warnings\u001b[39m.\u001b[39mwarn(\n\u001b[1;32m    976\u001b[0m         (\n\u001b[1;32m    977\u001b[0m             \u001b[39m\"\u001b[39m\u001b[39m`sparse` was renamed to `sparse_output` in version 1.2 and \u001b[39m\u001b[39m\"\u001b[39m\n\u001b[0;32m   (...)\u001b[0m\n\u001b[1;32m    981\u001b[0m         \u001b[39mFutureWarning\u001b[39;00m,\n\u001b[1;32m    982\u001b[0m     )\n\u001b[1;32m    983\u001b[0m     \u001b[39mself\u001b[39m\u001b[39m.\u001b[39msparse_output \u001b[39m=\u001b[39m \u001b[39mself\u001b[39m\u001b[39m.\u001b[39msparse\n\u001b[0;32m--> 985\u001b[0m \u001b[39mself\u001b[39;49m\u001b[39m.\u001b[39;49m_fit(\n\u001b[1;32m    986\u001b[0m     X,\n\u001b[1;32m    987\u001b[0m     handle_unknown\u001b[39m=\u001b[39;49m\u001b[39mself\u001b[39;49m\u001b[39m.\u001b[39;49mhandle_unknown,\n\u001b[1;32m    988\u001b[0m     force_all_finite\u001b[39m=\u001b[39;49m\u001b[39m\"\u001b[39;49m\u001b[39mallow-nan\u001b[39;49m\u001b[39m\"\u001b[39;49m,\n\u001b[1;32m    989\u001b[0m )\n\u001b[1;32m    990\u001b[0m \u001b[39mself\u001b[39m\u001b[39m.\u001b[39m_set_drop_idx()\n\u001b[1;32m    991\u001b[0m \u001b[39mself\u001b[39m\u001b[39m.\u001b[39m_n_features_outs \u001b[39m=\u001b[39m \u001b[39mself\u001b[39m\u001b[39m.\u001b[39m_compute_n_features_outs()\n",
      "File \u001b[0;32m~/hd1/Codigo/JAVIER/test1/venv/lib/python3.10/site-packages/sklearn/preprocessing/_encoders.py:136\u001b[0m, in \u001b[0;36m_BaseEncoder._fit\u001b[0;34m(self, X, handle_unknown, force_all_finite, return_counts, return_and_ignore_missing_for_infrequent)\u001b[0m\n\u001b[1;32m    132\u001b[0m     stop_idx \u001b[39m=\u001b[39m \u001b[39m-\u001b[39m\u001b[39m1\u001b[39m \u001b[39mif\u001b[39;00m np\u001b[39m.\u001b[39misnan(sorted_cats[\u001b[39m-\u001b[39m\u001b[39m1\u001b[39m]) \u001b[39melse\u001b[39;00m \u001b[39mNone\u001b[39;00m\n\u001b[1;32m    133\u001b[0m     \u001b[39mif\u001b[39;00m np\u001b[39m.\u001b[39many(sorted_cats[:stop_idx] \u001b[39m!=\u001b[39m cats[:stop_idx]) \u001b[39mor\u001b[39;00m (\n\u001b[1;32m    134\u001b[0m         np\u001b[39m.\u001b[39misnan(sorted_cats[\u001b[39m-\u001b[39m\u001b[39m1\u001b[39m]) \u001b[39mand\u001b[39;00m \u001b[39mnot\u001b[39;00m np\u001b[39m.\u001b[39misnan(sorted_cats[\u001b[39m-\u001b[39m\u001b[39m1\u001b[39m])\n\u001b[1;32m    135\u001b[0m     ):\n\u001b[0;32m--> 136\u001b[0m         \u001b[39mraise\u001b[39;00m \u001b[39mValueError\u001b[39;00m(error_msg)\n\u001b[1;32m    138\u001b[0m \u001b[39mif\u001b[39;00m handle_unknown \u001b[39m==\u001b[39m \u001b[39m\"\u001b[39m\u001b[39merror\u001b[39m\u001b[39m\"\u001b[39m:\n\u001b[1;32m    139\u001b[0m     diff \u001b[39m=\u001b[39m _check_unknown(Xi, cats)\n",
      "\u001b[0;31mValueError\u001b[0m: Unsorted categories are not supported for numerical categories"
     ]
    }
   ],
   "source": [
    "onehot_data = enc.fit_transform(df[['marca__id']])\n"
   ]
  },
  {
   "cell_type": "code",
   "execution_count": null,
   "metadata": {},
   "outputs": [],
   "source": [
    "df_onehot = pd.DataFrame(onehot_data, columns=enc.get_feature_names_out(['marca']))\n"
   ]
  },
  {
   "cell_type": "code",
   "execution_count": 36,
   "metadata": {},
   "outputs": [
    {
     "name": "stderr",
     "output_type": "stream",
     "text": [
      "/home/javier/hd1/Codigo/JAVIER/test1/venv/lib/python3.10/site-packages/sklearn/preprocessing/_encoders.py:975: FutureWarning: `sparse` was renamed to `sparse_output` in version 1.2 and will be removed in 1.4. `sparse_output` is ignored unless you leave `sparse` to its default value.\n",
      "  warnings.warn(\n"
     ]
    },
    {
     "ename": "ValueError",
     "evalue": "Found unknown categories ['rana', 'rexona clinical', 'champion mini pets', 'master cat', 'j bouchon', 'mulas', 'bulldog', 'blenders pride', 'simond´s', 'misión', 'viña kaiken', 'market', 'alupaper', 'jules', 'carezza', 'vicenzi champagne', 'not cream', 'tullamore dew', \"sheridan' s\", 'dr pepper', \"kellogg's\", 'perez cruz', 'lp', 'johnson & johnson', 'l’oréal paris', 'arom', 'faber-castell', \"campbell's\", 'cono sur', 'fresh cut', 'viña j. bouchon', 'bisquertt', '1865', 'lifestyle', 'heineken cero', 'viña santa helena', 'mane ´n tail', 'coca cola zero', 'papas', 'sta emiliana', 'nordic', 'the guiligan´s distinguished', 'mas', 'vicenci grisbi', 'wild protein', 'inka kola', 'herbal classic', 'oralfresh', 'viennetta bresler', 'viña la rosa', 'iansa agro', 'viña cousiño macul', 'herbal chile', 'ama', 'breden master', 'gourmet natural', 'gulden brewmaster', 'kem xtreme', 'viña concha y toro', 'tena', 'etiquet', 'viña indomita', 'hipoglós', 'viña terra andina', 'nordic mist', 'casa patronales', 'alufoil', 'lapostolle', '3r', 'sanyfarm', 'rigochoc arcor', 'pam', 'forno minas', 'frutas y verduras santa isabel', 'viña casa donoso', 'logitech g', 'yogu yogu', 'kem piña', 'ailencutral espino', 'casta', 'bilz y pap', \"johnson's baby\", \"hershey's\", 'prima', 'mega', 'bou', 'capri', 'mrs. meyer´s', 'fanta zero', 'antibac', 'viña tarapacá', 'viña casa silva', 'frutas y verduras', 'illy', 'sierra blanco', 'dove men', 'casa marin', 'cor intensa', 'limon soda light', 'lovelemon', 'blanc', 'henkel', 'sm', 'oral fresh', 'viña gracia de chile', 'bilz zero', 'redbull', 'sprite zero', 'sta ema', 'yuz', 'colmenares ralun', 'viña santa carolina', 'viña bodega uno', 'nature´s heart', 'sal lobos', 'callia dulce', 'vodka pl', 'orange crush', 'dove clinical', 'gelatti kids', 'viña santa ema', 'forno de minas', '35 sur', 'saf chile', 'san francisco', 'pepsi light', 'hoc', 'nat', 'iansa cero k', 'j. bouchon', 'pepsi crush', 'oso', 'emiliana', 'viña santa rita', 'doña repa', 'evercrips', \"hellmann's supreme\", 'viña mar', 'gulden imperial', 'oral b', 'amos', 'viña odfjell', 'champion cat', 'castillo molina', 'afe', 'unimarc.', 'airwick', 'purina one', 'activia', 'viña von siebenthal', 'grana', 'not ice cream', 'mr veggie', 'st', 'lonco', 'philips', 'bio frescura', 'frutas y verduras propias', 'las bezanilla', 'gordon´s', 'not burger', 'not chicken', 'your goal', 'rei', 'tivoni garden foods', 'not cheese', 'viña cremaschi furlotti', 'volcanes', 'gato', 'big time', 'bio', 'marley coffee', '120 santa rita', 'orgánico', 'caballo loco', \"watt's selección\", 'cook & fun', \"buchanan's\", 'viña carmen', 'pf listo', 'thai', 'altair', 'viña undurraga', 'tp link', 'champion dog', 'raff', 'viña doña paula', 'viña morandé', 'viña luigi bosca', 'bols', 'amayna', 'las parcelas', 'luchetti', 'das', 'paso', 'sta cruz', 'viña casas patronales', 'sierra', 'mc cormick', 'cerealita', 'hips', 'viña lapostolle', 's digna', 'viña la hacienda', 'viña caliterra', 'kem zero', 'mel', 'mr big', 'blenders honey', 'van camps', 'saint germain', 'm2', 'americano', 'los alerces', 'simonds', 'monte cristo', 'sta carolina', 'not mayo', 'abuelo', 'shot & go', 'viña casas del bosque', 'so', 'beorganics', 'not meat', 'poroto', 'ritting', 'pan', 'secret', 'viña perez cruz', 'carolina', 'hierbas', 'pap zero', 'verde flor', 'viña leyda', 'viña miguel torres', 'rema', 'viña william fevre', 'yogu - yogu', 'viña errázuriz', 'estrella de elqui', 'the london n°1', 'ramazzoti', 'uno', 'seven up', 'act11', 'm. torres', 'coca cola light', 'havana', 'moco gorila', 'pantene nutrient blends', 'zucosos', 'caricia', 'isola bio', 'viña ventisquero', 'mistral ice', 'maggie', 'ballantines', 'maizena', 'viña casa rivas', 'arboleda', 'saf instant', 'superbeef', 'bear beer', 'nestlé naturnes', 'aluplast', 'caa yari mate', 'zacapa', 'viña santa cruz', 'nutrabien', 'estrella damm', 'loreal', 'bravo cream', 'head', 'tuco', 'burt`s bees', 'loreal excellence', \"watt's\", 'ramazotti', 'aresti', 'sixstar', 'hellmanns', 'viña castillo de molina', 'coca cola', 'viña los vascos', 'viu', 'pepsi zero', 'm&m', 'ka', 'viña san pedro', 'stabilo', 'viña sol de chile', 'nivea men'] in column 0 during fit",
     "output_type": "error",
     "traceback": [
      "\u001b[0;31m---------------------------------------------------------------------------\u001b[0m",
      "\u001b[0;31mValueError\u001b[0m                                Traceback (most recent call last)",
      "\u001b[1;32m/home/javier/hd1/Codigo/JAVIER/test1/comparaprecios-1/ipynb_test/train.ipynb Cell 3\u001b[0m line \u001b[0;36m1\n\u001b[1;32m     <a href='vscode-notebook-cell:/home/javier/hd1/Codigo/JAVIER/test1/comparaprecios-1/ipynb_test/train.ipynb#W1sZmlsZQ%3D%3D?line=13'>14</a>\u001b[0m enc \u001b[39m=\u001b[39m OneHotEncoder(categories\u001b[39m=\u001b[39m[marcas], sparse\u001b[39m=\u001b[39m\u001b[39mFalse\u001b[39;00m)\n\u001b[1;32m     <a href='vscode-notebook-cell:/home/javier/hd1/Codigo/JAVIER/test1/comparaprecios-1/ipynb_test/train.ipynb#W1sZmlsZQ%3D%3D?line=15'>16</a>\u001b[0m \u001b[39m# Ajusta y transforma los datos en un solo paso\u001b[39;00m\n\u001b[1;32m     <a href='vscode-notebook-cell:/home/javier/hd1/Codigo/JAVIER/test1/comparaprecios-1/ipynb_test/train.ipynb#W1sZmlsZQ%3D%3D?line=16'>17</a>\u001b[0m \u001b[39m# onehot_data = enc.fit_transform(df[['marca', 'medida_um',  'unidades']])\u001b[39;00m\n\u001b[0;32m---> <a href='vscode-notebook-cell:/home/javier/hd1/Codigo/JAVIER/test1/comparaprecios-1/ipynb_test/train.ipynb#W1sZmlsZQ%3D%3D?line=17'>18</a>\u001b[0m onehot_data \u001b[39m=\u001b[39m enc\u001b[39m.\u001b[39;49mfit_transform(df[[\u001b[39m'\u001b[39;49m\u001b[39mmarca\u001b[39;49m\u001b[39m'\u001b[39;49m]])\n\u001b[1;32m     <a href='vscode-notebook-cell:/home/javier/hd1/Codigo/JAVIER/test1/comparaprecios-1/ipynb_test/train.ipynb#W1sZmlsZQ%3D%3D?line=18'>19</a>\u001b[0m onehot_data\n\u001b[1;32m     <a href='vscode-notebook-cell:/home/javier/hd1/Codigo/JAVIER/test1/comparaprecios-1/ipynb_test/train.ipynb#W1sZmlsZQ%3D%3D?line=20'>21</a>\u001b[0m \u001b[39m# enc = OneHotEncoder(categories=[marcas, unidades_de_medida, tallas, envases, unidades], sparse=False)\u001b[39;00m\n\u001b[1;32m     <a href='vscode-notebook-cell:/home/javier/hd1/Codigo/JAVIER/test1/comparaprecios-1/ipynb_test/train.ipynb#W1sZmlsZQ%3D%3D?line=21'>22</a>\u001b[0m \n\u001b[1;32m     <a href='vscode-notebook-cell:/home/javier/hd1/Codigo/JAVIER/test1/comparaprecios-1/ipynb_test/train.ipynb#W1sZmlsZQ%3D%3D?line=22'>23</a>\u001b[0m \u001b[39m# clf = RandomForestClassifier()\u001b[39;00m\n\u001b[0;32m   (...)\u001b[0m\n\u001b[1;32m     <a href='vscode-notebook-cell:/home/javier/hd1/Codigo/JAVIER/test1/comparaprecios-1/ipynb_test/train.ipynb#W1sZmlsZQ%3D%3D?line=26'>27</a>\u001b[0m \u001b[39m# # onehot_data = enc.transform(df[['marca', 'medida_um', 'unidades']])\u001b[39;00m\n\u001b[1;32m     <a href='vscode-notebook-cell:/home/javier/hd1/Codigo/JAVIER/test1/comparaprecios-1/ipynb_test/train.ipynb#W1sZmlsZQ%3D%3D?line=27'>28</a>\u001b[0m \u001b[39m# onehot_data = enc.fit_transform(df[['marca', 'medida_um', 'unidades']])\u001b[39;00m\n",
      "File \u001b[0;32m~/hd1/Codigo/JAVIER/test1/venv/lib/python3.10/site-packages/sklearn/utils/_set_output.py:157\u001b[0m, in \u001b[0;36m_wrap_method_output.<locals>.wrapped\u001b[0;34m(self, X, *args, **kwargs)\u001b[0m\n\u001b[1;32m    155\u001b[0m \u001b[39m@wraps\u001b[39m(f)\n\u001b[1;32m    156\u001b[0m \u001b[39mdef\u001b[39;00m \u001b[39mwrapped\u001b[39m(\u001b[39mself\u001b[39m, X, \u001b[39m*\u001b[39margs, \u001b[39m*\u001b[39m\u001b[39m*\u001b[39mkwargs):\n\u001b[0;32m--> 157\u001b[0m     data_to_wrap \u001b[39m=\u001b[39m f(\u001b[39mself\u001b[39;49m, X, \u001b[39m*\u001b[39;49margs, \u001b[39m*\u001b[39;49m\u001b[39m*\u001b[39;49mkwargs)\n\u001b[1;32m    158\u001b[0m     \u001b[39mif\u001b[39;00m \u001b[39misinstance\u001b[39m(data_to_wrap, \u001b[39mtuple\u001b[39m):\n\u001b[1;32m    159\u001b[0m         \u001b[39m# only wrap the first output for cross decomposition\u001b[39;00m\n\u001b[1;32m    160\u001b[0m         return_tuple \u001b[39m=\u001b[39m (\n\u001b[1;32m    161\u001b[0m             _wrap_data_with_container(method, data_to_wrap[\u001b[39m0\u001b[39m], X, \u001b[39mself\u001b[39m),\n\u001b[1;32m    162\u001b[0m             \u001b[39m*\u001b[39mdata_to_wrap[\u001b[39m1\u001b[39m:],\n\u001b[1;32m    163\u001b[0m         )\n",
      "File \u001b[0;32m~/hd1/Codigo/JAVIER/test1/venv/lib/python3.10/site-packages/sklearn/base.py:916\u001b[0m, in \u001b[0;36mTransformerMixin.fit_transform\u001b[0;34m(self, X, y, **fit_params)\u001b[0m\n\u001b[1;32m    912\u001b[0m \u001b[39m# non-optimized default implementation; override when a better\u001b[39;00m\n\u001b[1;32m    913\u001b[0m \u001b[39m# method is possible for a given clustering algorithm\u001b[39;00m\n\u001b[1;32m    914\u001b[0m \u001b[39mif\u001b[39;00m y \u001b[39mis\u001b[39;00m \u001b[39mNone\u001b[39;00m:\n\u001b[1;32m    915\u001b[0m     \u001b[39m# fit method of arity 1 (unsupervised transformation)\u001b[39;00m\n\u001b[0;32m--> 916\u001b[0m     \u001b[39mreturn\u001b[39;00m \u001b[39mself\u001b[39;49m\u001b[39m.\u001b[39;49mfit(X, \u001b[39m*\u001b[39;49m\u001b[39m*\u001b[39;49mfit_params)\u001b[39m.\u001b[39mtransform(X)\n\u001b[1;32m    917\u001b[0m \u001b[39melse\u001b[39;00m:\n\u001b[1;32m    918\u001b[0m     \u001b[39m# fit method of arity 2 (supervised transformation)\u001b[39;00m\n\u001b[1;32m    919\u001b[0m     \u001b[39mreturn\u001b[39;00m \u001b[39mself\u001b[39m\u001b[39m.\u001b[39mfit(X, y, \u001b[39m*\u001b[39m\u001b[39m*\u001b[39mfit_params)\u001b[39m.\u001b[39mtransform(X)\n",
      "File \u001b[0;32m~/hd1/Codigo/JAVIER/test1/venv/lib/python3.10/site-packages/sklearn/base.py:1152\u001b[0m, in \u001b[0;36m_fit_context.<locals>.decorator.<locals>.wrapper\u001b[0;34m(estimator, *args, **kwargs)\u001b[0m\n\u001b[1;32m   1145\u001b[0m     estimator\u001b[39m.\u001b[39m_validate_params()\n\u001b[1;32m   1147\u001b[0m \u001b[39mwith\u001b[39;00m config_context(\n\u001b[1;32m   1148\u001b[0m     skip_parameter_validation\u001b[39m=\u001b[39m(\n\u001b[1;32m   1149\u001b[0m         prefer_skip_nested_validation \u001b[39mor\u001b[39;00m global_skip_validation\n\u001b[1;32m   1150\u001b[0m     )\n\u001b[1;32m   1151\u001b[0m ):\n\u001b[0;32m-> 1152\u001b[0m     \u001b[39mreturn\u001b[39;00m fit_method(estimator, \u001b[39m*\u001b[39;49margs, \u001b[39m*\u001b[39;49m\u001b[39m*\u001b[39;49mkwargs)\n",
      "File \u001b[0;32m~/hd1/Codigo/JAVIER/test1/venv/lib/python3.10/site-packages/sklearn/preprocessing/_encoders.py:985\u001b[0m, in \u001b[0;36mOneHotEncoder.fit\u001b[0;34m(self, X, y)\u001b[0m\n\u001b[1;32m    975\u001b[0m     warnings\u001b[39m.\u001b[39mwarn(\n\u001b[1;32m    976\u001b[0m         (\n\u001b[1;32m    977\u001b[0m             \u001b[39m\"\u001b[39m\u001b[39m`sparse` was renamed to `sparse_output` in version 1.2 and \u001b[39m\u001b[39m\"\u001b[39m\n\u001b[0;32m   (...)\u001b[0m\n\u001b[1;32m    981\u001b[0m         \u001b[39mFutureWarning\u001b[39;00m,\n\u001b[1;32m    982\u001b[0m     )\n\u001b[1;32m    983\u001b[0m     \u001b[39mself\u001b[39m\u001b[39m.\u001b[39msparse_output \u001b[39m=\u001b[39m \u001b[39mself\u001b[39m\u001b[39m.\u001b[39msparse\n\u001b[0;32m--> 985\u001b[0m \u001b[39mself\u001b[39;49m\u001b[39m.\u001b[39;49m_fit(\n\u001b[1;32m    986\u001b[0m     X,\n\u001b[1;32m    987\u001b[0m     handle_unknown\u001b[39m=\u001b[39;49m\u001b[39mself\u001b[39;49m\u001b[39m.\u001b[39;49mhandle_unknown,\n\u001b[1;32m    988\u001b[0m     force_all_finite\u001b[39m=\u001b[39;49m\u001b[39m\"\u001b[39;49m\u001b[39mallow-nan\u001b[39;49m\u001b[39m\"\u001b[39;49m,\n\u001b[1;32m    989\u001b[0m )\n\u001b[1;32m    990\u001b[0m \u001b[39mself\u001b[39m\u001b[39m.\u001b[39m_set_drop_idx()\n\u001b[1;32m    991\u001b[0m \u001b[39mself\u001b[39m\u001b[39m.\u001b[39m_n_features_outs \u001b[39m=\u001b[39m \u001b[39mself\u001b[39m\u001b[39m.\u001b[39m_compute_n_features_outs()\n",
      "File \u001b[0;32m~/hd1/Codigo/JAVIER/test1/venv/lib/python3.10/site-packages/sklearn/preprocessing/_encoders.py:145\u001b[0m, in \u001b[0;36m_BaseEncoder._fit\u001b[0;34m(self, X, handle_unknown, force_all_finite, return_counts, return_and_ignore_missing_for_infrequent)\u001b[0m\n\u001b[1;32m    140\u001b[0m     \u001b[39mif\u001b[39;00m diff:\n\u001b[1;32m    141\u001b[0m         msg \u001b[39m=\u001b[39m (\n\u001b[1;32m    142\u001b[0m             \u001b[39m\"\u001b[39m\u001b[39mFound unknown categories \u001b[39m\u001b[39m{0}\u001b[39;00m\u001b[39m in column \u001b[39m\u001b[39m{1}\u001b[39;00m\u001b[39m\"\u001b[39m\n\u001b[1;32m    143\u001b[0m             \u001b[39m\"\u001b[39m\u001b[39m during fit\u001b[39m\u001b[39m\"\u001b[39m\u001b[39m.\u001b[39mformat(diff, i)\n\u001b[1;32m    144\u001b[0m         )\n\u001b[0;32m--> 145\u001b[0m         \u001b[39mraise\u001b[39;00m \u001b[39mValueError\u001b[39;00m(msg)\n\u001b[1;32m    146\u001b[0m \u001b[39mif\u001b[39;00m compute_counts:\n\u001b[1;32m    147\u001b[0m     category_counts\u001b[39m.\u001b[39mappend(_get_counts(Xi, cats))\n",
      "\u001b[0;31mValueError\u001b[0m: Found unknown categories ['rana', 'rexona clinical', 'champion mini pets', 'master cat', 'j bouchon', 'mulas', 'bulldog', 'blenders pride', 'simond´s', 'misión', 'viña kaiken', 'market', 'alupaper', 'jules', 'carezza', 'vicenzi champagne', 'not cream', 'tullamore dew', \"sheridan' s\", 'dr pepper', \"kellogg's\", 'perez cruz', 'lp', 'johnson & johnson', 'l’oréal paris', 'arom', 'faber-castell', \"campbell's\", 'cono sur', 'fresh cut', 'viña j. bouchon', 'bisquertt', '1865', 'lifestyle', 'heineken cero', 'viña santa helena', 'mane ´n tail', 'coca cola zero', 'papas', 'sta emiliana', 'nordic', 'the guiligan´s distinguished', 'mas', 'vicenci grisbi', 'wild protein', 'inka kola', 'herbal classic', 'oralfresh', 'viennetta bresler', 'viña la rosa', 'iansa agro', 'viña cousiño macul', 'herbal chile', 'ama', 'breden master', 'gourmet natural', 'gulden brewmaster', 'kem xtreme', 'viña concha y toro', 'tena', 'etiquet', 'viña indomita', 'hipoglós', 'viña terra andina', 'nordic mist', 'casa patronales', 'alufoil', 'lapostolle', '3r', 'sanyfarm', 'rigochoc arcor', 'pam', 'forno minas', 'frutas y verduras santa isabel', 'viña casa donoso', 'logitech g', 'yogu yogu', 'kem piña', 'ailencutral espino', 'casta', 'bilz y pap', \"johnson's baby\", \"hershey's\", 'prima', 'mega', 'bou', 'capri', 'mrs. meyer´s', 'fanta zero', 'antibac', 'viña tarapacá', 'viña casa silva', 'frutas y verduras', 'illy', 'sierra blanco', 'dove men', 'casa marin', 'cor intensa', 'limon soda light', 'lovelemon', 'blanc', 'henkel', 'sm', 'oral fresh', 'viña gracia de chile', 'bilz zero', 'redbull', 'sprite zero', 'sta ema', 'yuz', 'colmenares ralun', 'viña santa carolina', 'viña bodega uno', 'nature´s heart', 'sal lobos', 'callia dulce', 'vodka pl', 'orange crush', 'dove clinical', 'gelatti kids', 'viña santa ema', 'forno de minas', '35 sur', 'saf chile', 'san francisco', 'pepsi light', 'hoc', 'nat', 'iansa cero k', 'j. bouchon', 'pepsi crush', 'oso', 'emiliana', 'viña santa rita', 'doña repa', 'evercrips', \"hellmann's supreme\", 'viña mar', 'gulden imperial', 'oral b', 'amos', 'viña odfjell', 'champion cat', 'castillo molina', 'afe', 'unimarc.', 'airwick', 'purina one', 'activia', 'viña von siebenthal', 'grana', 'not ice cream', 'mr veggie', 'st', 'lonco', 'philips', 'bio frescura', 'frutas y verduras propias', 'las bezanilla', 'gordon´s', 'not burger', 'not chicken', 'your goal', 'rei', 'tivoni garden foods', 'not cheese', 'viña cremaschi furlotti', 'volcanes', 'gato', 'big time', 'bio', 'marley coffee', '120 santa rita', 'orgánico', 'caballo loco', \"watt's selección\", 'cook & fun', \"buchanan's\", 'viña carmen', 'pf listo', 'thai', 'altair', 'viña undurraga', 'tp link', 'champion dog', 'raff', 'viña doña paula', 'viña morandé', 'viña luigi bosca', 'bols', 'amayna', 'las parcelas', 'luchetti', 'das', 'paso', 'sta cruz', 'viña casas patronales', 'sierra', 'mc cormick', 'cerealita', 'hips', 'viña lapostolle', 's digna', 'viña la hacienda', 'viña caliterra', 'kem zero', 'mel', 'mr big', 'blenders honey', 'van camps', 'saint germain', 'm2', 'americano', 'los alerces', 'simonds', 'monte cristo', 'sta carolina', 'not mayo', 'abuelo', 'shot & go', 'viña casas del bosque', 'so', 'beorganics', 'not meat', 'poroto', 'ritting', 'pan', 'secret', 'viña perez cruz', 'carolina', 'hierbas', 'pap zero', 'verde flor', 'viña leyda', 'viña miguel torres', 'rema', 'viña william fevre', 'yogu - yogu', 'viña errázuriz', 'estrella de elqui', 'the london n°1', 'ramazzoti', 'uno', 'seven up', 'act11', 'm. torres', 'coca cola light', 'havana', 'moco gorila', 'pantene nutrient blends', 'zucosos', 'caricia', 'isola bio', 'viña ventisquero', 'mistral ice', 'maggie', 'ballantines', 'maizena', 'viña casa rivas', 'arboleda', 'saf instant', 'superbeef', 'bear beer', 'nestlé naturnes', 'aluplast', 'caa yari mate', 'zacapa', 'viña santa cruz', 'nutrabien', 'estrella damm', 'loreal', 'bravo cream', 'head', 'tuco', 'burt`s bees', 'loreal excellence', \"watt's\", 'ramazotti', 'aresti', 'sixstar', 'hellmanns', 'viña castillo de molina', 'coca cola', 'viña los vascos', 'viu', 'pepsi zero', 'm&m', 'ka', 'viña san pedro', 'stabilo', 'viña sol de chile', 'nivea men'] in column 0 during fit"
     ]
    }
   ],
   "source": [
    "\n",
    "# # Cargar datos usando el ORM de Django\n",
    "# from precios.models import (\n",
    "#     Articulos,\n",
    "#     SiteURLResults,\n",
    "# )\n",
    "# marcas              = Marcas.objects.filter(es_marca=True).values_list('nombre', flat=True)\n",
    "\n",
    "\n",
    "# # qs = SiteURLResults.objects.filter(site__id=69)\n",
    "# qs = Articulos.objects.values('marca').all()\n",
    "# df = read_frame(qs)\n",
    "# # Crea el OneHotEncoder con las categorías predefinidas\n",
    "# # enc = OneHotEncoder(categories=[marcas, unidades_de_medida, tallas, envases, unidades], sparse=False)\n",
    "# enc = OneHotEncoder(categories=[marcas], sparse=False)\n",
    "\n",
    "# # Ajusta y transforma los datos en un solo paso\n",
    "# # onehot_data = enc.fit_transform(df[['marca', 'medida_um',  'unidades']])\n",
    "# onehot_data = enc.fit_transform(df[['marca']])\n",
    "# onehot_data\n",
    "\n",
    "# # enc = OneHotEncoder(categories=[marcas, unidades_de_medida, tallas, envases, unidades], sparse=False)\n",
    "\n",
    "# # clf = RandomForestClassifier()\n",
    "# # clf.fit(X_train, y_train)\n",
    "# # enc.fit([])\n",
    "\n",
    "# # # onehot_data = enc.transform(df[['marca', 'medida_um', 'unidades']])\n",
    "# # onehot_data = enc.fit_transform(df[['marca', 'medida_um', 'unidades']])\n",
    "\n",
    "\n"
   ]
  },
  {
   "cell_type": "code",
   "execution_count": null,
   "metadata": {},
   "outputs": [],
   "source": [
    "# # Convertir los datos a un DataFrame de pandas para facilitar el manejo\n",
    "# import pandas as pd\n",
    "# # df = pd.DataFrame.from_queryset(datos)\n",
    "# # df = pd.DataFrame(list(datos.values()))\n",
    "\n",
    "# # Preprocesamiento de datos (esto dependerá de tus necesidades específicas)\n",
    "# # ...\n",
    "\n",
    "# # Entrenar un modelo usando scikit-learn como ejemplo\n",
    "# from sklearn.model_selection import train_test_split\n",
    "# from sklearn.ensemble import RandomForestClassifier\n",
    "\n",
    "# X = df[['nombre', 'medida_um']]  # Reemplaza esto con tus verdaderas características\n",
    "# y = df['marca']  # Reemplaza esto con tu verdadera etiqueta\n",
    "\n",
    "# X_train, X_test, y_train, y_test = train_test_split(X, y, test_size=0.2)\n",
    "\n",
    "# clf = RandomForestClassifier()\n",
    "# clf.fit(X_train, y_train)\n",
    "\n",
    "# # Evaluar el modelo\n",
    "# score = clf.score(X_test, y_test)\n",
    "# print('Puntuación del modelo:', score)\n",
    "\n",
    "# # Guardar el modelo entrenado para uso futuro\n",
    "# import joblib\n",
    "# joblib.dump(clf, 'mi_modelo_entrenado.pkl')"
   ]
  }
 ],
 "metadata": {
  "kernelspec": {
   "display_name": "venv",
   "language": "python",
   "name": "python3"
  },
  "language_info": {
   "codemirror_mode": {
    "name": "ipython",
    "version": 3
   },
   "file_extension": ".py",
   "mimetype": "text/x-python",
   "name": "python",
   "nbconvert_exporter": "python",
   "pygments_lexer": "ipython3",
   "version": "3.10.12"
  },
  "orig_nbformat": 4
 },
 "nbformat": 4,
 "nbformat_minor": 2
}
