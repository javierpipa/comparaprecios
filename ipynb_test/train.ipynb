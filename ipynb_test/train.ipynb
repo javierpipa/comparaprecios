{
 "cells": [
  {
   "cell_type": "code",
   "execution_count": 1,
   "metadata": {},
   "outputs": [
    {
     "name": "stdout",
     "output_type": "stream",
     "text": [
      "/home/javier\n"
     ]
    }
   ],
   "source": [
    "from django_for_jupyter import init_django\n",
    "\n",
    "init_django()"
   ]
  },
  {
   "cell_type": "code",
   "execution_count": 2,
   "metadata": {},
   "outputs": [],
   "source": [
    "from precios.models import (\n",
    "    Articulos,\n",
    "    SiteURLResults,\n",
    "    AllPalabras,\n",
    "    Marcas\n",
    "        # Cambia 'mi_app' y 'MiModelo' a tus nombres reales\n",
    ")\n",
    "# Entrenar un modelo usando scikit-learn como ejemplo\n",
    "from sklearn.model_selection import train_test_split\n",
    "from sklearn.ensemble import RandomForestClassifier\n",
    "from sklearn.preprocessing import OneHotEncoder\n",
    "from django_pandas.io import read_frame\n",
    "import pandas as pd\n",
    "\n",
    "unidades_de_medida  = AllPalabras.objects.filter(tipo='Unidades de medida').values_list('palabra', flat=True)\n",
    "tallas              = AllPalabras.objects.filter(tipo='Tallas').values_list('palabra', flat=True)\n",
    "envases             = AllPalabras.objects.filter(tipo='Tallas').values_list('palabra', flat=True)\n",
    "unidades            = AllPalabras.objects.filter(tipo='Unidades').values_list('palabra', flat=True)"
   ]
  },
  {
   "cell_type": "code",
   "execution_count": 4,
   "metadata": {},
   "outputs": [],
   "source": [
    "from precios.models import (\n",
    "    Articulos,\n",
    "    SiteURLResults,\n",
    ")\n",
    "marcas              = Marcas.objects.filter(es_marca=True).values_list('id', flat=True).order_by('id').all()\n",
    "df_marcas           = read_frame(marcas)\n",
    "\n",
    "# qs = Articulos.objects.values('marca__id',).all()\n",
    "qs = Articulos.objects.values('nombre', 'marca__id').all()\n",
    "df = read_frame(qs)\n",
    "y = df.pop('nombre')\n",
    "\n",
    "\n"
   ]
  },
  {
   "cell_type": "code",
   "execution_count": 15,
   "metadata": {},
   "outputs": [
    {
     "name": "stdout",
     "output_type": "stream",
     "text": [
      "El número de registros coincide.\n"
     ]
    }
   ],
   "source": [
    "# Asegurarse de que las consultas están alineadas\n",
    "qs_features = Articulos.objects.values('marca__id').all()\n",
    "qs_labels = Articulos.objects.values('nombre').all()\n",
    "\n",
    "# Convertir a DataFrames\n",
    "df_features = read_frame(qs_features)\n",
    "df_labels = read_frame(qs_labels)\n",
    "\n",
    "# Truncar uno de los DataFrames para que coincidan en tamaño\n",
    "min_length = min(len(df_features), len(df_labels))\n",
    "df_features = df_features[:min_length]\n",
    "df_labels = df_labels[:min_length]\n",
    "\n",
    "# Asegurarse de que ambos DataFrames tengan la misma longitud\n",
    "if len(df_features) != len(df_labels):\n",
    "    print(\"Error: El número de registros no coincide.\")\n",
    "else:\n",
    "    print(\"El número de registros coincide.\")\n",
    "\n"
   ]
  },
  {
   "cell_type": "code",
   "execution_count": 17,
   "metadata": {},
   "outputs": [
    {
     "ename": "TypeError",
     "evalue": "int() argument must be a string, a bytes-like object or a real number, not 'dict'",
     "output_type": "error",
     "traceback": [
      "\u001b[0;31m---------------------------------------------------------------------------\u001b[0m",
      "\u001b[0;31mTypeError\u001b[0m                                 Traceback (most recent call last)",
      "\u001b[1;32m/home/javier/hd1/Codigo/JAVIER/test1/comparaprecios-1/ipynb_test/train.ipynb Cell 5\u001b[0m line \u001b[0;36m7\n\u001b[1;32m      <a href='vscode-notebook-cell:/home/javier/hd1/Codigo/JAVIER/test1/comparaprecios-1/ipynb_test/train.ipynb#X10sZmlsZQ%3D%3D?line=3'>4</a>\u001b[0m enc \u001b[39m=\u001b[39m OneHotEncoder(categories\u001b[39m=\u001b[39m[qs_features], handle_unknown\u001b[39m=\u001b[39m\u001b[39m'\u001b[39m\u001b[39mignore\u001b[39m\u001b[39m'\u001b[39m, sparse_output\u001b[39m=\u001b[39m\u001b[39mFalse\u001b[39;00m)\n\u001b[1;32m      <a href='vscode-notebook-cell:/home/javier/hd1/Codigo/JAVIER/test1/comparaprecios-1/ipynb_test/train.ipynb#X10sZmlsZQ%3D%3D?line=4'>5</a>\u001b[0m \u001b[39m# enc = OneHotEncoder(categories=[marcas], handle_unknown='ignore', sparse_output=False)\u001b[39;00m\n\u001b[0;32m----> <a href='vscode-notebook-cell:/home/javier/hd1/Codigo/JAVIER/test1/comparaprecios-1/ipynb_test/train.ipynb#X10sZmlsZQ%3D%3D?line=6'>7</a>\u001b[0m onehot_data \u001b[39m=\u001b[39m enc\u001b[39m.\u001b[39;49mfit_transform(df[[\u001b[39m'\u001b[39;49m\u001b[39mmarca__id\u001b[39;49m\u001b[39m'\u001b[39;49m]])\n\u001b[1;32m      <a href='vscode-notebook-cell:/home/javier/hd1/Codigo/JAVIER/test1/comparaprecios-1/ipynb_test/train.ipynb#X10sZmlsZQ%3D%3D?line=7'>8</a>\u001b[0m \u001b[39m# onehot_data = enc.fit_transform(df_labels[['marca__id']])\u001b[39;00m\n\u001b[1;32m      <a href='vscode-notebook-cell:/home/javier/hd1/Codigo/JAVIER/test1/comparaprecios-1/ipynb_test/train.ipynb#X10sZmlsZQ%3D%3D?line=8'>9</a>\u001b[0m df_onehot \u001b[39m=\u001b[39m pd\u001b[39m.\u001b[39mDataFrame(onehot_data, columns\u001b[39m=\u001b[39menc\u001b[39m.\u001b[39mget_feature_names_out([\u001b[39m'\u001b[39m\u001b[39mmarca__id\u001b[39m\u001b[39m'\u001b[39m]))\n",
      "File \u001b[0;32m~/hd1/Codigo/JAVIER/test1/venv/lib/python3.10/site-packages/sklearn/utils/_set_output.py:157\u001b[0m, in \u001b[0;36m_wrap_method_output.<locals>.wrapped\u001b[0;34m(self, X, *args, **kwargs)\u001b[0m\n\u001b[1;32m    155\u001b[0m \u001b[39m@wraps\u001b[39m(f)\n\u001b[1;32m    156\u001b[0m \u001b[39mdef\u001b[39;00m \u001b[39mwrapped\u001b[39m(\u001b[39mself\u001b[39m, X, \u001b[39m*\u001b[39margs, \u001b[39m*\u001b[39m\u001b[39m*\u001b[39mkwargs):\n\u001b[0;32m--> 157\u001b[0m     data_to_wrap \u001b[39m=\u001b[39m f(\u001b[39mself\u001b[39;49m, X, \u001b[39m*\u001b[39;49margs, \u001b[39m*\u001b[39;49m\u001b[39m*\u001b[39;49mkwargs)\n\u001b[1;32m    158\u001b[0m     \u001b[39mif\u001b[39;00m \u001b[39misinstance\u001b[39m(data_to_wrap, \u001b[39mtuple\u001b[39m):\n\u001b[1;32m    159\u001b[0m         \u001b[39m# only wrap the first output for cross decomposition\u001b[39;00m\n\u001b[1;32m    160\u001b[0m         return_tuple \u001b[39m=\u001b[39m (\n\u001b[1;32m    161\u001b[0m             _wrap_data_with_container(method, data_to_wrap[\u001b[39m0\u001b[39m], X, \u001b[39mself\u001b[39m),\n\u001b[1;32m    162\u001b[0m             \u001b[39m*\u001b[39mdata_to_wrap[\u001b[39m1\u001b[39m:],\n\u001b[1;32m    163\u001b[0m         )\n",
      "File \u001b[0;32m~/hd1/Codigo/JAVIER/test1/venv/lib/python3.10/site-packages/sklearn/base.py:916\u001b[0m, in \u001b[0;36mTransformerMixin.fit_transform\u001b[0;34m(self, X, y, **fit_params)\u001b[0m\n\u001b[1;32m    912\u001b[0m \u001b[39m# non-optimized default implementation; override when a better\u001b[39;00m\n\u001b[1;32m    913\u001b[0m \u001b[39m# method is possible for a given clustering algorithm\u001b[39;00m\n\u001b[1;32m    914\u001b[0m \u001b[39mif\u001b[39;00m y \u001b[39mis\u001b[39;00m \u001b[39mNone\u001b[39;00m:\n\u001b[1;32m    915\u001b[0m     \u001b[39m# fit method of arity 1 (unsupervised transformation)\u001b[39;00m\n\u001b[0;32m--> 916\u001b[0m     \u001b[39mreturn\u001b[39;00m \u001b[39mself\u001b[39;49m\u001b[39m.\u001b[39;49mfit(X, \u001b[39m*\u001b[39;49m\u001b[39m*\u001b[39;49mfit_params)\u001b[39m.\u001b[39mtransform(X)\n\u001b[1;32m    917\u001b[0m \u001b[39melse\u001b[39;00m:\n\u001b[1;32m    918\u001b[0m     \u001b[39m# fit method of arity 2 (supervised transformation)\u001b[39;00m\n\u001b[1;32m    919\u001b[0m     \u001b[39mreturn\u001b[39;00m \u001b[39mself\u001b[39m\u001b[39m.\u001b[39mfit(X, y, \u001b[39m*\u001b[39m\u001b[39m*\u001b[39mfit_params)\u001b[39m.\u001b[39mtransform(X)\n",
      "File \u001b[0;32m~/hd1/Codigo/JAVIER/test1/venv/lib/python3.10/site-packages/sklearn/base.py:1152\u001b[0m, in \u001b[0;36m_fit_context.<locals>.decorator.<locals>.wrapper\u001b[0;34m(estimator, *args, **kwargs)\u001b[0m\n\u001b[1;32m   1145\u001b[0m     estimator\u001b[39m.\u001b[39m_validate_params()\n\u001b[1;32m   1147\u001b[0m \u001b[39mwith\u001b[39;00m config_context(\n\u001b[1;32m   1148\u001b[0m     skip_parameter_validation\u001b[39m=\u001b[39m(\n\u001b[1;32m   1149\u001b[0m         prefer_skip_nested_validation \u001b[39mor\u001b[39;00m global_skip_validation\n\u001b[1;32m   1150\u001b[0m     )\n\u001b[1;32m   1151\u001b[0m ):\n\u001b[0;32m-> 1152\u001b[0m     \u001b[39mreturn\u001b[39;00m fit_method(estimator, \u001b[39m*\u001b[39;49margs, \u001b[39m*\u001b[39;49m\u001b[39m*\u001b[39;49mkwargs)\n",
      "File \u001b[0;32m~/hd1/Codigo/JAVIER/test1/venv/lib/python3.10/site-packages/sklearn/preprocessing/_encoders.py:985\u001b[0m, in \u001b[0;36mOneHotEncoder.fit\u001b[0;34m(self, X, y)\u001b[0m\n\u001b[1;32m    975\u001b[0m     warnings\u001b[39m.\u001b[39mwarn(\n\u001b[1;32m    976\u001b[0m         (\n\u001b[1;32m    977\u001b[0m             \u001b[39m\"\u001b[39m\u001b[39m`sparse` was renamed to `sparse_output` in version 1.2 and \u001b[39m\u001b[39m\"\u001b[39m\n\u001b[0;32m   (...)\u001b[0m\n\u001b[1;32m    981\u001b[0m         \u001b[39mFutureWarning\u001b[39;00m,\n\u001b[1;32m    982\u001b[0m     )\n\u001b[1;32m    983\u001b[0m     \u001b[39mself\u001b[39m\u001b[39m.\u001b[39msparse_output \u001b[39m=\u001b[39m \u001b[39mself\u001b[39m\u001b[39m.\u001b[39msparse\n\u001b[0;32m--> 985\u001b[0m \u001b[39mself\u001b[39;49m\u001b[39m.\u001b[39;49m_fit(\n\u001b[1;32m    986\u001b[0m     X,\n\u001b[1;32m    987\u001b[0m     handle_unknown\u001b[39m=\u001b[39;49m\u001b[39mself\u001b[39;49m\u001b[39m.\u001b[39;49mhandle_unknown,\n\u001b[1;32m    988\u001b[0m     force_all_finite\u001b[39m=\u001b[39;49m\u001b[39m\"\u001b[39;49m\u001b[39mallow-nan\u001b[39;49m\u001b[39m\"\u001b[39;49m,\n\u001b[1;32m    989\u001b[0m )\n\u001b[1;32m    990\u001b[0m \u001b[39mself\u001b[39m\u001b[39m.\u001b[39m_set_drop_idx()\n\u001b[1;32m    991\u001b[0m \u001b[39mself\u001b[39m\u001b[39m.\u001b[39m_n_features_outs \u001b[39m=\u001b[39m \u001b[39mself\u001b[39m\u001b[39m.\u001b[39m_compute_n_features_outs()\n",
      "File \u001b[0;32m~/hd1/Codigo/JAVIER/test1/venv/lib/python3.10/site-packages/sklearn/preprocessing/_encoders.py:113\u001b[0m, in \u001b[0;36m_BaseEncoder._fit\u001b[0;34m(self, X, handle_unknown, force_all_finite, return_counts, return_and_ignore_missing_for_infrequent)\u001b[0m\n\u001b[1;32m    110\u001b[0m \u001b[39melse\u001b[39;00m:\n\u001b[1;32m    111\u001b[0m     Xi_dtype \u001b[39m=\u001b[39m Xi\u001b[39m.\u001b[39mdtype\n\u001b[0;32m--> 113\u001b[0m cats \u001b[39m=\u001b[39m np\u001b[39m.\u001b[39;49marray(\u001b[39mself\u001b[39;49m\u001b[39m.\u001b[39;49mcategories[i], dtype\u001b[39m=\u001b[39;49mXi_dtype)\n\u001b[1;32m    114\u001b[0m \u001b[39mif\u001b[39;00m (\n\u001b[1;32m    115\u001b[0m     cats\u001b[39m.\u001b[39mdtype \u001b[39m==\u001b[39m \u001b[39mobject\u001b[39m\n\u001b[1;32m    116\u001b[0m     \u001b[39mand\u001b[39;00m \u001b[39misinstance\u001b[39m(cats[\u001b[39m0\u001b[39m], \u001b[39mbytes\u001b[39m)\n\u001b[1;32m    117\u001b[0m     \u001b[39mand\u001b[39;00m Xi\u001b[39m.\u001b[39mdtype\u001b[39m.\u001b[39mkind \u001b[39m!=\u001b[39m \u001b[39m\"\u001b[39m\u001b[39mS\u001b[39m\u001b[39m\"\u001b[39m\n\u001b[1;32m    118\u001b[0m ):\n\u001b[1;32m    119\u001b[0m     msg \u001b[39m=\u001b[39m (\n\u001b[1;32m    120\u001b[0m         \u001b[39mf\u001b[39m\u001b[39m\"\u001b[39m\u001b[39mIn column \u001b[39m\u001b[39m{\u001b[39;00mi\u001b[39m}\u001b[39;00m\u001b[39m, the predefined categories have type \u001b[39m\u001b[39m'\u001b[39m\u001b[39mbytes\u001b[39m\u001b[39m'\u001b[39m\u001b[39m\"\u001b[39m\n\u001b[1;32m    121\u001b[0m         \u001b[39m\"\u001b[39m\u001b[39m which is incompatible with values of type\u001b[39m\u001b[39m\"\u001b[39m\n\u001b[1;32m    122\u001b[0m         \u001b[39mf\u001b[39m\u001b[39m\"\u001b[39m\u001b[39m \u001b[39m\u001b[39m'\u001b[39m\u001b[39m{\u001b[39;00m\u001b[39mtype\u001b[39m(Xi[\u001b[39m0\u001b[39m])\u001b[39m.\u001b[39m\u001b[39m__name__\u001b[39m\u001b[39m}\u001b[39;00m\u001b[39m'\u001b[39m\u001b[39m.\u001b[39m\u001b[39m\"\u001b[39m\n\u001b[1;32m    123\u001b[0m     )\n",
      "\u001b[0;31mTypeError\u001b[0m: int() argument must be a string, a bytes-like object or a real number, not 'dict'"
     ]
    }
   ],
   "source": [
    "# df = df[df['marca__id'].isin(marcas)]\n",
    "\n",
    "\n",
    "enc = OneHotEncoder(categories=[qs_features], handle_unknown='ignore', sparse_output=False)\n",
    "# enc = OneHotEncoder(categories=[marcas], handle_unknown='ignore', sparse_output=False)\n",
    "\n",
    "# onehot_data = enc.fit_transform(df[['marca__id']])\n",
    "onehot_data = enc.fit_transform(df_labels[['marca__id']])\n",
    "df_onehot = pd.DataFrame(onehot_data, columns=enc.get_feature_names_out(['marca__id']))\n",
    "\n",
    "df_onehot.reset_index(drop=True, inplace=True)\n",
    "y.reset_index(drop=True, inplace=True)\n",
    "\n",
    "from sklearn.model_selection import train_test_split\n",
    "X_train, X_test, y_train, y_test = train_test_split(df_onehot, y, test_size=0.2)\n",
    "# X_train, X_test, y_train, y_test = train_test_split(df_onehot, y, test_size=0.2)\n"
   ]
  },
  {
   "cell_type": "code",
   "execution_count": null,
   "metadata": {},
   "outputs": [],
   "source": [
    "\n",
    "# # Cargar datos usando el ORM de Django\n",
    "# from precios.models import (\n",
    "#     Articulos,\n",
    "#     SiteURLResults,\n",
    "# )\n",
    "# marcas              = Marcas.objects.filter(es_marca=True).values_list('nombre', flat=True)\n",
    "\n",
    "\n",
    "# # qs = SiteURLResults.objects.filter(site__id=69)\n",
    "# qs = Articulos.objects.values('marca').all()\n",
    "# df = read_frame(qs)\n",
    "# # Crea el OneHotEncoder con las categorías predefinidas\n",
    "# # enc = OneHotEncoder(categories=[marcas, unidades_de_medida, tallas, envases, unidades], sparse=False)\n",
    "# enc = OneHotEncoder(categories=[marcas], sparse=False)\n",
    "\n",
    "# # Ajusta y transforma los datos en un solo paso\n",
    "# # onehot_data = enc.fit_transform(df[['marca', 'medida_um',  'unidades']])\n",
    "# onehot_data = enc.fit_transform(df[['marca']])\n",
    "# onehot_data\n",
    "\n",
    "# # enc = OneHotEncoder(categories=[marcas, unidades_de_medida, tallas, envases, unidades], sparse=False)\n",
    "\n",
    "# # clf = RandomForestClassifier()\n",
    "# # clf.fit(X_train, y_train)\n",
    "# # enc.fit([])\n",
    "\n",
    "# # # onehot_data = enc.transform(df[['marca', 'medida_um', 'unidades']])\n",
    "# # onehot_data = enc.fit_transform(df[['marca', 'medida_um', 'unidades']])\n",
    "\n",
    "\n"
   ]
  },
  {
   "cell_type": "code",
   "execution_count": null,
   "metadata": {},
   "outputs": [],
   "source": [
    "# # Convertir los datos a un DataFrame de pandas para facilitar el manejo\n",
    "# import pandas as pd\n",
    "# # df = pd.DataFrame.from_queryset(datos)\n",
    "# # df = pd.DataFrame(list(datos.values()))\n",
    "\n",
    "# # Preprocesamiento de datos (esto dependerá de tus necesidades específicas)\n",
    "# # ...\n",
    "\n",
    "# # Entrenar un modelo usando scikit-learn como ejemplo\n",
    "# from sklearn.model_selection import train_test_split\n",
    "# from sklearn.ensemble import RandomForestClassifier\n",
    "\n",
    "# X = df[['nombre', 'medida_um']]  # Reemplaza esto con tus verdaderas características\n",
    "# y = df['marca']  # Reemplaza esto con tu verdadera etiqueta\n",
    "\n",
    "# X_train, X_test, y_train, y_test = train_test_split(X, y, test_size=0.2)\n",
    "\n",
    "# clf = RandomForestClassifier()\n",
    "# clf.fit(X_train, y_train)\n",
    "\n",
    "# # Evaluar el modelo\n",
    "# score = clf.score(X_test, y_test)\n",
    "# print('Puntuación del modelo:', score)\n",
    "\n",
    "# # Guardar el modelo entrenado para uso futuro\n",
    "# import joblib\n",
    "# joblib.dump(clf, 'mi_modelo_entrenado.pkl')"
   ]
  }
 ],
 "metadata": {
  "kernelspec": {
   "display_name": "venv",
   "language": "python",
   "name": "python3"
  },
  "language_info": {
   "codemirror_mode": {
    "name": "ipython",
    "version": 3
   },
   "file_extension": ".py",
   "mimetype": "text/x-python",
   "name": "python",
   "nbconvert_exporter": "python",
   "pygments_lexer": "ipython3",
   "version": "3.10.12"
  },
  "orig_nbformat": 4
 },
 "nbformat": 4,
 "nbformat_minor": 2
}
