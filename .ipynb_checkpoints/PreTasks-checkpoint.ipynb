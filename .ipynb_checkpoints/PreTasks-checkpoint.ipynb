{
 "cells": [
  {
   "cell_type": "code",
   "execution_count": 25,
   "id": "f1df2460",
   "metadata": {},
   "outputs": [],
   "source": [
    "from django_for_jupyter import init_django\n",
    "init_django()"
   ]
  },
  {
   "cell_type": "code",
   "execution_count": 26,
   "id": "bd02b7d9",
   "metadata": {},
   "outputs": [],
   "source": [
    "import pandas as pd\n",
    "import numpy as np\n",
    "import unidecode\n",
    "from django.db.models import F, Sum\n",
    "from precios.models import SiteURLResults, Articulos, Unifica, Marcas, Vendedores, MarcasSistema\n",
    "from members.models import DetalleLista\n",
    "from precios.pi_get import fixMarca"
   ]
  },
  {
   "cell_type": "code",
   "execution_count": 27,
   "id": "82b3452c",
   "metadata": {},
   "outputs": [],
   "source": [
    "### Settings\n",
    "set_lower_to_nombres = True"
   ]
  },
  {
   "cell_type": "code",
   "execution_count": 29,
   "id": "00a182eb",
   "metadata": {},
   "outputs": [],
   "source": [
    "# # Lowercase a nombres y marcas de SiteURLResults\n",
    "# querySiteURL = SiteURLResults.objects.exclude(nombre='').all()\n",
    "\n",
    "# if set_lower_to_nombres:\n",
    "#     for url in querySiteURL:\n",
    "\n",
    "#         marca = url.marca\n",
    "#         nombre = url.nombre\n",
    "#         if marca:\n",
    "#             marca = marca.lower()\n",
    "#         if nombre and marca:\n",
    "#             nombre = nombre.lower()\n",
    "#             nombre = nombre.replace(marca,'')\n",
    "#         url.nombre = nombre\n",
    "#         url.marca = marca\n",
    "#         url.save()\n",
    "    \n",
    "# Lowercase a nombres y marcas de SiteURLResults\n",
    "querySiteURL = SiteURLResults.objects.exclude(nombre='').all()\n",
    "\n",
    "if set_lower_to_nombres:\n",
    "    # create a list of updated objects\n",
    "    updated_objects = []\n",
    "    for url in querySiteURL:\n",
    "        marca = url.marca\n",
    "        nombre = url.nombre\n",
    "        if marca:\n",
    "            marca = marca.lower()\n",
    "        if nombre and marca:\n",
    "            nombre = nombre.lower()\n",
    "            nombre = nombre.replace(marca,'')\n",
    "        # add the updated object to the list\n",
    "        updated_objects.append(SiteURLResults(pk=url.pk, nombre=nombre, marca=marca))\n",
    "\n",
    "    # update the objects in bulk\n",
    "    SiteURLResults.objects.bulk_update(updated_objects, fields=['nombre', 'marca'])\n",
    "\n"
   ]
  },
  {
   "cell_type": "code",
   "execution_count": 30,
   "id": "a30e684b",
   "metadata": {},
   "outputs": [
    {
     "data": {
      "text/plain": [
       "1258"
      ]
     },
     "execution_count": 30,
     "metadata": {},
     "output_type": "execute_result"
    }
   ],
   "source": [
    "## elimino todas registros anteriores\n",
    "DetalleLista.objects.all().delete()\n",
    "Vendedores.objects.all().delete()\n",
    "Articulos.objects.all().delete()\n",
    "Unifica.objects.all().update(contador=0)\n",
    "# Unifica.objects.filter(automatico=True).delete()"
   ]
  },
  {
   "cell_type": "code",
   "execution_count": 31,
   "id": "070802cd",
   "metadata": {},
   "outputs": [
    {
     "name": "stdout",
     "output_type": "stream",
     "text": [
      "No se borran 526 marcas\n"
     ]
    }
   ],
   "source": [
    "## Elimino todas las marcas que puedo\n",
    "lista_marcas = Marcas.objects.filter(es_marca=True).all()\n",
    "a = 0\n",
    "for marca in lista_marcas:\n",
    "    try:\n",
    "        marca.delete()\n",
    "    except Exception as e:\n",
    "        a = a + 1\n",
    "\n",
    "print(f'No se borran {a} marcas')"
   ]
  },
  {
   "cell_type": "code",
   "execution_count": 32,
   "id": "8ef826c3",
   "metadata": {},
   "outputs": [
    {
     "name": "stdout",
     "output_type": "stream",
     "text": [
      "Se Agregan 446 marcas\n"
     ]
    }
   ],
   "source": [
    "## Se agregan mas MarcasSistema\n",
    "lista_marcas = MarcasSistema.objects.all()\n",
    "a = 0\n",
    "for marca in lista_marcas:\n",
    "    marca_limpia = unidecode.unidecode(marca.nombre)\n",
    "    if not Marcas.objects.filter(nombre=marca.nombre).exists():\n",
    "        Marcas.objects.update_or_create(\n",
    "            nombre=marca.nombre,\n",
    "            slug=marca_limpia,\n",
    "            es_marca=True\n",
    "        )\n",
    "        a = a + 1\n",
    "print(f'Se Agregan {a} marcas')"
   ]
  },
  {
   "cell_type": "code",
   "execution_count": 33,
   "id": "f3ed8d43",
   "metadata": {},
   "outputs": [
    {
     "name": "stdout",
     "output_type": "stream",
     "text": [
      "2829\n"
     ]
    }
   ],
   "source": [
    "# Obtener todos los registros de SiteURLResults\n",
    "querySiteURL = SiteURLResults.objects.exclude(precio=0, nombre='', marca=None, site__enable=True).all()\n",
    "\n",
    "## genero marcas\n",
    "df_marcas = pd.DataFrame(list(querySiteURL.values('marca')))\n",
    "df_marcas['marca'] = df_marcas['marca'].str.lower()\n",
    "df_marcas = df_marcas.sort_values(by='marca')\n",
    "df_marcas = df_marcas.drop_duplicates(keep='first')\n",
    "\n",
    "a = 0\n",
    "### Se crean todas las marcas necesarias\n",
    "for marca in df_marcas['marca']:\n",
    "    if marca:\n",
    "        fixed_marca = fixMarca(marca)\n",
    "        marca_limpia = unidecode.unidecode(fixed_marca)\n",
    "\n",
    "        if not Marcas.objects.filter(nombre__iexact=fixed_marca).exists():\n",
    "            marca_limpia, created = Marcas.objects.update_or_create(nombre = fixed_marca, \n",
    "                                                                    slug = marca_limpia, \n",
    "                                                                    es_marca=True)\n",
    "            a = a + 1\n",
    "\n",
    "print(a)"
   ]
  },
  {
   "cell_type": "code",
   "execution_count": 34,
   "id": "6e0e49e2",
   "metadata": {},
   "outputs": [],
   "source": [
    "# Obtener todos los registros de Marcas\n",
    "querymarcas = Marcas.objects.all()\n",
    "df_marcas = pd.DataFrame(list(querymarcas.values('nombre')))\n",
    "\n"
   ]
  },
  {
   "cell_type": "code",
   "execution_count": 35,
   "id": "7317bcbc",
   "metadata": {},
   "outputs": [],
   "source": [
    "# # Obtener todos los registros de Unificas\n",
    "# queryunificas = Unifica.objects.all()\n",
    "# df_unificas = pd.DataFrame(list(queryunificas.values('si_marca__nombre',\n",
    "#                                                      'si_nombre',\n",
    "#                                                      'si_grados',\n",
    "#                                                      'si_medida_cant',\n",
    "#                                                      'si_unidades',\n",
    "#                                                      'entonces_marca__nombre',\n",
    "#                                                      'entonces_nombre',\n",
    "#                                                      'entonces_grados',\n",
    "#                                                      'entonces_medida_cant',\n",
    "#                                                      'entonces_unidades',\n",
    "#                                                      'automatico'\n",
    "#                                                     )))\n",
    "\n",
    "# Convertir a un DataFrame de Pandas\n",
    "df_urls = pd.DataFrame(list(querySiteURL.values('site', 'nombre','marca','medida_cant', 'unidades', 'idproducto', 'precio')))"
   ]
  },
  {
   "cell_type": "code",
   "execution_count": 36,
   "id": "697246d5",
   "metadata": {},
   "outputs": [],
   "source": [
    "df_urls['nombre'] = df_urls['nombre'].str.strip()\n",
    "df_urls['marca'] = df_urls['marca'].str.strip()\n",
    "df_urls['unidades'] = df_urls['unidades'].str.strip()\n",
    "df_urls['idproducto'] = df_urls['idproducto'].str.strip()"
   ]
  },
  {
   "cell_type": "code",
   "execution_count": 37,
   "id": "6595ebca",
   "metadata": {},
   "outputs": [],
   "source": [
    "df_marcas['nombre'] = df_marcas['nombre'].str.strip()\n",
    "df_urls['marca'] = df_urls['marca'].str.strip()\n",
    "df_urls['marca'] = df_urls['marca'].str.lower()"
   ]
  },
  {
   "cell_type": "code",
   "execution_count": 38,
   "id": "6e17e7a9",
   "metadata": {},
   "outputs": [],
   "source": [
    "df_urls.dropna(inplace=True)\n",
    "        "
   ]
  },
  {
   "cell_type": "markdown",
   "id": "001f1907",
   "metadata": {},
   "source": [
    "### generar lista aquellos sin marca\n"
   ]
  },
  {
   "cell_type": "code",
   "execution_count": 39,
   "id": "c70096be",
   "metadata": {},
   "outputs": [],
   "source": [
    "df_sin_marca = df_urls[df_urls['marca'] == '']\n",
    "df_con_marca = df_urls[df_urls['marca'] != '']\n"
   ]
  },
  {
   "cell_type": "markdown",
   "id": "f74ca554",
   "metadata": {},
   "source": [
    "## Lista de marcas no existentes"
   ]
  },
  {
   "cell_type": "code",
   "execution_count": 40,
   "id": "05d2f815",
   "metadata": {},
   "outputs": [],
   "source": [
    "lista_marcas_no_existen = df_con_marca[~df_con_marca['marca'].isin(df_marcas['nombre'])]\n",
    "lista_marcas_no_existen = lista_marcas_no_existen.drop(columns=['site', 'nombre', 'medida_cant', 'unidades', 'precio', 'idproducto'])\n",
    "lista_marcas_no_existen = lista_marcas_no_existen.sort_values(by='marca')\n",
    "lista_marcas_no_existen = lista_marcas_no_existen.drop_duplicates(keep='first')"
   ]
  },
  {
   "cell_type": "code",
   "execution_count": 41,
   "id": "56a108df",
   "metadata": {},
   "outputs": [],
   "source": [
    "existen, no_existen = 0,0\n",
    "### Se crean todas las marcas necesarias\n",
    "for marcas_no_existe in lista_marcas_no_existen['marca']:\n",
    "    \n",
    "    marca_limpia = unidecode.unidecode(marcas_no_existe)\n",
    "    \n",
    "    fixed_marca = fixMarca(marca_limpia)\n",
    "    \n",
    "    if not Marcas.objects.filter(nombre__iexact=fixed_marca).exists():\n",
    "        marca_limpia, created = Marcas.objects.update_or_create(nombre = fixed_marca)\n",
    "        \n",
    "        \n",
    "#     if not Marcas.objects.filter(nombre__iexact=marca_limpia).exists():\n",
    "#         marca_limpia, created = Marcas.objects.update_or_create(nombre = marca_limpia)\n",
    "        \n",
    "    if not Marcas.objects.filter(nombre__iexact=marcas_no_existe).exists():\n",
    "        marcas_no_existe, created = Marcas.objects.update_or_create(nombre = marcas_no_existe)\n",
    "\n",
    "    \n",
    "for marcas_no_existe in lista_marcas_no_existen['marca']:    \n",
    "    ## Objetos\n",
    "    marca_limpia = unidecode.unidecode(marcas_no_existe)\n",
    "    \n",
    "    fixed_marca = fixMarca(marca_limpia)\n",
    "\n",
    "    nueva_marca_obj = Marcas.objects.filter(nombre__iexact = marcas_no_existe).get()\n",
    "    fixed_marca_obj = Marcas.objects.filter(nombre__iexact = fixed_marca).get()\n",
    "    if nueva_marca_obj != fixed_marca_obj:\n",
    "        Unifica.objects.update_or_create(\n",
    "                si_marca=nueva_marca_obj,\n",
    "                entonces_marca=fixed_marca_obj,\n",
    "                contador=0,\n",
    "                automatico=True\n",
    "           )\n",
    "    \n",
    "\n"
   ]
  },
  {
   "cell_type": "markdown",
   "id": "5ea5ebfb",
   "metadata": {},
   "source": [
    "## Campo marca vacio, la marca en el nombre\n"
   ]
  },
  {
   "cell_type": "code",
   "execution_count": 42,
   "id": "7c552d69",
   "metadata": {},
   "outputs": [
    {
     "name": "stdout",
     "output_type": "stream",
     "text": [
      "registros= 13775 marcas_doble=0  una_marca=13775\n"
     ]
    }
   ],
   "source": [
    "listamarcas = list(Marcas.objects.filter(es_marca=True).all())\n",
    "urlsinMarca = SiteURLResults.objects.filter(marca='').all()\n",
    "registro = 0\n",
    "marcas_doble = 0\n",
    "una_marca  = 0\n",
    "for url in urlsinMarca:\n",
    "    registro = registro  + 1\n",
    "    nombre = url.nombre.lower()\n",
    "    num_marcas = 0\n",
    "    arr_marcas = []\n",
    "    for posible_marrca in listamarcas:\n",
    "        busca_marca = posible_marrca.nombre.lower()\n",
    "        \n",
    "        if ( ' ' + busca_marca +' ' in nombre ) or \\\n",
    "            ( '.' + busca_marca +' ' in nombre ):\n",
    "            num_marcas = num_marcas + 1\n",
    "            arr_marcas.append(busca_marca)\n",
    "            ultima_marca = busca_marca\n",
    "            \n",
    "    if num_marcas > 1:\n",
    "        marcas_doble = marcas_doble + 1\n",
    "#        print(arr_marcas)\n",
    "#         print(f'arr_marcas= {arr_marcas} registro={registro} en {nombre} ')\n",
    "    else:\n",
    "#        print(f'arr_marcas= {arr_marcas} registro={registro} en {url.nombre} ')\n",
    "        url.marca = busca_marca\n",
    "        url.nombre = nombre.replace(busca_marca, '')\n",
    "        url.save()\n",
    "        una_marca = una_marca + 1\n",
    "\n",
    "print(f'registros= {registro} marcas_doble={marcas_doble}  una_marca={una_marca}')"
   ]
  },
  {
   "cell_type": "code",
   "execution_count": 43,
   "id": "521ffdd8",
   "metadata": {},
   "outputs": [
    {
     "data": {
      "text/html": [
       "<div>\n",
       "<style scoped>\n",
       "    .dataframe tbody tr th:only-of-type {\n",
       "        vertical-align: middle;\n",
       "    }\n",
       "\n",
       "    .dataframe tbody tr th {\n",
       "        vertical-align: top;\n",
       "    }\n",
       "\n",
       "    .dataframe thead th {\n",
       "        text-align: right;\n",
       "    }\n",
       "</style>\n",
       "<table border=\"1\" class=\"dataframe\">\n",
       "  <thead>\n",
       "    <tr style=\"text-align: right;\">\n",
       "      <th></th>\n",
       "      <th>pk</th>\n",
       "      <th>site</th>\n",
       "      <th>nombre</th>\n",
       "      <th>marca</th>\n",
       "      <th>medida_cant</th>\n",
       "      <th>unidades</th>\n",
       "      <th>idproducto</th>\n",
       "      <th>precio</th>\n",
       "    </tr>\n",
       "  </thead>\n",
       "  <tbody>\n",
       "    <tr>\n",
       "      <th>0</th>\n",
       "      <td>594739</td>\n",
       "      <td>4</td>\n",
       "      <td>None</td>\n",
       "      <td>zuko</td>\n",
       "      <td>2.0</td>\n",
       "      <td>None</td>\n",
       "      <td>None</td>\n",
       "      <td>0</td>\n",
       "    </tr>\n",
       "    <tr>\n",
       "      <th>1</th>\n",
       "      <td>99063</td>\n",
       "      <td>8</td>\n",
       "      <td>None</td>\n",
       "      <td>zuko</td>\n",
       "      <td>0.0</td>\n",
       "      <td>None</td>\n",
       "      <td>None</td>\n",
       "      <td>0</td>\n",
       "    </tr>\n",
       "    <tr>\n",
       "      <th>2</th>\n",
       "      <td>99035</td>\n",
       "      <td>8</td>\n",
       "      <td>None</td>\n",
       "      <td>zuko</td>\n",
       "      <td>0.0</td>\n",
       "      <td>None</td>\n",
       "      <td>None</td>\n",
       "      <td>0</td>\n",
       "    </tr>\n",
       "    <tr>\n",
       "      <th>3</th>\n",
       "      <td>99078</td>\n",
       "      <td>8</td>\n",
       "      <td>None</td>\n",
       "      <td>zuko</td>\n",
       "      <td>0.0</td>\n",
       "      <td>None</td>\n",
       "      <td>None</td>\n",
       "      <td>0</td>\n",
       "    </tr>\n",
       "    <tr>\n",
       "      <th>4</th>\n",
       "      <td>567273</td>\n",
       "      <td>8</td>\n",
       "      <td>None</td>\n",
       "      <td>zuko</td>\n",
       "      <td>0.0</td>\n",
       "      <td>None</td>\n",
       "      <td>None</td>\n",
       "      <td>0</td>\n",
       "    </tr>\n",
       "    <tr>\n",
       "      <th>...</th>\n",
       "      <td>...</td>\n",
       "      <td>...</td>\n",
       "      <td>...</td>\n",
       "      <td>...</td>\n",
       "      <td>...</td>\n",
       "      <td>...</td>\n",
       "      <td>...</td>\n",
       "      <td>...</td>\n",
       "    </tr>\n",
       "    <tr>\n",
       "      <th>92217</th>\n",
       "      <td>676116</td>\n",
       "      <td>4</td>\n",
       "      <td>margarina vegetal con canola, 400 g</td>\n",
       "      <td>lider</td>\n",
       "      <td>0.0</td>\n",
       "      <td>None</td>\n",
       "      <td>127123</td>\n",
       "      <td>1690</td>\n",
       "    </tr>\n",
       "    <tr>\n",
       "      <th>92218</th>\n",
       "      <td>674450</td>\n",
       "      <td>4</td>\n",
       "      <td>margarina vegetal de mesa , 250g</td>\n",
       "      <td>dorina</td>\n",
       "      <td>0.0</td>\n",
       "      <td>None</td>\n",
       "      <td>718016</td>\n",
       "      <td>1750</td>\n",
       "    </tr>\n",
       "    <tr>\n",
       "      <th>92219</th>\n",
       "      <td>584189</td>\n",
       "      <td>4</td>\n",
       "      <td>fragancia  pink, 250 ml</td>\n",
       "      <td>etienne</td>\n",
       "      <td>0.0</td>\n",
       "      <td>None</td>\n",
       "      <td>646039</td>\n",
       "      <td>5750</td>\n",
       "    </tr>\n",
       "    <tr>\n",
       "      <th>92220</th>\n",
       "      <td>596553</td>\n",
       "      <td>4</td>\n",
       "      <td>wipes desinfectantes aroma limón, 50 un</td>\n",
       "      <td>lider</td>\n",
       "      <td>0.0</td>\n",
       "      <td>None</td>\n",
       "      <td>746198</td>\n",
       "      <td>2290</td>\n",
       "    </tr>\n",
       "    <tr>\n",
       "      <th>92221</th>\n",
       "      <td>596685</td>\n",
       "      <td>4</td>\n",
       "      <td>servilletas mesa, 200 un</td>\n",
       "      <td>nova</td>\n",
       "      <td>0.0</td>\n",
       "      <td>None</td>\n",
       "      <td>778849</td>\n",
       "      <td>2790</td>\n",
       "    </tr>\n",
       "  </tbody>\n",
       "</table>\n",
       "<p>92222 rows × 8 columns</p>\n",
       "</div>"
      ],
      "text/plain": [
       "           pk  site                                   nombre    marca   \n",
       "0      594739     4                                     None     zuko  \\\n",
       "1       99063     8                                     None     zuko   \n",
       "2       99035     8                                     None     zuko   \n",
       "3       99078     8                                     None     zuko   \n",
       "4      567273     8                                     None     zuko   \n",
       "...       ...   ...                                      ...      ...   \n",
       "92217  676116     4      margarina vegetal con canola, 400 g    lider   \n",
       "92218  674450     4         margarina vegetal de mesa , 250g   dorina   \n",
       "92219  584189     4                  fragancia  pink, 250 ml  etienne   \n",
       "92220  596553     4  wipes desinfectantes aroma limón, 50 un    lider   \n",
       "92221  596685     4                 servilletas mesa, 200 un     nova   \n",
       "\n",
       "       medida_cant unidades idproducto  precio  \n",
       "0              2.0     None       None       0  \n",
       "1              0.0     None       None       0  \n",
       "2              0.0     None       None       0  \n",
       "3              0.0     None       None       0  \n",
       "4              0.0     None       None       0  \n",
       "...            ...      ...        ...     ...  \n",
       "92217          0.0     None     127123    1690  \n",
       "92218          0.0     None     718016    1750  \n",
       "92219          0.0     None     646039    5750  \n",
       "92220          0.0     None     746198    2290  \n",
       "92221          0.0     None     778849    2790  \n",
       "\n",
       "[92222 rows x 8 columns]"
      ]
     },
     "execution_count": 43,
     "metadata": {},
     "output_type": "execute_result"
    }
   ],
   "source": [
    "# Obtener todos los registros de SiteURLResults\n",
    "querySiteURL = SiteURLResults.objects.exclude(precio=0, nombre='', marca='').all()\n",
    "\n",
    "# Convertir a un DataFrame de Pandas\n",
    "df_urls = pd.DataFrame(list(querySiteURL.values('pk', 'site', 'nombre','marca','medida_cant', 'unidades', 'idproducto', 'precio')))\n",
    "df_urls = df_urls.replace(r'^\\s*$', value=None, regex=True)\n",
    "\n",
    "# reemplazar el carácter acentuado por el carácter sin acento en la columna de nombre\n",
    "df_urls['nombre'] = df_urls['nombre'].str.replace(\"´\", \"'\")\n",
    "\n",
    "df_urls"
   ]
  },
  {
   "cell_type": "code",
   "execution_count": 46,
   "id": "a65971b4",
   "metadata": {},
   "outputs": [
    {
     "ename": "KeyboardInterrupt",
     "evalue": "",
     "output_type": "error",
     "traceback": [
      "\u001b[0;31m---------------------------------------------------------------------------\u001b[0m",
      "\u001b[0;31mKeyboardInterrupt\u001b[0m                         Traceback (most recent call last)",
      "Cell \u001b[0;32mIn[46], line 27\u001b[0m\n\u001b[1;32m     17\u001b[0m     url \u001b[38;5;241m=\u001b[39m SiteURLResults(\n\u001b[1;32m     18\u001b[0m         pk\u001b[38;5;241m=\u001b[39mrow[\u001b[38;5;124m'\u001b[39m\u001b[38;5;124mpk\u001b[39m\u001b[38;5;124m'\u001b[39m],\n\u001b[1;32m     19\u001b[0m         nombre\u001b[38;5;241m=\u001b[39mrow[\u001b[38;5;124m'\u001b[39m\u001b[38;5;124mnombre\u001b[39m\u001b[38;5;124m'\u001b[39m],\n\u001b[0;32m   (...)\u001b[0m\n\u001b[1;32m     23\u001b[0m         idproducto\u001b[38;5;241m=\u001b[39mrow[\u001b[38;5;124m'\u001b[39m\u001b[38;5;124midproducto\u001b[39m\u001b[38;5;124m'\u001b[39m]\n\u001b[1;32m     24\u001b[0m     )\n\u001b[1;32m     25\u001b[0m     updated_urls\u001b[38;5;241m.\u001b[39mappend(url)\n\u001b[0;32m---> 27\u001b[0m \u001b[43mSiteURLResults\u001b[49m\u001b[38;5;241;43m.\u001b[39;49m\u001b[43mobjects\u001b[49m\u001b[38;5;241;43m.\u001b[39;49m\u001b[43mbulk_update\u001b[49m\u001b[43m(\u001b[49m\n\u001b[1;32m     28\u001b[0m \u001b[43m    \u001b[49m\u001b[43mupdated_urls\u001b[49m\u001b[43m,\u001b[49m\n\u001b[1;32m     29\u001b[0m \u001b[43m    \u001b[49m\u001b[43m[\u001b[49m\u001b[38;5;124;43m'\u001b[39;49m\u001b[38;5;124;43mnombre\u001b[39;49m\u001b[38;5;124;43m'\u001b[39;49m\u001b[43m,\u001b[49m\u001b[43m \u001b[49m\u001b[38;5;124;43m'\u001b[39;49m\u001b[38;5;124;43mmarca\u001b[39;49m\u001b[38;5;124;43m'\u001b[39;49m\u001b[43m,\u001b[49m\u001b[43m  \u001b[49m\u001b[38;5;124;43m'\u001b[39;49m\u001b[38;5;124;43mmedida_cant\u001b[39;49m\u001b[38;5;124;43m'\u001b[39;49m\u001b[43m,\u001b[49m\u001b[43m \u001b[49m\u001b[38;5;124;43m'\u001b[39;49m\u001b[38;5;124;43munidades\u001b[39;49m\u001b[38;5;124;43m'\u001b[39;49m\u001b[43m,\u001b[49m\u001b[43m \u001b[49m\u001b[38;5;124;43m'\u001b[39;49m\u001b[38;5;124;43midproducto\u001b[39;49m\u001b[38;5;124;43m'\u001b[39;49m\u001b[43m]\u001b[49m\n\u001b[1;32m     30\u001b[0m \u001b[43m)\u001b[49m\n",
      "File \u001b[0;32m~/hd1/Codigo/JAVIER/cms-1/venv/lib/python3.10/site-packages/django/db/models/manager.py:85\u001b[0m, in \u001b[0;36mBaseManager._get_queryset_methods.<locals>.create_method.<locals>.manager_method\u001b[0;34m(self, *args, **kwargs)\u001b[0m\n\u001b[1;32m     84\u001b[0m \u001b[38;5;28;01mdef\u001b[39;00m \u001b[38;5;21mmanager_method\u001b[39m(\u001b[38;5;28mself\u001b[39m, \u001b[38;5;241m*\u001b[39margs, \u001b[38;5;241m*\u001b[39m\u001b[38;5;241m*\u001b[39mkwargs):\n\u001b[0;32m---> 85\u001b[0m     \u001b[38;5;28;01mreturn\u001b[39;00m \u001b[38;5;28;43mgetattr\u001b[39;49m\u001b[43m(\u001b[49m\u001b[38;5;28;43mself\u001b[39;49m\u001b[38;5;241;43m.\u001b[39;49m\u001b[43mget_queryset\u001b[49m\u001b[43m(\u001b[49m\u001b[43m)\u001b[49m\u001b[43m,\u001b[49m\u001b[43m \u001b[49m\u001b[43mname\u001b[49m\u001b[43m)\u001b[49m\u001b[43m(\u001b[49m\u001b[38;5;241;43m*\u001b[39;49m\u001b[43margs\u001b[49m\u001b[43m,\u001b[49m\u001b[43m \u001b[49m\u001b[38;5;241;43m*\u001b[39;49m\u001b[38;5;241;43m*\u001b[39;49m\u001b[43mkwargs\u001b[49m\u001b[43m)\u001b[49m\n",
      "File \u001b[0;32m~/hd1/Codigo/JAVIER/cms-1/venv/lib/python3.10/site-packages/django/db/models/query.py:568\u001b[0m, in \u001b[0;36mQuerySet.bulk_update\u001b[0;34m(self, objs, fields, batch_size)\u001b[0m\n\u001b[1;32m    566\u001b[0m \u001b[38;5;28;01mwith\u001b[39;00m transaction\u001b[38;5;241m.\u001b[39matomic(using\u001b[38;5;241m=\u001b[39m\u001b[38;5;28mself\u001b[39m\u001b[38;5;241m.\u001b[39mdb, savepoint\u001b[38;5;241m=\u001b[39m\u001b[38;5;28;01mFalse\u001b[39;00m):\n\u001b[1;32m    567\u001b[0m     \u001b[38;5;28;01mfor\u001b[39;00m pks, update_kwargs \u001b[38;5;129;01min\u001b[39;00m updates:\n\u001b[0;32m--> 568\u001b[0m         \u001b[38;5;28;43mself\u001b[39;49m\u001b[38;5;241;43m.\u001b[39;49m\u001b[43mfilter\u001b[49m\u001b[43m(\u001b[49m\u001b[43mpk__in\u001b[49m\u001b[38;5;241;43m=\u001b[39;49m\u001b[43mpks\u001b[49m\u001b[43m)\u001b[49m\u001b[38;5;241;43m.\u001b[39;49m\u001b[43mupdate\u001b[49m\u001b[43m(\u001b[49m\u001b[38;5;241;43m*\u001b[39;49m\u001b[38;5;241;43m*\u001b[39;49m\u001b[43mupdate_kwargs\u001b[49m\u001b[43m)\u001b[49m\n",
      "File \u001b[0;32m~/hd1/Codigo/JAVIER/cms-1/venv/lib/python3.10/site-packages/django/db/models/query.py:783\u001b[0m, in \u001b[0;36mQuerySet.update\u001b[0;34m(self, **kwargs)\u001b[0m\n\u001b[1;32m    781\u001b[0m query\u001b[38;5;241m.\u001b[39mannotations \u001b[38;5;241m=\u001b[39m {}\n\u001b[1;32m    782\u001b[0m \u001b[38;5;28;01mwith\u001b[39;00m transaction\u001b[38;5;241m.\u001b[39mmark_for_rollback_on_error(using\u001b[38;5;241m=\u001b[39m\u001b[38;5;28mself\u001b[39m\u001b[38;5;241m.\u001b[39mdb):\n\u001b[0;32m--> 783\u001b[0m     rows \u001b[38;5;241m=\u001b[39m \u001b[43mquery\u001b[49m\u001b[38;5;241;43m.\u001b[39;49m\u001b[43mget_compiler\u001b[49m\u001b[43m(\u001b[49m\u001b[38;5;28;43mself\u001b[39;49m\u001b[38;5;241;43m.\u001b[39;49m\u001b[43mdb\u001b[49m\u001b[43m)\u001b[49m\u001b[38;5;241;43m.\u001b[39;49m\u001b[43mexecute_sql\u001b[49m\u001b[43m(\u001b[49m\u001b[43mCURSOR\u001b[49m\u001b[43m)\u001b[49m\n\u001b[1;32m    784\u001b[0m \u001b[38;5;28mself\u001b[39m\u001b[38;5;241m.\u001b[39m_result_cache \u001b[38;5;241m=\u001b[39m \u001b[38;5;28;01mNone\u001b[39;00m\n\u001b[1;32m    785\u001b[0m \u001b[38;5;28;01mreturn\u001b[39;00m rows\n",
      "File \u001b[0;32m~/hd1/Codigo/JAVIER/cms-1/venv/lib/python3.10/site-packages/django/db/models/sql/compiler.py:1559\u001b[0m, in \u001b[0;36mSQLUpdateCompiler.execute_sql\u001b[0;34m(self, result_type)\u001b[0m\n\u001b[1;32m   1552\u001b[0m \u001b[38;5;28;01mdef\u001b[39;00m \u001b[38;5;21mexecute_sql\u001b[39m(\u001b[38;5;28mself\u001b[39m, result_type):\n\u001b[1;32m   1553\u001b[0m \u001b[38;5;250m    \u001b[39m\u001b[38;5;124;03m\"\"\"\u001b[39;00m\n\u001b[1;32m   1554\u001b[0m \u001b[38;5;124;03m    Execute the specified update. Return the number of rows affected by\u001b[39;00m\n\u001b[1;32m   1555\u001b[0m \u001b[38;5;124;03m    the primary update query. The \"primary update query\" is the first\u001b[39;00m\n\u001b[1;32m   1556\u001b[0m \u001b[38;5;124;03m    non-empty query that is executed. Row counts for any subsequent,\u001b[39;00m\n\u001b[1;32m   1557\u001b[0m \u001b[38;5;124;03m    related queries are not available.\u001b[39;00m\n\u001b[1;32m   1558\u001b[0m \u001b[38;5;124;03m    \"\"\"\u001b[39;00m\n\u001b[0;32m-> 1559\u001b[0m     cursor \u001b[38;5;241m=\u001b[39m \u001b[38;5;28;43msuper\u001b[39;49m\u001b[43m(\u001b[49m\u001b[43m)\u001b[49m\u001b[38;5;241;43m.\u001b[39;49m\u001b[43mexecute_sql\u001b[49m\u001b[43m(\u001b[49m\u001b[43mresult_type\u001b[49m\u001b[43m)\u001b[49m\n\u001b[1;32m   1560\u001b[0m     \u001b[38;5;28;01mtry\u001b[39;00m:\n\u001b[1;32m   1561\u001b[0m         rows \u001b[38;5;241m=\u001b[39m cursor\u001b[38;5;241m.\u001b[39mrowcount \u001b[38;5;28;01mif\u001b[39;00m cursor \u001b[38;5;28;01melse\u001b[39;00m \u001b[38;5;241m0\u001b[39m\n",
      "File \u001b[0;32m~/hd1/Codigo/JAVIER/cms-1/venv/lib/python3.10/site-packages/django/db/models/sql/compiler.py:1162\u001b[0m, in \u001b[0;36mSQLCompiler.execute_sql\u001b[0;34m(self, result_type, chunked_fetch, chunk_size)\u001b[0m\n\u001b[1;32m   1160\u001b[0m result_type \u001b[38;5;241m=\u001b[39m result_type \u001b[38;5;129;01mor\u001b[39;00m NO_RESULTS\n\u001b[1;32m   1161\u001b[0m \u001b[38;5;28;01mtry\u001b[39;00m:\n\u001b[0;32m-> 1162\u001b[0m     sql, params \u001b[38;5;241m=\u001b[39m \u001b[38;5;28;43mself\u001b[39;49m\u001b[38;5;241;43m.\u001b[39;49m\u001b[43mas_sql\u001b[49m\u001b[43m(\u001b[49m\u001b[43m)\u001b[49m\n\u001b[1;32m   1163\u001b[0m     \u001b[38;5;28;01mif\u001b[39;00m \u001b[38;5;129;01mnot\u001b[39;00m sql:\n\u001b[1;32m   1164\u001b[0m         \u001b[38;5;28;01mraise\u001b[39;00m EmptyResultSet\n",
      "File \u001b[0;32m~/hd1/Codigo/JAVIER/cms-1/venv/lib/python3.10/site-packages/django/db/backends/mysql/compiler.py:44\u001b[0m, in \u001b[0;36mSQLUpdateCompiler.as_sql\u001b[0;34m(self)\u001b[0m\n\u001b[1;32m     43\u001b[0m \u001b[38;5;28;01mdef\u001b[39;00m \u001b[38;5;21mas_sql\u001b[39m(\u001b[38;5;28mself\u001b[39m):\n\u001b[0;32m---> 44\u001b[0m     update_query, update_params \u001b[38;5;241m=\u001b[39m \u001b[38;5;28;43msuper\u001b[39;49m\u001b[43m(\u001b[49m\u001b[43m)\u001b[49m\u001b[38;5;241;43m.\u001b[39;49m\u001b[43mas_sql\u001b[49m\u001b[43m(\u001b[49m\u001b[43m)\u001b[49m\n\u001b[1;32m     45\u001b[0m     \u001b[38;5;66;03m# MySQL and MariaDB support UPDATE ... ORDER BY syntax.\u001b[39;00m\n\u001b[1;32m     46\u001b[0m     \u001b[38;5;28;01mif\u001b[39;00m \u001b[38;5;28mself\u001b[39m\u001b[38;5;241m.\u001b[39mquery\u001b[38;5;241m.\u001b[39morder_by:\n",
      "File \u001b[0;32m~/hd1/Codigo/JAVIER/cms-1/venv/lib/python3.10/site-packages/django/db/models/sql/compiler.py:1534\u001b[0m, in \u001b[0;36mSQLUpdateCompiler.as_sql\u001b[0;34m(self)\u001b[0m\n\u001b[1;32m   1532\u001b[0m name \u001b[38;5;241m=\u001b[39m field\u001b[38;5;241m.\u001b[39mcolumn\n\u001b[1;32m   1533\u001b[0m \u001b[38;5;28;01mif\u001b[39;00m \u001b[38;5;28mhasattr\u001b[39m(val, \u001b[38;5;124m'\u001b[39m\u001b[38;5;124mas_sql\u001b[39m\u001b[38;5;124m'\u001b[39m):\n\u001b[0;32m-> 1534\u001b[0m     sql, params \u001b[38;5;241m=\u001b[39m \u001b[38;5;28;43mself\u001b[39;49m\u001b[38;5;241;43m.\u001b[39;49m\u001b[43mcompile\u001b[49m\u001b[43m(\u001b[49m\u001b[43mval\u001b[49m\u001b[43m)\u001b[49m\n\u001b[1;32m   1535\u001b[0m     values\u001b[38;5;241m.\u001b[39mappend(\u001b[38;5;124m'\u001b[39m\u001b[38;5;132;01m%s\u001b[39;00m\u001b[38;5;124m = \u001b[39m\u001b[38;5;132;01m%s\u001b[39;00m\u001b[38;5;124m'\u001b[39m \u001b[38;5;241m%\u001b[39m (qn(name), placeholder \u001b[38;5;241m%\u001b[39m sql))\n\u001b[1;32m   1536\u001b[0m     update_params\u001b[38;5;241m.\u001b[39mextend(params)\n",
      "File \u001b[0;32m~/hd1/Codigo/JAVIER/cms-1/venv/lib/python3.10/site-packages/django/db/models/sql/compiler.py:445\u001b[0m, in \u001b[0;36mSQLCompiler.compile\u001b[0;34m(self, node)\u001b[0m\n\u001b[1;32m    443\u001b[0m     sql, params \u001b[38;5;241m=\u001b[39m vendor_impl(\u001b[38;5;28mself\u001b[39m, \u001b[38;5;28mself\u001b[39m\u001b[38;5;241m.\u001b[39mconnection)\n\u001b[1;32m    444\u001b[0m \u001b[38;5;28;01melse\u001b[39;00m:\n\u001b[0;32m--> 445\u001b[0m     sql, params \u001b[38;5;241m=\u001b[39m \u001b[43mnode\u001b[49m\u001b[38;5;241;43m.\u001b[39;49m\u001b[43mas_sql\u001b[49m\u001b[43m(\u001b[49m\u001b[38;5;28;43mself\u001b[39;49m\u001b[43m,\u001b[49m\u001b[43m \u001b[49m\u001b[38;5;28;43mself\u001b[39;49m\u001b[38;5;241;43m.\u001b[39;49m\u001b[43mconnection\u001b[49m\u001b[43m)\u001b[49m\n\u001b[1;32m    446\u001b[0m \u001b[38;5;28;01mreturn\u001b[39;00m sql, params\n",
      "File \u001b[0;32m~/hd1/Codigo/JAVIER/cms-1/venv/lib/python3.10/site-packages/django/db/models/expressions.py:1063\u001b[0m, in \u001b[0;36mCase.as_sql\u001b[0;34m(self, compiler, connection, template, case_joiner, **extra_context)\u001b[0m\n\u001b[1;32m   1061\u001b[0m \u001b[38;5;28;01mfor\u001b[39;00m case \u001b[38;5;129;01min\u001b[39;00m \u001b[38;5;28mself\u001b[39m\u001b[38;5;241m.\u001b[39mcases:\n\u001b[1;32m   1062\u001b[0m     \u001b[38;5;28;01mtry\u001b[39;00m:\n\u001b[0;32m-> 1063\u001b[0m         case_sql, case_params \u001b[38;5;241m=\u001b[39m \u001b[43mcompiler\u001b[49m\u001b[38;5;241;43m.\u001b[39;49m\u001b[43mcompile\u001b[49m\u001b[43m(\u001b[49m\u001b[43mcase\u001b[49m\u001b[43m)\u001b[49m\n\u001b[1;32m   1064\u001b[0m     \u001b[38;5;28;01mexcept\u001b[39;00m EmptyResultSet:\n\u001b[1;32m   1065\u001b[0m         \u001b[38;5;28;01mcontinue\u001b[39;00m\n",
      "File \u001b[0;32m~/hd1/Codigo/JAVIER/cms-1/venv/lib/python3.10/site-packages/django/db/models/sql/compiler.py:445\u001b[0m, in \u001b[0;36mSQLCompiler.compile\u001b[0;34m(self, node)\u001b[0m\n\u001b[1;32m    443\u001b[0m     sql, params \u001b[38;5;241m=\u001b[39m vendor_impl(\u001b[38;5;28mself\u001b[39m, \u001b[38;5;28mself\u001b[39m\u001b[38;5;241m.\u001b[39mconnection)\n\u001b[1;32m    444\u001b[0m \u001b[38;5;28;01melse\u001b[39;00m:\n\u001b[0;32m--> 445\u001b[0m     sql, params \u001b[38;5;241m=\u001b[39m \u001b[43mnode\u001b[49m\u001b[38;5;241;43m.\u001b[39;49m\u001b[43mas_sql\u001b[49m\u001b[43m(\u001b[49m\u001b[38;5;28;43mself\u001b[39;49m\u001b[43m,\u001b[49m\u001b[43m \u001b[49m\u001b[38;5;28;43mself\u001b[39;49m\u001b[38;5;241;43m.\u001b[39;49m\u001b[43mconnection\u001b[49m\u001b[43m)\u001b[49m\n\u001b[1;32m    446\u001b[0m \u001b[38;5;28;01mreturn\u001b[39;00m sql, params\n",
      "File \u001b[0;32m~/hd1/Codigo/JAVIER/cms-1/venv/lib/python3.10/site-packages/django/db/models/expressions.py:989\u001b[0m, in \u001b[0;36mWhen.as_sql\u001b[0;34m(self, compiler, connection, template, **extra_context)\u001b[0m\n\u001b[1;32m    987\u001b[0m template_params \u001b[38;5;241m=\u001b[39m extra_context\n\u001b[1;32m    988\u001b[0m sql_params \u001b[38;5;241m=\u001b[39m []\n\u001b[0;32m--> 989\u001b[0m condition_sql, condition_params \u001b[38;5;241m=\u001b[39m \u001b[43mcompiler\u001b[49m\u001b[38;5;241;43m.\u001b[39;49m\u001b[43mcompile\u001b[49m\u001b[43m(\u001b[49m\u001b[38;5;28;43mself\u001b[39;49m\u001b[38;5;241;43m.\u001b[39;49m\u001b[43mcondition\u001b[49m\u001b[43m)\u001b[49m\n\u001b[1;32m    990\u001b[0m template_params[\u001b[38;5;124m'\u001b[39m\u001b[38;5;124mcondition\u001b[39m\u001b[38;5;124m'\u001b[39m] \u001b[38;5;241m=\u001b[39m condition_sql\n\u001b[1;32m    991\u001b[0m sql_params\u001b[38;5;241m.\u001b[39mextend(condition_params)\n",
      "File \u001b[0;32m~/hd1/Codigo/JAVIER/cms-1/venv/lib/python3.10/site-packages/django/db/models/sql/compiler.py:445\u001b[0m, in \u001b[0;36mSQLCompiler.compile\u001b[0;34m(self, node)\u001b[0m\n\u001b[1;32m    443\u001b[0m     sql, params \u001b[38;5;241m=\u001b[39m vendor_impl(\u001b[38;5;28mself\u001b[39m, \u001b[38;5;28mself\u001b[39m\u001b[38;5;241m.\u001b[39mconnection)\n\u001b[1;32m    444\u001b[0m \u001b[38;5;28;01melse\u001b[39;00m:\n\u001b[0;32m--> 445\u001b[0m     sql, params \u001b[38;5;241m=\u001b[39m \u001b[43mnode\u001b[49m\u001b[38;5;241;43m.\u001b[39;49m\u001b[43mas_sql\u001b[49m\u001b[43m(\u001b[49m\u001b[38;5;28;43mself\u001b[39;49m\u001b[43m,\u001b[49m\u001b[43m \u001b[49m\u001b[38;5;28;43mself\u001b[39;49m\u001b[38;5;241;43m.\u001b[39;49m\u001b[43mconnection\u001b[49m\u001b[43m)\u001b[49m\n\u001b[1;32m    446\u001b[0m \u001b[38;5;28;01mreturn\u001b[39;00m sql, params\n",
      "File \u001b[0;32m~/hd1/Codigo/JAVIER/cms-1/venv/lib/python3.10/site-packages/django/db/models/sql/where.py:81\u001b[0m, in \u001b[0;36mWhereNode.as_sql\u001b[0;34m(self, compiler, connection)\u001b[0m\n\u001b[1;32m     79\u001b[0m \u001b[38;5;28;01mfor\u001b[39;00m child \u001b[38;5;129;01min\u001b[39;00m \u001b[38;5;28mself\u001b[39m\u001b[38;5;241m.\u001b[39mchildren:\n\u001b[1;32m     80\u001b[0m     \u001b[38;5;28;01mtry\u001b[39;00m:\n\u001b[0;32m---> 81\u001b[0m         sql, params \u001b[38;5;241m=\u001b[39m \u001b[43mcompiler\u001b[49m\u001b[38;5;241;43m.\u001b[39;49m\u001b[43mcompile\u001b[49m\u001b[43m(\u001b[49m\u001b[43mchild\u001b[49m\u001b[43m)\u001b[49m\n\u001b[1;32m     82\u001b[0m     \u001b[38;5;28;01mexcept\u001b[39;00m EmptyResultSet:\n\u001b[1;32m     83\u001b[0m         empty_needed \u001b[38;5;241m-\u001b[39m\u001b[38;5;241m=\u001b[39m \u001b[38;5;241m1\u001b[39m\n",
      "File \u001b[0;32m~/hd1/Codigo/JAVIER/cms-1/venv/lib/python3.10/site-packages/django/db/models/sql/compiler.py:440\u001b[0m, in \u001b[0;36mSQLCompiler.compile\u001b[0;34m(self, node)\u001b[0m\n\u001b[1;32m    437\u001b[0m     \u001b[38;5;28mself\u001b[39m\u001b[38;5;241m.\u001b[39mquote_cache[name] \u001b[38;5;241m=\u001b[39m r\n\u001b[1;32m    438\u001b[0m     \u001b[38;5;28;01mreturn\u001b[39;00m r\n\u001b[0;32m--> 440\u001b[0m \u001b[38;5;28;01mdef\u001b[39;00m \u001b[38;5;21mcompile\u001b[39m(\u001b[38;5;28mself\u001b[39m, node):\n\u001b[1;32m    441\u001b[0m     vendor_impl \u001b[38;5;241m=\u001b[39m \u001b[38;5;28mgetattr\u001b[39m(node, \u001b[38;5;124m'\u001b[39m\u001b[38;5;124mas_\u001b[39m\u001b[38;5;124m'\u001b[39m \u001b[38;5;241m+\u001b[39m \u001b[38;5;28mself\u001b[39m\u001b[38;5;241m.\u001b[39mconnection\u001b[38;5;241m.\u001b[39mvendor, \u001b[38;5;28;01mNone\u001b[39;00m)\n\u001b[1;32m    442\u001b[0m     \u001b[38;5;28;01mif\u001b[39;00m vendor_impl:\n",
      "\u001b[0;31mKeyboardInterrupt\u001b[0m: "
     ]
    }
   ],
   "source": [
    "cuenta = 0\n",
    "# for i, row in df_urls.iterrows():\n",
    "#     cuenta = cuenta + 1\n",
    "\n",
    "#     url = SiteURLResults.objects.get(pk=row['pk'])\n",
    "#     url.nombre      = row['nombre']\n",
    "#     url.marca       = row['marca']\n",
    "#     url.medida_cant = row['medida_cant']\n",
    "#     url.unidades    = row['unidades']\n",
    "#     url.idproducto  = row['idproducto']\n",
    "#     url.save()\n",
    "    \n",
    "updated_urls = []\n",
    "for i, row in df_urls.iterrows():\n",
    "    cuenta = cuenta + 1\n",
    "    url = SiteURLResults(\n",
    "        pk=row['pk'],\n",
    "        nombre=row['nombre'],\n",
    "        marca=row['marca'],\n",
    "        medida_cant=row['medida_cant'],\n",
    "        unidades=row['unidades'],\n",
    "        idproducto=row['idproducto']\n",
    "    )\n",
    "    updated_urls.append(url)\n",
    "\n",
    "SiteURLResults.objects.bulk_update(\n",
    "    updated_urls,\n",
    "    ['nombre', 'marca',  'medida_cant', 'unidades', 'idproducto']\n",
    ")"
   ]
  },
  {
   "cell_type": "code",
   "execution_count": null,
   "id": "c3aa5907",
   "metadata": {},
   "outputs": [],
   "source": [
    "print(cuenta)"
   ]
  },
  {
   "cell_type": "code",
   "execution_count": null,
   "id": "3f5aaea5",
   "metadata": {},
   "outputs": [],
   "source": []
  }
 ],
 "metadata": {
  "kernelspec": {
   "display_name": "Django Shell-Plus",
   "language": "python",
   "name": "django_extensions"
  },
  "language_info": {
   "codemirror_mode": {
    "name": "ipython",
    "version": 3
   },
   "file_extension": ".py",
   "mimetype": "text/x-python",
   "name": "python",
   "nbconvert_exporter": "python",
   "pygments_lexer": "ipython3",
   "version": "3.10.6"
  }
 },
 "nbformat": 4,
 "nbformat_minor": 5
}
